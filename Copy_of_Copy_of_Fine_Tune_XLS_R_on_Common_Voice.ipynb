{
  "cells": [
    {
      "cell_type": "markdown",
      "metadata": {
        "id": "view-in-github",
        "colab_type": "text"
      },
      "source": [
        "<a href=\"https://colab.research.google.com/github/AymanElmar/joha/blob/main/Copy_of_Copy_of_Fine_Tune_XLS_R_on_Common_Voice.ipynb\" target=\"_parent\"><img src=\"https://colab.research.google.com/assets/colab-badge.svg\" alt=\"Open In Colab\"/></a>"
      ]
    },
    {
      "cell_type": "markdown",
      "metadata": {
        "id": "LBSYoWbi-45k"
      },
      "source": [
        "# **Fine-tuning XLS-R for Multi-Lingual ASR with 🤗 Transformers**\n",
        "\n",
        "***New (11/2021)***: *This blog post has been updated to feature XLSR's successor, called [XLS-R](https://huggingface.co/models?other=xls_r)*."
      ]
    },
    {
      "cell_type": "markdown",
      "metadata": {
        "id": "V7YOT2mnUiea"
      },
      "source": [
        "**Wav2Vec2** is a pretrained model for Automatic Speech Recognition (ASR) and was released in [September 2020](https://ai.facebook.com/blog/wav2vec-20-learning-the-structure-of-speech-from-raw-audio/) by *Alexei Baevski, Michael Auli, and Alex Conneau*.  Soon after the superior performance of Wav2Vec2 was demonstrated on one of the most popular English datasets for ASR, called [LibriSpeech](https://huggingface.co/datasets/librispeech_asr), *Facebook AI* presented a multi-lingual version of Wav2Vec2, called [XLSR](https://arxiv.org/abs/2006.13979). XLSR stands for *cross-lingual speech representations* and refers to model's ability to learn speech representations that are useful across multiple languages.\n",
        "\n",
        "XLSR's successor, simply called **XLS-R** (refering to the [*''XLM-R*](https://ai.facebook.com/blog/-xlm-r-state-of-the-art-cross-lingual-understanding-through-self-supervision/) *for Speech''*), was released in [November 2021](https://ai.facebook.com/blog/xls-r-self-supervised-speech-processing-for-128-languages) by *Arun Babu, Changhan Wang, Andros Tjandra, et al.* XLS-R used almost **half a million** hours of audio data in 128 languages for self-supervised pre-training and comes in sizes ranging from 300 milion up to **two billion** parameters. You can find the pretrained checkpoints on the 🤗 Hub:\n",
        "\n",
        "- [**Wav2Vec2-XLS-R-300M**](https://huggingface.co/facebook/wav2vec2-xls-r-300m)\n",
        "- [**Wav2Vec2-XLS-R-1B**](https://huggingface.co/facebook/wav2vec2-xls-r-1b)\n",
        "- [**Wav2Vec2-XLS-R-2B**](https://huggingface.co/facebook/wav2vec2-xls-r-2b)\n",
        "\n",
        "Similar to [BERT's masked language modeling objective](http://jalammar.github.io/illustrated-bert/), XLS-R learns contextualized speech representations by randomly masking feature vectors before passing them to a transformer network during self-supervised pre-training (*i.e.* diagram on the left below). \n",
        "\n",
        "For fine-tuning, a single linear layer is added on top of the pre-trained network to train the model on labeled data of audio downstream tasks such as speech recognition, speech translation and audio classification (*i.e.* diagram on the right below).\n",
        "\n",
        "![wav2vec2_structure](https://raw.githubusercontent.com/patrickvonplaten/scientific_images/master/xls_r.png)\n",
        "\n",
        "XLS-R shows impressive improvements over previous state-of-the-art results on both speech recognition, speech translation and speaker/language identification, *cf.* with Table 3-6, Table 7-10, and Table 11-12 respectively of the official [paper](https://ai.facebook.com/blog/xls-r-self-supervised-speech-processing-for-128-languages)."
      ]
    },
    {
      "cell_type": "markdown",
      "metadata": {
        "id": "nT_QrfWtsxIz"
      },
      "source": [
        "## Notebook Setup"
      ]
    },
    {
      "cell_type": "markdown",
      "metadata": {
        "id": "kruqixOYHaIo"
      },
      "source": [
        "\n",
        "In this notebook, we will give an in-detail explanation of how XLS-R - more specifically the pre-trained checkpoint [**Wav2Vec2-XLS-R-300M**](https://huggingface.co/facebook/wav2vec2-xls-r-300m) - can be fine-tuned for ASR.  \n",
        "\n",
        "For demonstration purposes, we fine-tune the model on the low resource ASR dataset of [Common Voice](https://huggingface.co/datasets/common_voice) that contains only *ca.* 4h of validated training data."
      ]
    },
    {
      "cell_type": "markdown",
      "metadata": {
        "id": "Gx9OdDYrCtQ1"
      },
      "source": [
        "XLS-R is fine-tuned using Connectionist Temporal Classification (CTC), which is an algorithm that is used to train neural networks for sequence-to-sequence problems, such as ASR and handwriting recognition. \n",
        "\n",
        "I highly recommend reading the well-written blog post [*Sequence Modeling with CTC (2017)*](https://distill.pub/2017/ctc/) by Awni Hannun."
      ]
    },
    {
      "cell_type": "markdown",
      "metadata": {
        "id": "wcHuXIaWyHZU"
      },
      "source": [
        "First, let's try to get a good GPU in our colab! With Google Colab's free version it's sadly becoming much harder to get access to a good GPU. With Google Colab Pro, however, one should easily get either a V100 or P100 GPU."
      ]
    },
    {
      "cell_type": "code",
      "execution_count": null,
      "metadata": {
        "colab": {
          "base_uri": "https://localhost:8080/"
        },
        "id": "YELVqGxMxnbG",
        "outputId": "8e278b89-18bb-45c3-c8ab-0e0d52b7ef3d"
      },
      "outputs": [
        {
          "output_type": "stream",
          "name": "stdout",
          "text": [
            "/bin/bash: nvidia-smi: command not found\n"
          ]
        }
      ],
      "source": [
        "gpu_info = !nvidia-smi\n",
        "gpu_info = '\\n'.join(gpu_info)\n",
        "if gpu_info.find('failed') >= 0:\n",
        "  print('Not connected to a GPU')\n",
        "else:\n",
        "  print(gpu_info)"
      ]
    },
    {
      "cell_type": "markdown",
      "metadata": {
        "id": "e335hPmdtASZ"
      },
      "source": [
        "Before we start, let's install `datasets` and `transformers`. Also, we need the `torchaudio` to load audio files and `jiwer` to evaluate our fine-tuned model using the [word error rate (WER)](https://huggingface.co/metrics/wer) metric ${}^1$."
      ]
    },
    {
      "cell_type": "code",
      "execution_count": null,
      "metadata": {
        "id": "c8eh87Hoee5d"
      },
      "outputs": [],
      "source": [
        "%%capture\n",
        "!pip install datasets==1.18.3\n",
        "!pip install transformers==4.11.3\n",
        "!pip install torchaudio==0.10.0+cu113 -f https://download.pytorch.org/whl/cu113/torch_stable.html\n",
        "!pip install jiwer"
      ]
    },
    {
      "cell_type": "markdown",
      "metadata": {
        "id": "0xxt_LwxDQlO"
      },
      "source": [
        "We strongly suggest to upload your training checkpoints directly to the [🤗 Hub](https://huggingface.co/) while training. The [🤗 Hub](https://huggingface.co/) has integrated version control so you can be sure that no model checkpoint is getting lost during training. \n",
        "\n",
        "To do so you have to store your authentication token from the Hugging Face website (sign up [here](https://huggingface.co/join) if you haven't already!)"
      ]
    },
    {
      "cell_type": "code",
      "execution_count": null,
      "metadata": {
        "colab": {
          "base_uri": "https://localhost:8080/",
          "height": 331,
          "referenced_widgets": [
            "dfeb2991b9ab4dfcbff799bf5b330b78",
            "451b0b8427ed445391b8ec0996f501b3",
            "56e53540feb647bda83a3ce2899e9dfd",
            "d14824279b53486a9522be8c790b75f8",
            "e064055263da4bea969f4238c284c819",
            "46d49202f5894ddfba6b285af3d5d534",
            "2998f7d914f14e2d94474d2bcc66bdcf",
            "0698e8deb8f745558583e7fdf5d2a042",
            "8a8716a9ee8a4550ad41408c30aba861",
            "fe2f8cca212b4769b3f58c06bab73d5e",
            "e47703244172405cb847fdc2f3d8ada6",
            "f5a35b2fa45a420eab0af1893ac87a62",
            "ebaa0c54007549f79fd0856197ef8ed4",
            "32eff1db633d4bb2b5975a573cb8c366",
            "dbeab8cd66264d7cb77ae9af4e16301c",
            "4363633339774385bd9419b5c51dca39",
            "012e15c1cddc45048f0e2d932f6f8257"
          ]
        },
        "id": "mlMSH3T3EazV",
        "outputId": "fb2a691b-6ee1-47f0-ce28-1b64245a9b5a"
      },
      "outputs": [
        {
          "output_type": "stream",
          "name": "stdout",
          "text": [
            "Token is valid.\n",
            "Your token has been saved in your configured git credential helpers (store).\n",
            "Your token has been saved to /root/.cache/huggingface/token\n",
            "Login successful\n"
          ]
        }
      ],
      "source": [
        "from huggingface_hub import notebook_login\n",
        "\n",
        "notebook_login()"
      ]
    },
    {
      "cell_type": "markdown",
      "metadata": {
        "id": "ujdZ2TxhElk6"
      },
      "source": [
        "\n",
        "Then you need to install Git-LFS to upload your model checkpoints:"
      ]
    },
    {
      "cell_type": "code",
      "execution_count": null,
      "metadata": {
        "id": "WcR-d83OEkqb"
      },
      "outputs": [],
      "source": [
        "%%capture\n",
        "!apt install git-lfs"
      ]
    },
    {
      "cell_type": "markdown",
      "metadata": {
        "id": "Mn9swf6EQ9Vd"
      },
      "source": [
        "\n",
        "\n",
        "\n",
        "---\n",
        "\n",
        "${}^1$ In the [paper](https://arxiv.org/pdf/2006.13979.pdf), the model was evaluated using the phoneme error rate (PER), but by far the most common metric in ASR is the word error rate (WER). To keep this notebook as general as possible we decided to evaluate the model using WER."
      ]
    },
    {
      "cell_type": "markdown",
      "metadata": {
        "id": "0mW-C1Nt-j7k"
      },
      "source": [
        "## Prepare Data, Tokenizer, Feature Extractor"
      ]
    },
    {
      "cell_type": "markdown",
      "metadata": {
        "id": "BeBosnY9BH3e"
      },
      "source": [
        "ASR models transcribe speech to text, which means that we both need a feature extractor that processes the speech signal to the model's input format, *e.g.* a feature vector, and a tokenizer that processes the model's output format to text. \n",
        "\n",
        "In 🤗 Transformers, the XLS-R model is thus accompanied by both a tokenizer, called [Wav2Vec2CTCTokenizer](https://huggingface.co/transformers/master/model_doc/wav2vec2.html#wav2vec2ctctokenizer), and a feature extractor, called [Wav2Vec2FeatureExtractor](https://huggingface.co/transformers/master/model_doc/wav2vec2.html#wav2vec2featureextractor).\n",
        "\n",
        "Let's start by creating the tokenizer to decode the predicted output classes to the output transcription."
      ]
    },
    {
      "cell_type": "markdown",
      "metadata": {
        "id": "sEXEWEJGQPqD"
      },
      "source": [
        "### Create `Wav2Vec2CTCTokenizer`"
      ]
    },
    {
      "cell_type": "markdown",
      "metadata": {
        "id": "tWmMikuNEKl_"
      },
      "source": [
        "A pre-trained XLS-R model maps the speech signal to a sequence of context representations as illustrated in the figure above. However, for speech recognition the model has to to map this sequence of context representations to its corresponding transcription which means that a linear layer has to be added on top of the transformer block (shown in yellow in the diagram above). This linear layer is used to classifies each context representation to a token class analogous how, *e.g.*, after pretraining a linear layer is added on top of BERT's embeddings for further classification - *cf.* with *'BERT'* section of this [blog post](https://huggingface.co/blog/warm-starting-encoder-decoder)."
      ]
    },
    {
      "cell_type": "markdown",
      "metadata": {
        "id": "v5oRE8XjIUH3"
      },
      "source": [
        "The output size of this layer corresponds to the number of tokens in the vocabulary, which does **not** depend onXLS-R's pretraining task, but only on the labeled dataset used for fine-tuning. So in the first step, we will take a look at the chosen dataset of Common Voice and define a vocabulary based on the transcriptions."
      ]
    },
    {
      "cell_type": "markdown",
      "metadata": {
        "id": "idBczw8mWzgt"
      },
      "source": [
        "First, let's go to Common Voice [official website](https://commonvoice.mozilla.org/en/datasets) and pick a language to fine-tune XLS-R on. For this notebook, we will use Turkish. \n",
        "\n",
        "For each language-specific dataset, you can find a language code corresponding to your chosen language. On [Common Voice](https://commonvoice.mozilla.org/en/datasets), look for the field \"Version\". The language code then corresponds to the prefix before the underscore. For Turkish, *e.g.* the language code is `\"tr\"`.\n",
        "\n",
        "Great, now we can use 🤗 Datasets' simple API to download the data. The dataset name is `\"common_voice\"`, the configuration name corresponds to the language code, which is `\"tr\"` in our case."
      ]
    },
    {
      "cell_type": "markdown",
      "metadata": {
        "id": "bee4g9rpLxll"
      },
      "source": [
        "Common Voice has many different splits including `invalidated`, which refers to data that was not rated as \"clean enough\" to be considered useful. In this notebook, we will only make use of the splits `\"train\"`, `\"validation\"` and `\"test\"`. \n",
        "\n",
        "Because the Turkish dataset is so small, we will merge both the validation and training data into a training dataset and only use the test data for validation."
      ]
    },
    {
      "cell_type": "code",
      "execution_count": null,
      "metadata": {
        "colab": {
          "base_uri": "https://localhost:8080/"
        },
        "id": "2MMXcWFFgCXU",
        "outputId": "eb9abb15-0604-4f8b-edec-db6c4709312b"
      },
      "outputs": [
        {
          "output_type": "stream",
          "name": "stderr",
          "text": [
            "WARNING:datasets.builder:Using custom data configuration default\n",
            "WARNING:datasets.builder:Reusing dataset joha_dataset (/root/.cache/huggingface/datasets/aymanelmar___joha_dataset/default/0.0.0/fcb79f90ba2d5bed13c23bb58fdabc371547af726241ca79e32129a494e10e20)\n",
            "WARNING:datasets.builder:Using custom data configuration default\n",
            "WARNING:datasets.builder:Reusing dataset joha_dataset (/root/.cache/huggingface/datasets/aymanelmar___joha_dataset/default/0.0.0/fcb79f90ba2d5bed13c23bb58fdabc371547af726241ca79e32129a494e10e20)\n"
          ]
        }
      ],
      "source": [
        "from datasets import load_dataset, load_metric, Audio\n",
        "\n",
        "common_voice_train = load_dataset(\"aymanelmar/joha\", split=\"train+validation\")\n",
        "common_voice_test = load_dataset(\"aymanelmar/joha\", split=\"test\")"
      ]
    },
    {
      "cell_type": "markdown",
      "metadata": {
        "id": "ri5y5N_HMANq"
      },
      "source": [
        "Many ASR datasets only provide the target text, `'sentence'` for each audio array `'audio'` and file `'path'`. Common Voice actually provides much more information about each audio file, such as the `'accent'`, etc. Keeping the notebook as general as possible, we only consider the transcribed text for fine-tuning.\n",
        "\n"
      ]
    },
    {
      "cell_type": "code",
      "execution_count": null,
      "metadata": {
        "id": "kbyq6lDgQc2a"
      },
      "outputs": [],
      "source": [
        "common_voice_train = common_voice_train.cast_column(\"audio\", Audio(sampling_rate=16_000))\n",
        "common_voice_test = common_voice_test.cast_column(\"audio\", Audio(sampling_rate=16_000))"
      ]
    },
    {
      "cell_type": "markdown",
      "metadata": {
        "id": "Go9Hq4e4NDT9"
      },
      "source": [
        "Let's write a short function to display some random samples of the dataset and run it a couple of times to get a feeling for the transcriptions."
      ]
    },
    {
      "cell_type": "code",
      "execution_count": null,
      "metadata": {
        "id": "72737oog2F6U"
      },
      "outputs": [],
      "source": [
        "from datasets import ClassLabel\n",
        "import random\n",
        "import pandas as pd\n",
        "from IPython.display import display, HTML\n",
        "\n",
        "def show_random_elements(dataset, num_examples=10):\n",
        "    assert num_examples <= len(dataset), \"Can't pick more elements than there are in the dataset.\"\n",
        "    picks = []\n",
        "    for _ in range(num_examples):\n",
        "        pick = random.randint(0, len(dataset)-1)\n",
        "        while pick in picks:\n",
        "            pick = random.randint(0, len(dataset)-1)\n",
        "        picks.append(pick)\n",
        "    \n",
        "    df = pd.DataFrame(dataset[picks])\n",
        "    display(HTML(df.to_html()))"
      ]
    },
    {
      "cell_type": "code",
      "execution_count": null,
      "metadata": {
        "colab": {
          "base_uri": "https://localhost:8080/",
          "height": 363
        },
        "id": "K_JUmf3G3b9S",
        "outputId": "457f62f5-8c5d-44ea-d104-5b11f81a5492"
      },
      "outputs": [
        {
          "output_type": "display_data",
          "data": {
            "text/plain": [
              "<IPython.core.display.HTML object>"
            ],
            "text/html": [
              "<table border=\"1\" class=\"dataframe\">\n",
              "  <thead>\n",
              "    <tr style=\"text-align: right;\">\n",
              "      <th></th>\n",
              "      <th>words</th>\n",
              "      <th>duration</th>\n",
              "    </tr>\n",
              "  </thead>\n",
              "  <tbody>\n",
              "    <tr>\n",
              "      <th>0</th>\n",
              "      <td>انا دروكه كم صوره</td>\n",
              "      <td>4.013696145124716</td>\n",
              "    </tr>\n",
              "    <tr>\n",
              "      <th>1</th>\n",
              "      <td>يومين مر ماشافني وتصدم لقيتش الخضار في البنوك كامل</td>\n",
              "      <td>5.876122448979593</td>\n",
              "    </tr>\n",
              "    <tr>\n",
              "      <th>2</th>\n",
              "      <td>ثم حياتي</td>\n",
              "      <td>3.6066666666666665</td>\n",
              "    </tr>\n",
              "    <tr>\n",
              "      <th>3</th>\n",
              "      <td>زيت الياسمين سقطره العفاف البطوله الاسلاميه وتحدد</td>\n",
              "      <td>6.180884353741496</td>\n",
              "    </tr>\n",
              "    <tr>\n",
              "      <th>4</th>\n",
              "      <td>شوكولاته</td>\n",
              "      <td>2.3205668934240364</td>\n",
              "    </tr>\n",
              "    <tr>\n",
              "      <th>5</th>\n",
              "      <td>يلا اخرج برا</td>\n",
              "      <td>2.7559410430839004</td>\n",
              "    </tr>\n",
              "    <tr>\n",
              "      <th>6</th>\n",
              "      <td>كبير بزاف</td>\n",
              "      <td>1.3</td>\n",
              "    </tr>\n",
              "    <tr>\n",
              "      <th>7</th>\n",
              "      <td>كنت عندهم غير ربع ساعه</td>\n",
              "      <td>3.59766439909297</td>\n",
              "    </tr>\n",
              "    <tr>\n",
              "      <th>8</th>\n",
              "      <td>ام حيدر</td>\n",
              "      <td>3.0727210884353733</td>\n",
              "    </tr>\n",
              "    <tr>\n",
              "      <th>9</th>\n",
              "      <td>سعيد</td>\n",
              "      <td>3.843718820861678</td>\n",
              "    </tr>\n",
              "  </tbody>\n",
              "</table>"
            ]
          },
          "metadata": {}
        }
      ],
      "source": [
        "show_random_elements(common_voice_train.remove_columns([\"file_name\", \"audio\"]), num_examples=10)"
      ]
    },
    {
      "cell_type": "markdown",
      "metadata": {
        "id": "fowcOllGNNju"
      },
      "source": [
        "Alright! The transcriptions look fairly clean. Having translated the transcribed sentences, it seems that the language corresponds more to written-out text than noisy dialogue. This makes sense considering that [Common Voice](https://huggingface.co/datasets/common_voice) is a crowd-sourced read speech corpus."
      ]
    },
    {
      "cell_type": "markdown",
      "metadata": {
        "id": "vq7OR50LN49m"
      },
      "source": [
        "We can see that the transcriptions contain some special characters, such as `,.?!;:`. Without a language model, it is much harder to classify speech chunks to such special characters because they don't really correspond to a characteristic sound unit. *E.g.*, the letter `\"s\"` has a more or less clear sound, whereas the special character `\".\"` does not.\n",
        "Also in order to understand the meaning of a speech signal, it is usually not necessary to include special characters in the transcription.\n",
        "\n",
        "Let's simply remove all characters that don't contribute to the meaning of a word and cannot really be represented by an acoustic sound and normalize the text."
      ]
    },
    {
      "cell_type": "code",
      "execution_count": null,
      "metadata": {
        "id": "svKzVJ_hQGK6"
      },
      "outputs": [],
      "source": [
        "import re\n",
        "chars_to_remove_regex = '[\\,\\?\\.\\!\\-\\;\\:\\\"\\“\\%\\‘\\”\\�\\']'\n",
        "\n",
        "def remove_special_characters(batch):\n",
        "    batch[\"words\"] = re.sub(chars_to_remove_regex, '', batch[\"words\"]).lower()\n",
        "    return batch"
      ]
    },
    {
      "cell_type": "code",
      "execution_count": null,
      "metadata": {
        "colab": {
          "base_uri": "https://localhost:8080/",
          "height": 81,
          "referenced_widgets": [
            "af27350492974774a443f32ec60775f7",
            "34c007fd743f421c8c67e9e8aadd6d43",
            "46cb42da6d7643d4aa7947b934161cae",
            "11ca37511b4c476ea48f48e2b5570a74",
            "f82a9c0b8fad40738e47e9aae3f40ebc",
            "215578d7a8ed415dac13fcc6ce811153",
            "8f950c492af540d6bb7155f47cf76a6b",
            "af3a270d98474c1b84b9a70c0d9ec73b",
            "e3a1a8f674874156b25d67ea33ee6213",
            "952a8d5de38c43a085fb0068f0cd80f4",
            "2663200e769f48159ccd52ba03f302bd",
            "aef05de6f8d04792a21e8de0459df7a9",
            "87393a8783054b4ea3c6e81706d9e75c",
            "c075ebf479b8428eaea51aa6c48b4e76",
            "fe13975d1b644369b094c17a509e5639",
            "36c031fa88404aaa8a3cbf23f922d654",
            "88c381c250704142abf7710736a970b8",
            "c8cd94b7446a4aa39ed682e7ec2d30a4",
            "c26f55d2a0c344bf9d93a3c4fa564d29",
            "5656fe7bd6024a5b8f2662eec315173b",
            "59a4a965bd2c4c909f521c92dd850b3a",
            "9c7a0fd8e20e4f71b8b75b56835d4b83"
          ]
        },
        "id": "XIHocAuTQbBR",
        "outputId": "ccd5c042-0e8c-4886-d844-4aa9e5ab08b7"
      },
      "outputs": [
        {
          "output_type": "display_data",
          "data": {
            "text/plain": [
              "0ex [00:00, ?ex/s]"
            ],
            "application/vnd.jupyter.widget-view+json": {
              "version_major": 2,
              "version_minor": 0,
              "model_id": "af27350492974774a443f32ec60775f7"
            }
          },
          "metadata": {}
        },
        {
          "output_type": "display_data",
          "data": {
            "text/plain": [
              "0ex [00:00, ?ex/s]"
            ],
            "application/vnd.jupyter.widget-view+json": {
              "version_major": 2,
              "version_minor": 0,
              "model_id": "aef05de6f8d04792a21e8de0459df7a9"
            }
          },
          "metadata": {}
        }
      ],
      "source": [
        "common_voice_train = common_voice_train.map(remove_special_characters)\n",
        "common_voice_test = common_voice_test.map(remove_special_characters)"
      ]
    },
    {
      "cell_type": "markdown",
      "metadata": {
        "id": "TxnVS9gIhIma"
      },
      "source": [
        "Let's look at the processed text labels again."
      ]
    },
    {
      "cell_type": "code",
      "execution_count": null,
      "metadata": {
        "colab": {
          "base_uri": "https://localhost:8080/",
          "height": 363
        },
        "id": "RBDRAAYxRE6n",
        "outputId": "3a8ea7ac-fdcc-4cfa-b2e6-21726fc8033b"
      },
      "outputs": [
        {
          "output_type": "display_data",
          "data": {
            "text/plain": [
              "<IPython.core.display.HTML object>"
            ],
            "text/html": [
              "<table border=\"1\" class=\"dataframe\">\n",
              "  <thead>\n",
              "    <tr style=\"text-align: right;\">\n",
              "      <th></th>\n",
              "      <th>words</th>\n",
              "      <th>duration</th>\n",
              "    </tr>\n",
              "  </thead>\n",
              "  <tbody>\n",
              "    <tr>\n",
              "      <th>0</th>\n",
              "      <td>طوبه طوبه</td>\n",
              "      <td>2.8575283446712016</td>\n",
              "    </tr>\n",
              "    <tr>\n",
              "      <th>1</th>\n",
              "      <td>اذا ماحضرت</td>\n",
              "      <td>2.4221541950113377</td>\n",
              "    </tr>\n",
              "    <tr>\n",
              "      <th>2</th>\n",
              "      <td>مباغيش نخرج ليوم</td>\n",
              "      <td>1.5</td>\n",
              "    </tr>\n",
              "    <tr>\n",
              "      <th>3</th>\n",
              "      <td>وادي سالينو</td>\n",
              "      <td>3.2058276643990933</td>\n",
              "    </tr>\n",
              "    <tr>\n",
              "      <th>4</th>\n",
              "      <td>غير شوية</td>\n",
              "      <td>0.9</td>\n",
              "    </tr>\n",
              "    <tr>\n",
              "      <th>5</th>\n",
              "      <td>اصلا القاضي اللي فوق</td>\n",
              "      <td>3.409002267573696</td>\n",
              "    </tr>\n",
              "    <tr>\n",
              "      <th>6</th>\n",
              "      <td>انا من بين ناس</td>\n",
              "      <td>3.3486666666666665</td>\n",
              "    </tr>\n",
              "    <tr>\n",
              "      <th>7</th>\n",
              "      <td>النهار جيناك انت هديه اول مره</td>\n",
              "      <td>4.134625850340136</td>\n",
              "    </tr>\n",
              "    <tr>\n",
              "      <th>8</th>\n",
              "      <td>هل يعقل اخر ناجي الاسبوعين رزق حجر صحي عشر يا ام قطع</td>\n",
              "      <td>8.161666666666667</td>\n",
              "    </tr>\n",
              "    <tr>\n",
              "      <th>9</th>\n",
              "      <td>ولكن قبل ما تقتلني جاوبني</td>\n",
              "      <td>4.134625850340136</td>\n",
              "    </tr>\n",
              "  </tbody>\n",
              "</table>"
            ]
          },
          "metadata": {}
        }
      ],
      "source": [
        "show_random_elements(common_voice_train.remove_columns([\"file_name\",\"audio\"]))"
      ]
    },
    {
      "cell_type": "markdown",
      "metadata": {
        "id": "jwfaptH5RJwA"
      },
      "source": [
        "Good! This looks better. We have removed most special characters from transcriptions and normalized them to lower-case only.\n",
        "\n",
        "Before finalizing the pre-processing, it is always advantageous to consult a native speaker of the target language to see whether the text can be further simplified. \n",
        "For this blog post, [Merve](https://twitter.com/mervenoyann) was kind enough to take a quick look and noted that \"hatted\" characters - like `â` - aren't really used anymore in Turkish and can be replaced by their \"un-hatted\" equivalent, *e.g.* `a`. \n",
        "\n",
        "This means that we should replace a sentence like `\"yargı sistemi hâlâ sağlıksız\"` to `\"yargı sistemi hala sağlıksız\"`.\n",
        "\n",
        "Let's write another short mapping function to further simplify the text labels. Remember - the simler the text labels, the easier it is for the model to learn to predict those labels.\n",
        "\n"
      ]
    },
    {
      "cell_type": "code",
      "execution_count": null,
      "metadata": {
        "id": "aZcrz6z7lgGm"
      },
      "outputs": [],
      "source": [
        "def replace_hatted_characters(batch):\n",
        "    batch[\"words\"] = re.sub('[أ]', 'ا', batch[\"words\"])\n",
        "    batch[\"words\"] = re.sub('[إ]', 'ا', batch[\"words\"])\n",
        "    batch[\"words\"] = re.sub('[ؤ]', 'ا', batch[\"words\"])\n",
        "    batch[\"words\"] = re.sub('[ئ]', 'ا', batch[\"words\"])\n",
        "    batch[\"words\"] = re.sub('[ء]', 'ا', batch[\"words\"])\n",
        "    batch[\"words\"] = re.sub('[ة]', 'ه', batch[\"words\"])\n",
        "    return batch"
      ]
    },
    {
      "cell_type": "code",
      "execution_count": null,
      "metadata": {
        "colab": {
          "base_uri": "https://localhost:8080/",
          "height": 81,
          "referenced_widgets": [
            "5c968adeff704b9fae4a3aacfe28c904",
            "c10a976f76b34393b5c82f32893a37aa",
            "9dbf54ca0dbd4d24a36805e3cac5217b",
            "f51eb13d5d6744ce82d6f4ed17b1e6d0",
            "a0023856298644fa9e744da7edc8f49e",
            "f7771611245b4d0c9ab9a68b4ed092ca",
            "b9dd7bd1df354097bcef2f6e4d4d1b6d",
            "bd3f8bc6474246ff85a6d959e5a4d256",
            "e64d8b6abf29419982a8b1efa589662f",
            "e42e373042484545901679ebc1c26210",
            "e172ec0626b74f20bfcb0f7d9054402b",
            "27d9d68eb9694222a933fff53a370cba",
            "6f61ce49c01541a584719dfbd5d855e6",
            "2806da3ba1c6475e8018108e2bdd2951",
            "2b5cecc603354b5eb4704a82fd4527a9",
            "0b5914f9df16440c9834a03518b1c42d",
            "d05a443f5cb24477b744d17ad98fbd45",
            "60d38237baf24448a4395f0917ff8599",
            "f5eba302f04c45c7bdcf954d910a938f",
            "899a5fbeb1b44bae88c8de625de23572",
            "4c2d9ee0285a4304b1d3abb702d5584f",
            "9836dc0d6c364b58a9606a5fd56aa874"
          ]
        },
        "id": "ieGhhND5mSwI",
        "outputId": "a8f7f0e8-4913-4bef-f588-d14f53273dfd"
      },
      "outputs": [
        {
          "output_type": "display_data",
          "data": {
            "text/plain": [
              "0ex [00:00, ?ex/s]"
            ],
            "application/vnd.jupyter.widget-view+json": {
              "version_major": 2,
              "version_minor": 0,
              "model_id": "5c968adeff704b9fae4a3aacfe28c904"
            }
          },
          "metadata": {}
        },
        {
          "output_type": "display_data",
          "data": {
            "text/plain": [
              "0ex [00:00, ?ex/s]"
            ],
            "application/vnd.jupyter.widget-view+json": {
              "version_major": 2,
              "version_minor": 0,
              "model_id": "27d9d68eb9694222a933fff53a370cba"
            }
          },
          "metadata": {}
        }
      ],
      "source": [
        "common_voice_train = common_voice_train.map(replace_hatted_characters)\n",
        "common_voice_test = common_voice_test.map(replace_hatted_characters)"
      ]
    },
    {
      "cell_type": "markdown",
      "metadata": {
        "id": "3ORHDb2Th2TW"
      },
      "source": [
        "In CTC, it is common to classify speech chunks into letters, so we will do the same here. \n",
        "Let's extract all distinct letters of the training and test data and build our vocabulary from this set of letters.\n",
        "\n",
        "We write a mapping function that concatenates all transcriptions into one long transcription and then transforms the string into a set of chars. \n",
        "It is important to pass the argument `batched=True` to the `map(...)` function so that the mapping function has access to all transcriptions at once."
      ]
    },
    {
      "cell_type": "code",
      "execution_count": null,
      "metadata": {
        "id": "LwCshNbbeRZR"
      },
      "outputs": [],
      "source": [
        "def extract_all_chars(batch):\n",
        "  all_text = \" \".join(batch[\"words\"])\n",
        "  vocab = list(set(all_text))\n",
        "  return {\"vocab\": [vocab], \"all_text\": [all_text]}"
      ]
    },
    {
      "cell_type": "code",
      "execution_count": null,
      "metadata": {
        "colab": {
          "base_uri": "https://localhost:8080/",
          "height": 81,
          "referenced_widgets": [
            "d4bb6fc5099b4a939ade0932dfa3ff83",
            "c0340a8ff7a848b6818f4530e1424646",
            "cd9df74bfc0d4f078ca5a33b5f6b137d",
            "a3d0a9da391944a49738819c452a2101",
            "e02fce7c1d0f4cedba64279ad20ff601",
            "18bf558903e24861a149e4bfa9d55a0d",
            "9428d0285b7b4f39a11c2a48097859b9",
            "df0951989a3b448594d9f0220ac71fe4",
            "80be2600a8f049d899938f3e72a50fcc",
            "4b8756eb529442918fddf9b87a0af3ab",
            "3d62a8a21a7d4f3d909ef79b3c4cc2a1",
            "371a60e12c0844969d8af39e2196b858",
            "38403283a6e244c09e48a2e921013f16",
            "9d8659a03ed6456f94c4a279375c16ba",
            "33a94a57505e4fd6b3a1fbf8bda0e7be",
            "4ec2242617c246b2880eeedbc2f66c02",
            "5b139c036315492cba10d571ba1d3a88",
            "9d2106a6c1e54db58e37176b8fda0b84",
            "1fc1a0b099de42f18dc8f51d4891edd0",
            "33a7c4518e954cd68a0bd27f55d6c410",
            "5b29c337f287468d80f504b5ac1cd5ff",
            "5625cfb84b27420088e58568b815be9b"
          ]
        },
        "id": "_m6uUjjcfbjH",
        "outputId": "2f040960-064c-4be8-de1d-9feae425322e"
      },
      "outputs": [
        {
          "output_type": "display_data",
          "data": {
            "text/plain": [
              "  0%|          | 0/1 [00:00<?, ?ba/s]"
            ],
            "application/vnd.jupyter.widget-view+json": {
              "version_major": 2,
              "version_minor": 0,
              "model_id": "d4bb6fc5099b4a939ade0932dfa3ff83"
            }
          },
          "metadata": {}
        },
        {
          "output_type": "display_data",
          "data": {
            "text/plain": [
              "  0%|          | 0/1 [00:00<?, ?ba/s]"
            ],
            "application/vnd.jupyter.widget-view+json": {
              "version_major": 2,
              "version_minor": 0,
              "model_id": "371a60e12c0844969d8af39e2196b858"
            }
          },
          "metadata": {}
        }
      ],
      "source": [
        "vocab_train = common_voice_train.map(extract_all_chars, batched=True, batch_size=-1, keep_in_memory=True, remove_columns=common_voice_train.column_names)\n",
        "vocab_test = common_voice_test.map(extract_all_chars, batched=True, batch_size=-1, keep_in_memory=True, remove_columns=common_voice_test.column_names)"
      ]
    },
    {
      "cell_type": "markdown",
      "metadata": {
        "id": "7oVgE8RZSJNP"
      },
      "source": [
        "Now, we create the union of all distinct letters in the training dataset and test dataset and convert the resulting list into an enumerated dictionary."
      ]
    },
    {
      "cell_type": "code",
      "execution_count": null,
      "metadata": {
        "id": "aQfneNsmlJI0"
      },
      "outputs": [],
      "source": [
        "vocab_list = list(set(vocab_train[\"vocab\"][0]) | set(vocab_test[\"vocab\"][0]))"
      ]
    },
    {
      "cell_type": "code",
      "execution_count": null,
      "metadata": {
        "colab": {
          "base_uri": "https://localhost:8080/"
        },
        "id": "_0kRndSvqaKk",
        "outputId": "4c907f3e-198f-4dd8-97bf-be10f7b0f1c2"
      },
      "outputs": [
        {
          "output_type": "execute_result",
          "data": {
            "text/plain": [
              "{' ': 0,\n",
              " 'ا': 1,\n",
              " 'ب': 2,\n",
              " 'ت': 3,\n",
              " 'ث': 4,\n",
              " 'ج': 5,\n",
              " 'ح': 6,\n",
              " 'خ': 7,\n",
              " 'د': 8,\n",
              " 'ذ': 9,\n",
              " 'ر': 10,\n",
              " 'ز': 11,\n",
              " 'س': 12,\n",
              " 'ش': 13,\n",
              " 'ص': 14,\n",
              " 'ض': 15,\n",
              " 'ط': 16,\n",
              " 'ظ': 17,\n",
              " 'ع': 18,\n",
              " 'غ': 19,\n",
              " 'ف': 20,\n",
              " 'ق': 21,\n",
              " 'ك': 22,\n",
              " 'ل': 23,\n",
              " 'م': 24,\n",
              " 'ن': 25,\n",
              " 'ه': 26,\n",
              " 'و': 27,\n",
              " 'ي': 28}"
            ]
          },
          "metadata": {},
          "execution_count": 70
        }
      ],
      "source": [
        "vocab_dict = {v: k for k, v in enumerate(sorted(vocab_list))}\n",
        "vocab_dict"
      ]
    },
    {
      "cell_type": "markdown",
      "metadata": {
        "id": "JOSzbvs9SXT1"
      },
      "source": [
        "Cool, we see that all letters of the alphabet occur in the dataset (which is not really surprising) and we also extracted the special characters `\"\"` and `'`. Note that we did not exclude those special characters because: \n",
        "\n",
        "The model has to learn to predict when a word is finished or else the model prediction would always be a sequence of chars which would make it impossible to separate words from each other.\n",
        "\n",
        "One should always keep in mind that pre-processing is a very important step before training your model. E.g., we don't want our model to differentiate between `a` and `A` just because we forgot to normalize the data. The difference between `a` and `A` does not depend on the \"sound\" of the letter at all, but more on grammatical rules - *e.g.* use a capitalized letter at the beginning of the sentence. So it is sensible to remove the difference between capitalized and non-capitalized letters so that the model has an easier time learning to transcribe speech. "
      ]
    },
    {
      "cell_type": "markdown",
      "metadata": {
        "id": "b1fBRCn-TRaO"
      },
      "source": [
        "To make it clearer that `\" \"` has its own token class, we give it a more visible character `|`. In addition, we also add an \"unknown\" token so that the model can later deal with characters not encountered in Common Voice's training set. "
      ]
    },
    {
      "cell_type": "code",
      "execution_count": null,
      "metadata": {
        "id": "npbIbBoLgaFX"
      },
      "outputs": [],
      "source": [
        "vocab_dict[\"|\"] = vocab_dict[\" \"]\n",
        "del vocab_dict[\" \"]"
      ]
    },
    {
      "cell_type": "markdown",
      "metadata": {
        "id": "_9yCWg4Sd0cb"
      },
      "source": [
        "Finally, we also add a padding token that corresponds to CTC's \"*blank token*\". The \"blank token\" is a core component of the CTC algorithm. For more information, please take a look at the \"Alignment\" section [here](https://distill.pub/2017/ctc/)."
      ]
    },
    {
      "cell_type": "code",
      "execution_count": null,
      "metadata": {
        "colab": {
          "base_uri": "https://localhost:8080/"
        },
        "id": "znF0bNunsjbl",
        "outputId": "b4b00472-5ab1-41c6-f8a5-da767d5224f6"
      },
      "outputs": [
        {
          "output_type": "execute_result",
          "data": {
            "text/plain": [
              "31"
            ]
          },
          "metadata": {},
          "execution_count": 72
        }
      ],
      "source": [
        "vocab_dict[\"[UNK]\"] = len(vocab_dict)\n",
        "vocab_dict[\"[PAD]\"] = len(vocab_dict)\n",
        "len(vocab_dict)"
      ]
    },
    {
      "cell_type": "markdown",
      "metadata": {
        "id": "SFPGfet8U5sL"
      },
      "source": [
        "Cool, now our vocabulary is complete and consists of 39 tokens, which means that the linear layer that we will add on top of the pretrained XLS-R checkpoint will have an output dimension of 39."
      ]
    },
    {
      "cell_type": "markdown",
      "metadata": {
        "id": "1CujRgBNVRaD"
      },
      "source": [
        "Let's now save the vocabulary as a json file."
      ]
    },
    {
      "cell_type": "code",
      "execution_count": null,
      "metadata": {
        "id": "ehyUoh9vk191"
      },
      "outputs": [],
      "source": [
        "import json\n",
        "with open('vocab.json', 'w') as vocab_file:\n",
        "    json.dump(vocab_dict, vocab_file)"
      ]
    },
    {
      "cell_type": "markdown",
      "metadata": {
        "id": "SHJDaKlIVVim"
      },
      "source": [
        "In a final step, we use the json file to load the vocabulary into an instance of the `Wav2Vec2CTCTokenizer` class."
      ]
    },
    {
      "cell_type": "code",
      "execution_count": null,
      "metadata": {
        "colab": {
          "base_uri": "https://localhost:8080/"
        },
        "id": "xriFGEWQkO4M",
        "outputId": "4837c6e7-bfd0-4766-a4f7-59b3326b41ac"
      },
      "outputs": [
        {
          "output_type": "stream",
          "name": "stderr",
          "text": [
            "file ./config.json not found\n",
            "Special tokens have been added in the vocabulary, make sure the associated word embeddings are fine-tuned or trained.\n"
          ]
        }
      ],
      "source": [
        "from transformers import Wav2Vec2CTCTokenizer\n",
        "\n",
        "tokenizer = Wav2Vec2CTCTokenizer.from_pretrained(\"./\", unk_token=\"[UNK]\", pad_token=\"[PAD]\", word_delimiter_token=\"|\")"
      ]
    },
    {
      "cell_type": "markdown",
      "metadata": {
        "id": "KvL12DrNV4cx"
      },
      "source": [
        "If one wants to re-use the just created tokenizer with the fine-tuned model of this notebook, it is strongly advised to upload the `tokenizer` to the [🤗 Hub](https://huggingface.co/). Let's call the repo to which we will upload the files\n",
        "`\"wav2vec2-large-xlsr-turkish-demo-colab\"`:"
      ]
    },
    {
      "cell_type": "code",
      "execution_count": null,
      "metadata": {
        "id": "A1XApZBAF2zr"
      },
      "outputs": [],
      "source": [
        "repo_name = \"aymanelmar/joha\""
      ]
    },
    {
      "cell_type": "markdown",
      "metadata": {
        "id": "B1BiezWZF16d"
      },
      "source": [
        "and upload the tokenizer to the [🤗 Hub](https://huggingface.co/)."
      ]
    },
    {
      "cell_type": "code",
      "execution_count": null,
      "metadata": {
        "colab": {
          "base_uri": "https://localhost:8080/",
          "height": 329
        },
        "id": "zytE1175GAKM",
        "outputId": "91713603-c21e-4b21-f1af-842a9fee9f8f"
      },
      "outputs": [
        {
          "output_type": "error",
          "ename": "TypeError",
          "evalue": "ignored",
          "traceback": [
            "\u001b[0;31m---------------------------------------------------------------------------\u001b[0m",
            "\u001b[0;31mTypeError\u001b[0m                                 Traceback (most recent call last)",
            "\u001b[0;32m<ipython-input-76-310b065d4f39>\u001b[0m in \u001b[0;36m<cell line: 1>\u001b[0;34m()\u001b[0m\n\u001b[0;32m----> 1\u001b[0;31m \u001b[0mtokenizer\u001b[0m\u001b[0;34m.\u001b[0m\u001b[0mpush_to_hub\u001b[0m\u001b[0;34m(\u001b[0m\u001b[0;34m\"https://huggingface.co/datasets/aymanelmar/joha\"\u001b[0m\u001b[0;34m)\u001b[0m\u001b[0;34m\u001b[0m\u001b[0;34m\u001b[0m\u001b[0m\n\u001b[0m",
            "\u001b[0;32m/usr/local/lib/python3.9/dist-packages/transformers/file_utils.py\u001b[0m in \u001b[0;36mpush_to_hub\u001b[0;34m(self, repo_path_or_name, repo_url, use_temp_dir, commit_message, organization, private, use_auth_token)\u001b[0m\n\u001b[1;32m   2170\u001b[0m \u001b[0;34m\u001b[0m\u001b[0m\n\u001b[1;32m   2171\u001b[0m         \u001b[0;31m# Create or clone the repo. If the repo is already cloned, this just retrieves the path to the repo.\u001b[0m\u001b[0;34m\u001b[0m\u001b[0;34m\u001b[0m\u001b[0m\n\u001b[0;32m-> 2172\u001b[0;31m         repo = self._create_or_get_repo(\n\u001b[0m\u001b[1;32m   2173\u001b[0m             \u001b[0mrepo_path_or_name\u001b[0m\u001b[0;34m=\u001b[0m\u001b[0mrepo_path_or_name\u001b[0m\u001b[0;34m,\u001b[0m\u001b[0;34m\u001b[0m\u001b[0;34m\u001b[0m\u001b[0m\n\u001b[1;32m   2174\u001b[0m             \u001b[0mrepo_url\u001b[0m\u001b[0;34m=\u001b[0m\u001b[0mrepo_url\u001b[0m\u001b[0;34m,\u001b[0m\u001b[0;34m\u001b[0m\u001b[0;34m\u001b[0m\u001b[0m\n",
            "\u001b[0;32m/usr/local/lib/python3.9/dist-packages/transformers/file_utils.py\u001b[0m in \u001b[0;36m_create_or_get_repo\u001b[0;34m(cls, repo_path_or_name, repo_url, organization, private, use_auth_token)\u001b[0m\n\u001b[1;32m   2238\u001b[0m         \u001b[0;32mif\u001b[0m \u001b[0mrepo_url\u001b[0m \u001b[0;32mis\u001b[0m \u001b[0;32mNone\u001b[0m \u001b[0;32mand\u001b[0m \u001b[0;32mnot\u001b[0m \u001b[0mos\u001b[0m\u001b[0;34m.\u001b[0m\u001b[0mpath\u001b[0m\u001b[0;34m.\u001b[0m\u001b[0mexists\u001b[0m\u001b[0;34m(\u001b[0m\u001b[0mrepo_path_or_name\u001b[0m\u001b[0;34m)\u001b[0m\u001b[0;34m:\u001b[0m\u001b[0;34m\u001b[0m\u001b[0;34m\u001b[0m\u001b[0m\n\u001b[1;32m   2239\u001b[0m             \u001b[0mrepo_name\u001b[0m \u001b[0;34m=\u001b[0m \u001b[0mPath\u001b[0m\u001b[0;34m(\u001b[0m\u001b[0mrepo_path_or_name\u001b[0m\u001b[0;34m)\u001b[0m\u001b[0;34m.\u001b[0m\u001b[0mname\u001b[0m\u001b[0;34m\u001b[0m\u001b[0;34m\u001b[0m\u001b[0m\n\u001b[0;32m-> 2240\u001b[0;31m             repo_url = cls._get_repo_url_from_name(\n\u001b[0m\u001b[1;32m   2241\u001b[0m                 \u001b[0mrepo_name\u001b[0m\u001b[0;34m,\u001b[0m \u001b[0morganization\u001b[0m\u001b[0;34m=\u001b[0m\u001b[0morganization\u001b[0m\u001b[0;34m,\u001b[0m \u001b[0mprivate\u001b[0m\u001b[0;34m=\u001b[0m\u001b[0mprivate\u001b[0m\u001b[0;34m,\u001b[0m \u001b[0muse_auth_token\u001b[0m\u001b[0;34m=\u001b[0m\u001b[0muse_auth_token\u001b[0m\u001b[0;34m\u001b[0m\u001b[0;34m\u001b[0m\u001b[0m\n\u001b[1;32m   2242\u001b[0m             )\n",
            "\u001b[0;32m/usr/local/lib/python3.9/dist-packages/transformers/file_utils.py\u001b[0m in \u001b[0;36m_get_repo_url_from_name\u001b[0;34m(repo_name, organization, private, use_auth_token)\u001b[0m\n\u001b[1;32m   2209\u001b[0m \u001b[0;34m\u001b[0m\u001b[0m\n\u001b[1;32m   2210\u001b[0m         \u001b[0;31m# Special provision for the test endpoint (CI)\u001b[0m\u001b[0;34m\u001b[0m\u001b[0;34m\u001b[0m\u001b[0m\n\u001b[0;32m-> 2211\u001b[0;31m         return HfApi(endpoint=HUGGINGFACE_CO_RESOLVE_ENDPOINT).create_repo(\n\u001b[0m\u001b[1;32m   2212\u001b[0m             \u001b[0mtoken\u001b[0m\u001b[0;34m,\u001b[0m\u001b[0;34m\u001b[0m\u001b[0;34m\u001b[0m\u001b[0m\n\u001b[1;32m   2213\u001b[0m             \u001b[0mrepo_name\u001b[0m\u001b[0;34m,\u001b[0m\u001b[0;34m\u001b[0m\u001b[0;34m\u001b[0m\u001b[0m\n",
            "\u001b[0;32m/usr/local/lib/python3.9/dist-packages/huggingface_hub/utils/_validators.py\u001b[0m in \u001b[0;36m_inner_fn\u001b[0;34m(*args, **kwargs)\u001b[0m\n\u001b[1;32m    118\u001b[0m             \u001b[0mkwargs\u001b[0m \u001b[0;34m=\u001b[0m \u001b[0msmoothly_deprecate_use_auth_token\u001b[0m\u001b[0;34m(\u001b[0m\u001b[0mfn_name\u001b[0m\u001b[0;34m=\u001b[0m\u001b[0mfn\u001b[0m\u001b[0;34m.\u001b[0m\u001b[0m__name__\u001b[0m\u001b[0;34m,\u001b[0m \u001b[0mhas_token\u001b[0m\u001b[0;34m=\u001b[0m\u001b[0mhas_token\u001b[0m\u001b[0;34m,\u001b[0m \u001b[0mkwargs\u001b[0m\u001b[0;34m=\u001b[0m\u001b[0mkwargs\u001b[0m\u001b[0;34m)\u001b[0m\u001b[0;34m\u001b[0m\u001b[0;34m\u001b[0m\u001b[0m\n\u001b[1;32m    119\u001b[0m \u001b[0;34m\u001b[0m\u001b[0m\n\u001b[0;32m--> 120\u001b[0;31m         \u001b[0;32mreturn\u001b[0m \u001b[0mfn\u001b[0m\u001b[0;34m(\u001b[0m\u001b[0;34m*\u001b[0m\u001b[0margs\u001b[0m\u001b[0;34m,\u001b[0m \u001b[0;34m**\u001b[0m\u001b[0mkwargs\u001b[0m\u001b[0;34m)\u001b[0m\u001b[0;34m\u001b[0m\u001b[0;34m\u001b[0m\u001b[0m\n\u001b[0m\u001b[1;32m    121\u001b[0m \u001b[0;34m\u001b[0m\u001b[0m\n\u001b[1;32m    122\u001b[0m     \u001b[0;32mreturn\u001b[0m \u001b[0m_inner_fn\u001b[0m  \u001b[0;31m# type: ignore\u001b[0m\u001b[0;34m\u001b[0m\u001b[0;34m\u001b[0m\u001b[0m\n",
            "\u001b[0;31mTypeError\u001b[0m: create_repo() got an unexpected keyword argument 'organization'"
          ]
        }
      ],
      "source": [
        "tokenizer.push_to_hub(\"https://huggingface.co/datasets/aymanelmar/joha\")"
      ]
    },
    {
      "cell_type": "markdown",
      "metadata": {
        "id": "SwQM8lH_GGuP"
      },
      "source": [
        "Great, you can see the just created repository under `https://huggingface.co/<your-username>/wav2vec2-large-xls-r-300m-tr-colab`"
      ]
    },
    {
      "cell_type": "markdown",
      "metadata": {
        "id": "mYcIiR2FQ96i"
      },
      "source": [
        "### Create `Wav2Vec2FeatureExtractor`"
      ]
    },
    {
      "cell_type": "markdown",
      "metadata": {
        "id": "Y6mDEyW719rx"
      },
      "source": [
        "Speech is a continuous signal and to be treated by computers, it first has to be discretized, which is usually called **sampling**. The sampling rate hereby plays an important role in that it defines how many data points of the speech signal are measured per second. Therefore, sampling with a higher sampling rate results in a better approximation of the *real* speech signal but also necessitates more values per second.\n",
        "\n",
        "A pretrained checkpoint expects its input data to have been sampled more or less from the same distribution as the data it was trained on. The same speech signals sampled at two different rates have a very different distribution, *e.g.*, doubling the sampling rate results in data points being twice as long. Thus, \n",
        "before fine-tuning a pretrained checkpoint of an ASR model, it is crucial to verify that the sampling rate of the data that was used to pretrain the model matches the sampling rate of the dataset used to fine-tune the model.\n",
        "\n",
        "XLS-R was pretrained on audio data of [Babel](http://www.reading.ac.uk/AcaDepts/ll/speechlab/babel/r), \n",
        "[Multilingual LibriSpeech (MLS)](https://huggingface.co/datasets/multilingual_librispeech), [Common Voice](https://huggingface.co/datasets/common_voice), [VoxPopuli](https://arxiv.org/abs/2101.00390), and [VoxLingua107](https://arxiv.org/abs/2011.12998) at a sampling rate of 16kHz. Common Voice, in its original form, has a sampling rate of 48kHz, thus we will have to downsample the fine-tuning data to 16kHz in the following.\n",
        "\n"
      ]
    },
    {
      "cell_type": "markdown",
      "metadata": {
        "id": "KuUbPW7oV-B5"
      },
      "source": [
        "A `Wav2Vec2FeatureExtractor` object requires the following parameters to be instantiated:\n",
        "\n",
        "- `feature_size`: Speech models take a sequence of feature vectors as an input. While the length of this sequence obviously varies, the feature size should not. In the case of Wav2Vec2, the feature size is 1 because the model was trained on the raw speech signal ${}^2$.\n",
        "- `sampling_rate`: The sampling rate at which the model is trained on.\n",
        "- `padding_value`: For batched inference, shorter inputs need to be padded with a specific value\n",
        "- `do_normalize`: Whether the input should be *zero-mean-unit-variance* normalized or not. Usually, speech models perform better when normalizing the input\n",
        "- `return_attention_mask`: Whether the model should make use of an `attention_mask` for batched inference. In general, XLS-R models checkpoints should **always** use the `attention_mask`."
      ]
    },
    {
      "cell_type": "code",
      "execution_count": null,
      "metadata": {
        "id": "kAR0-2KLkopp"
      },
      "outputs": [],
      "source": [
        "from transformers import Wav2Vec2FeatureExtractor\n",
        "\n",
        "feature_extractor = Wav2Vec2FeatureExtractor(feature_size=1, sampling_rate=16000, padding_value=0.0, do_normalize=True, return_attention_mask=True)"
      ]
    },
    {
      "cell_type": "markdown",
      "metadata": {
        "id": "qUETetgqYC3W"
      },
      "source": [
        "Great, XLS-R's feature extraction pipeline is thereby fully defined!\n",
        "\n",
        "For improved user-friendliness, the feature extractor and tokenizer are *wrapped* into a single `Wav2Vec2Processor` class so that one only needs a `model` and `processor` object."
      ]
    },
    {
      "cell_type": "code",
      "execution_count": null,
      "metadata": {
        "id": "KYZtoW-tlZgl"
      },
      "outputs": [],
      "source": [
        "from transformers import Wav2Vec2Processor\n",
        "\n",
        "processor = Wav2Vec2Processor(feature_extractor=feature_extractor, tokenizer=tokenizer)"
      ]
    },
    {
      "cell_type": "markdown",
      "metadata": {
        "id": "DrKnYuvDIoOO"
      },
      "source": [
        "Next, we can prepare the dataset."
      ]
    },
    {
      "cell_type": "markdown",
      "metadata": {
        "id": "YFmShnl7RE35"
      },
      "source": [
        "### Preprocess Data\n",
        "\n",
        "So far, we have not looked at the actual values of the speech signal but just the transcription. In addition to `sentence`, our datasets include two more column names `path` and `audio`. `path` states the absolute path of the audio file. Let's take a look.\n"
      ]
    },
    {
      "cell_type": "code",
      "execution_count": null,
      "metadata": {
        "colab": {
          "base_uri": "https://localhost:8080/",
          "height": 35
        },
        "id": "TTCS7W6XJ9BG",
        "outputId": "355211b6-6612-4812-d175-2d2cbe983cc3"
      },
      "outputs": [
        {
          "output_type": "execute_result",
          "data": {
            "text/plain": [
              "'data/train/006c6ebe-d25f-41ce-9fcf-5f30faca472c.wav'"
            ],
            "application/vnd.google.colaboratory.intrinsic+json": {
              "type": "string"
            }
          },
          "metadata": {},
          "execution_count": 79
        }
      ],
      "source": [
        "common_voice_train[0][\"file_name\"]"
      ]
    },
    {
      "cell_type": "markdown",
      "metadata": {
        "id": "T6ndIjHGFp0W"
      },
      "source": [
        "XLS-R expects the input in the format of a 1-dimensional array of 16 kHz. This means that the audio file has to be loaded and resampled.\n",
        "\n",
        " Thankfully, `datasets` does this automatically by calling the other column `audio`. Let try it out. "
      ]
    },
    {
      "cell_type": "code",
      "execution_count": null,
      "metadata": {
        "colab": {
          "base_uri": "https://localhost:8080/"
        },
        "id": "qj_z5Zc3GAs9",
        "outputId": "33ac41cb-4eb4-41ef-d1ee-86f5a2a395d9"
      },
      "outputs": [
        {
          "output_type": "execute_result",
          "data": {
            "text/plain": [
              "{'path': None,\n",
              " 'array': array([-0.35049438, -0.35049438, -0.35049438, ..., -0.31188965,\n",
              "        -0.31225586, -0.31155396]),\n",
              " 'sampling_rate': 16000}"
            ]
          },
          "metadata": {},
          "execution_count": 80
        }
      ],
      "source": [
        "common_voice_train[0][\"audio\"]"
      ]
    },
    {
      "cell_type": "markdown",
      "metadata": {
        "id": "WUUTgI1bGHW-"
      },
      "source": [
        "Great, we can see that the audio file has automatically been loaded. This is thanks to the new [`\"Audio\"` feature](https://huggingface.co/docs/datasets/package_reference/main_classes.html?highlight=audio#datasets.Audio) introduced in `datasets == 4.13.3`, which loads and resamples audio files on-the-fly upon calling.\n",
        "\n",
        "In the example above we can see that the audio data is loaded with a sampling rate of 48kHz whereas 16kHz are expected by the model. We can set the audio feature to the correct sampling rate by making use of [`cast_column`](https://huggingface.co/docs/datasets/package_reference/main_classes.html?highlight=cast_column#datasets.DatasetDict.cast_column):"
      ]
    },
    {
      "cell_type": "code",
      "execution_count": null,
      "metadata": {
        "id": "rrv65aj7G95i"
      },
      "outputs": [],
      "source": [
        "common_voice_train = common_voice_train.cast_column(\"audio\", Audio(sampling_rate=16_000))\n",
        "common_voice_test = common_voice_test.cast_column(\"audio\", Audio(sampling_rate=16_000))"
      ]
    },
    {
      "cell_type": "markdown",
      "metadata": {
        "id": "PcnO4x-NGBEi"
      },
      "source": [
        "Let's take a look at `\"audio\"` again."
      ]
    },
    {
      "cell_type": "code",
      "execution_count": null,
      "metadata": {
        "colab": {
          "base_uri": "https://localhost:8080/"
        },
        "id": "aKtkc1o_HWHC",
        "outputId": "6b4cf045-8693-469e-e791-15a4cb416f56"
      },
      "outputs": [
        {
          "output_type": "execute_result",
          "data": {
            "text/plain": [
              "{'path': None,\n",
              " 'array': array([-0.35049438, -0.35049438, -0.35049438, ..., -0.31188965,\n",
              "        -0.31225586, -0.31155396]),\n",
              " 'sampling_rate': 16000}"
            ]
          },
          "metadata": {},
          "execution_count": 82
        }
      ],
      "source": [
        "common_voice_train[0][\"audio\"]"
      ]
    },
    {
      "cell_type": "code",
      "execution_count": null,
      "metadata": {
        "colab": {
          "base_uri": "https://localhost:8080/"
        },
        "id": "0ZyIviqK_VBh",
        "outputId": "22d4518e-1c9a-4f1e-bbd7-913a889f1145"
      },
      "outputs": [
        {
          "output_type": "execute_result",
          "data": {
            "text/plain": [
              "{'file_name': 'data/train/006c6ebe-d25f-41ce-9fcf-5f30faca472c.wav',\n",
              " 'words': 'ولا قد يخرج',\n",
              " 'duration': '3.0752154195011334',\n",
              " 'audio': {'path': None,\n",
              "  'array': array([-0.35049438, -0.35049438, -0.35049438, ..., -0.31188965,\n",
              "         -0.31225586, -0.31155396]),\n",
              "  'sampling_rate': 16000}}"
            ]
          },
          "metadata": {},
          "execution_count": 83
        }
      ],
      "source": [
        "common_voice_train[0]"
      ]
    },
    {
      "cell_type": "markdown",
      "metadata": {
        "id": "SOckzFd4Mbzq"
      },
      "source": [
        "This seemed to have worked! Let's listen to a couple of audio files to better understand the dataset and verify that the audio was correctly loaded. \n",
        "\n",
        "**Note**: *You can click the following cell a couple of times to listen to different speech samples.*"
      ]
    },
    {
      "cell_type": "code",
      "execution_count": null,
      "metadata": {
        "colab": {
          "base_uri": "https://localhost:8080/",
          "height": 93
        },
        "id": "dueM6U7Ev0OA",
        "outputId": "01a18b1b-ef60-486a-8c6f-2ce758f31e3a"
      },
      "outputs": [
        {
          "output_type": "stream",
          "name": "stdout",
          "text": [
            "السانسور عليمن\n"
          ]
        },
        {
          "output_type": "execute_result",
          "data": {
            "text/plain": [
              "<IPython.lib.display.Audio object>"
            ],
            "text/html": [
              "\n",
              "                <audio  controls=\"controls\" autoplay=\"autoplay\">\n",
              "                    <source src=\"data:audio/wav;base64,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\" type=\"audio/wav\" />\n",
              "                    Your browser does not support the audio element.\n",
              "                </audio>\n",
              "              "
            ]
          },
          "metadata": {},
          "execution_count": 84
        }
      ],
      "source": [
        "import IPython.display as ipd\n",
        "import numpy as np\n",
        "import random\n",
        "\n",
        "rand_int = random.randint(0, len(common_voice_train)-1)\n",
        "\n",
        "print(common_voice_train[rand_int][\"words\"])\n",
        "ipd.Audio(data=common_voice_train[rand_int][\"audio\"][\"array\"], autoplay=True, rate=16000)"
      ]
    },
    {
      "cell_type": "markdown",
      "metadata": {
        "id": "gY8m3vARHYTa"
      },
      "source": [
        "It seems like the data is now correctly loaded and resampled. "
      ]
    },
    {
      "cell_type": "markdown",
      "metadata": {
        "id": "1MaL9J2dNVtG"
      },
      "source": [
        "It can be heard, that the speakers change along with their speaking rate, accent, and background environment, etc. Overall, the recordings sound acceptably clear though, which is to be expected from a crowd-sourced read speech corpus.\n",
        "\n",
        "Let's do a final check that the data is correctly prepared, by printing the shape of the speech input, its transcription, and the corresponding sampling rate.\n",
        "\n",
        "**Note**: *You can click the following cell a couple of times to verify multiple samples.*"
      ]
    },
    {
      "cell_type": "code",
      "execution_count": null,
      "metadata": {
        "colab": {
          "base_uri": "https://localhost:8080/"
        },
        "id": "1Po2g7YPuRTx",
        "outputId": "ea701dbf-85a3-4e9e-d951-a9c67afa99c5"
      },
      "outputs": [
        {
          "output_type": "stream",
          "name": "stdout",
          "text": [
            "Target text: دودكيات اليوم الاثنين الكرش\n",
            "Input array shape: (71493,)\n",
            "Sampling rate: 16000\n"
          ]
        }
      ],
      "source": [
        "rand_int = random.randint(0, len(common_voice_train)-1)\n",
        "\n",
        "print(\"Target text:\", common_voice_train[rand_int][\"words\"])\n",
        "print(\"Input array shape:\", common_voice_train[rand_int][\"audio\"][\"array\"].shape)\n",
        "print(\"Sampling rate:\", common_voice_train[rand_int][\"audio\"][\"sampling_rate\"])"
      ]
    },
    {
      "cell_type": "markdown",
      "metadata": {
        "id": "M9teZcSwOBJ4"
      },
      "source": [
        "Good! Everything looks fine - the data is a 1-dimensional array, the sampling rate always corresponds to 16kHz, and the target text is normalized."
      ]
    },
    {
      "cell_type": "markdown",
      "metadata": {
        "id": "k3Pbn5WvOYZF"
      },
      "source": [
        "Finally, we can leverage `Wav2Vec2Processor` to process the data to the format expected by `Wav2Vec2ForCTC` for training. To do so let's make use of Dataset's [`map(...)`](https://huggingface.co/docs/datasets/package_reference/main_classes.html?highlight=map#datasets.DatasetDict.map) function.\n",
        "\n",
        "First, we load and resample the audio data, simply by calling `batch[\"audio\"]`.\n",
        "Second, we extract the `input_values` from the loaded audio file. In our case, the `Wav2Vec2Processor` only normalizes the data. For other speech models, however, this step can include more complex feature extraction, such as [Log-Mel feature extraction](https://en.wikipedia.org/wiki/Mel-frequency_cepstrum). \n",
        "Third, we encode the transcriptions to label ids.\n",
        "\n",
        "**Note**: This mapping function is a good example of how the `Wav2Vec2Processor` class should be used. In \"normal\" context, calling `processor(...)` is redirected to `Wav2Vec2FeatureExtractor`'s call method. When wrapping the processor into the `as_target_processor` context, however, the same method is redirected to `Wav2Vec2CTCTokenizer`'s call method.\n",
        "For more information please check the [docs](https://huggingface.co/transformers/master/model_doc/wav2vec2.html#transformers.Wav2Vec2Processor.__call__)."
      ]
    },
    {
      "cell_type": "code",
      "execution_count": null,
      "metadata": {
        "id": "eJY7I0XAwe9p"
      },
      "outputs": [],
      "source": [
        "def prepare_dataset(batch):\n",
        "    audio = batch[\"audio\"]\n",
        "\n",
        "    # batched output is \"un-batched\"\n",
        "    batch[\"input_values\"] = processor(audio[\"array\"], sampling_rate=audio[\"sampling_rate\"]).input_values[0]\n",
        "    batch[\"input_length\"] = len(batch[\"input_values\"])\n",
        "    \n",
        "    with processor.as_target_processor():\n",
        "        batch[\"labels\"] = processor(batch[\"words\"]).input_ids\n",
        "    return batch"
      ]
    },
    {
      "cell_type": "markdown",
      "metadata": {
        "id": "q6Pg_WR3OGAP"
      },
      "source": [
        "Let's apply the data preparation function to all examples."
      ]
    },
    {
      "cell_type": "code",
      "execution_count": null,
      "metadata": {
        "colab": {
          "base_uri": "https://localhost:8080/",
          "height": 81,
          "referenced_widgets": [
            "464591128148474694f7a65e1275f149",
            "43a9e2c1edc74cf2ac9b9b54336494e3",
            "34876a30e2e54d23a865662e07257ba5",
            "07282bc6c602472eae432464d924ebcd",
            "f2cb61fa5cfb4241917644d3274f2132",
            "872889f2b7a6490783f31b8916223507",
            "aa6cb106224147749f9d6ab15263d155",
            "e7589205be7a41adb1c93eb40746945e",
            "83b0c67b720045f09e7a945a044bf2a2",
            "bd6cef5f726a40caac1449233b1f82d0",
            "c008bc40a5054d1286a172533826b5cb",
            "920af643c5b144b3bfa53cb6a2943842",
            "0b5c3007fde74ce999c2ed8176a45ef9",
            "f3d2408d0b8143ba894b4308d96a2e06",
            "9add83cf66954d379b15701230f42d06",
            "cc7f932885314109800a063429b651c7",
            "2db7b156135747ba9024811423b32536",
            "342618bc9f64445b9b605a6101926e47",
            "6649e4f6bccd464496c83f565bc247ec",
            "40519ad1ecf047b2a25870c32409b822",
            "0923fbe1835e4cd784cc96760a998e61",
            "5cc7db0ff99140c5bfdec96c6fa443ed"
          ]
        },
        "id": "-np9xYK-wl8q",
        "outputId": "7f8a872f-8c72-463f-9868-3c62cdfe40c2"
      },
      "outputs": [
        {
          "output_type": "display_data",
          "data": {
            "text/plain": [
              "0ex [00:00, ?ex/s]"
            ],
            "application/vnd.jupyter.widget-view+json": {
              "version_major": 2,
              "version_minor": 0,
              "model_id": "464591128148474694f7a65e1275f149"
            }
          },
          "metadata": {}
        },
        {
          "output_type": "display_data",
          "data": {
            "text/plain": [
              "0ex [00:00, ?ex/s]"
            ],
            "application/vnd.jupyter.widget-view+json": {
              "version_major": 2,
              "version_minor": 0,
              "model_id": "920af643c5b144b3bfa53cb6a2943842"
            }
          },
          "metadata": {}
        }
      ],
      "source": [
        "common_voice_train = common_voice_train.map(prepare_dataset, remove_columns=common_voice_train.column_names)\n",
        "common_voice_test = common_voice_test.map(prepare_dataset, remove_columns=common_voice_test.column_names)"
      ]
    },
    {
      "cell_type": "markdown",
      "metadata": {
        "id": "nKcEWHvKI1by"
      },
      "source": [
        "**Note**: Currently `datasets` make use of [`torchaudio`](https://pytorch.org/audio/stable/index.html) and [`librosa`](https://librosa.org/doc/latest/index.html) for audio loading and resampling. If you wish to implement your own costumized data loading/sampling, feel free to just make use of the `\"path\"` column instead and disregard the `\"audio\"` column."
      ]
    },
    {
      "cell_type": "markdown",
      "metadata": {
        "id": "24CxHd5ewI4T"
      },
      "source": [
        "Long input sequences require a lot of memory. XLS-R is based on `self-attention` the memory requirement scales quadratically with the input length for long input sequences (*cf.* with [this](https://www.reddit.com/r/MachineLearning/comments/genjvb/d_why_is_the_maximum_input_sequence_length_of/) reddit post). In case this demo crashes with an \"Out-of-memory\" error for you, you might want to uncomment the following lines to filter all sequences that are longer than 5 seconds for training."
      ]
    },
    {
      "cell_type": "code",
      "execution_count": null,
      "metadata": {
        "id": "tdHfbUJ_09iA"
      },
      "outputs": [],
      "source": [
        "#max_input_length_in_sec = 5.0\n",
        "#common_voice_train = common_voice_train.filter(lambda x: x < max_input_length_in_sec * processor.feature_extractor.sampling_rate, input_columns=[\"duration\"])"
      ]
    },
    {
      "cell_type": "markdown",
      "metadata": {
        "id": "1ZWDCCKqwcfS"
      },
      "source": [
        "Awesome, now we are ready to start training!"
      ]
    },
    {
      "cell_type": "markdown",
      "metadata": {
        "id": "gYlQkKVoRUos"
      },
      "source": [
        "## Training\n",
        "\n",
        "The data is processed so that we are ready to start setting up the training pipeline. We will make use of 🤗's [Trainer](https://huggingface.co/transformers/master/main_classes/trainer.html?highlight=trainer) for which we essentially need to do the following:\n",
        "\n",
        "- Define a data collator. In contrast to most NLP models, XLS-R has a much larger input length than output length. *E.g.*, a sample of input length 50000 has an output length of no more than 100. Given the large input sizes, it is much more efficient to pad the training batches dynamically meaning that all training samples should only be padded to the longest sample in their batch and not the overall longest sample. Therefore, fine-tuning XLS-R requires a special padding data collator, which we will define below\n",
        "\n",
        "- Evaluation metric. During training, the model should be evaluated on the word error rate. We should define a `compute_metrics` function accordingly\n",
        "\n",
        "- Load a pretrained checkpoint. We need to load a pretrained checkpoint and configure it correctly for training.\n",
        "\n",
        "- Define the training configuration.\n",
        "\n",
        "After having fine-tuned the model, we will correctly evaluate it on the test data and verify that it has indeed learned to correctly transcribe speech."
      ]
    },
    {
      "cell_type": "markdown",
      "metadata": {
        "id": "Slk403unUS91"
      },
      "source": [
        "### Set-up Trainer\n",
        "\n",
        "Let's start by defining the data collator. The code for the data collator was copied from [this example](https://github.com/huggingface/transformers/blob/7e61d56a45c19284cfda0cee8995fb552f6b1f4e/examples/pytorch/speech-recognition/run_speech_recognition_ctc.py#L219).\n",
        "\n",
        "Without going into too many details, in contrast to the common data collators, this data collator treats the `input_values` and `labels` differently and thus applies to separate padding functions on them (again making use of XLS-R processor's context manager). This is necessary because in speech input and output are of different modalities meaning that they should not be treated by the same padding function.\n",
        "Analogous to the common data collators, the padding tokens in the labels with `-100` so that those tokens are **not** taken into account when computing the loss."
      ]
    },
    {
      "cell_type": "code",
      "execution_count": null,
      "metadata": {
        "id": "tborvC9hx88e"
      },
      "outputs": [],
      "source": [
        "import torch\n",
        "\n",
        "from dataclasses import dataclass, field\n",
        "from typing import Any, Dict, List, Optional, Union\n",
        "\n",
        "@dataclass\n",
        "class DataCollatorCTCWithPadding:\n",
        "    \"\"\"\n",
        "    Data collator that will dynamically pad the inputs received.\n",
        "    Args:\n",
        "        processor (:class:`~transformers.Wav2Vec2Processor`)\n",
        "            The processor used for proccessing the data.\n",
        "        padding (:obj:`bool`, :obj:`str` or :class:`~transformers.tokenization_utils_base.PaddingStrategy`, `optional`, defaults to :obj:`True`):\n",
        "            Select a strategy to pad the returned sequences (according to the model's padding side and padding index)\n",
        "            among:\n",
        "            * :obj:`True` or :obj:`'longest'`: Pad to the longest sequence in the batch (or no padding if only a single\n",
        "              sequence if provided).\n",
        "            * :obj:`'max_length'`: Pad to a maximum length specified with the argument :obj:`max_length` or to the\n",
        "              maximum acceptable input length for the model if that argument is not provided.\n",
        "            * :obj:`False` or :obj:`'do_not_pad'` (default): No padding (i.e., can output a batch with sequences of\n",
        "              different lengths).\n",
        "    \"\"\"\n",
        "\n",
        "    processor: Wav2Vec2Processor\n",
        "    padding: Union[bool, str] = True\n",
        "\n",
        "    def __call__(self, features: List[Dict[str, Union[List[int], torch.Tensor]]]) -> Dict[str, torch.Tensor]:\n",
        "        # split inputs and labels since they have to be of different lenghts and need\n",
        "        # different padding methods\n",
        "        input_features = [{\"input_values\": feature[\"input_values\"]} for feature in features]\n",
        "        label_features = [{\"input_ids\": feature[\"labels\"]} for feature in features]\n",
        "\n",
        "        batch = self.processor.pad(\n",
        "            input_features,\n",
        "            padding=self.padding,\n",
        "            return_tensors=\"pt\",\n",
        "        )\n",
        "        with self.processor.as_target_processor():\n",
        "            labels_batch = self.processor.pad(\n",
        "                label_features,\n",
        "                padding=self.padding,\n",
        "                return_tensors=\"pt\",\n",
        "            )\n",
        "\n",
        "        # replace padding with -100 to ignore loss correctly\n",
        "        labels = labels_batch[\"input_ids\"].masked_fill(labels_batch.attention_mask.ne(1), -100)\n",
        "\n",
        "        batch[\"labels\"] = labels\n",
        "\n",
        "        return batch"
      ]
    },
    {
      "cell_type": "code",
      "execution_count": null,
      "metadata": {
        "id": "lbQf5GuZyQ4_"
      },
      "outputs": [],
      "source": [
        "data_collator = DataCollatorCTCWithPadding(processor=processor, padding=True)"
      ]
    },
    {
      "cell_type": "markdown",
      "metadata": {
        "id": "xO-Zdj-5cxXp"
      },
      "source": [
        "Next, the evaluation metric is defined. As mentioned earlier, the \n",
        "predominant metric in ASR is the word error rate (WER), hence we will use it in this notebook as well."
      ]
    },
    {
      "cell_type": "code",
      "execution_count": null,
      "metadata": {
        "colab": {
          "base_uri": "https://localhost:8080/",
          "height": 49,
          "referenced_widgets": [
            "2a904826279048ec9a4debe7cd1f7084",
            "e96ba5be80d44136bacc130fcf05845a",
            "36da7ac51c664ee792e8c4c4ab92d92e",
            "4cfb7a31095b45a2b5f7b02fff064604",
            "c7cf3bba3e3a44168e7369a380d30a75",
            "066e5e97628548eea3631a98b3b0f31b",
            "fa878d45c80341bb9a89b5bad7f5db1d",
            "91440cf3c2d14791a2e05913aab62086",
            "d087d5e85140452c9ee580187ceb2a60",
            "e15179be1d514d5a9d5ddec9cce411ff",
            "0dc38517300247a396524b07f6cf44eb"
          ]
        },
        "id": "9Xsux2gmyXso",
        "outputId": "24155b30-74ca-4bd5-fa9e-01355cb4b7f3"
      },
      "outputs": [
        {
          "output_type": "display_data",
          "data": {
            "text/plain": [
              "Downloading:   0%|          | 0.00/1.90k [00:00<?, ?B/s]"
            ],
            "application/vnd.jupyter.widget-view+json": {
              "version_major": 2,
              "version_minor": 0,
              "model_id": "2a904826279048ec9a4debe7cd1f7084"
            }
          },
          "metadata": {}
        }
      ],
      "source": [
        "wer_metric = load_metric(\"wer\")"
      ]
    },
    {
      "cell_type": "markdown",
      "metadata": {
        "id": "E1qZU5p-deqB"
      },
      "source": [
        "The model will return a sequence of logit vectors:\n",
        "$\\mathbf{y}_1, \\ldots, \\mathbf{y}_m$ with $\\mathbf{y}_1 = f_{\\theta}(x_1, \\ldots, x_n)[0]$ and $n >> m$.\n",
        "\n",
        "A logit vector $\\mathbf{y}_1$ contains the log-odds for each word in the vocabulary we defined earlier, thus $\\text{len}(\\mathbf{y}_i) =$ `config.vocab_size`. We are interested in the most likely prediction of the model and thus take the `argmax(...)` of the logits. Also, we transform the encoded labels back to the original string by replacing `-100` with the `pad_token_id` and decoding the ids while making sure that consecutive tokens are **not** grouped to the same token in CTC style ${}^1$."
      ]
    },
    {
      "cell_type": "code",
      "execution_count": null,
      "metadata": {
        "id": "1XZ-kjweyTy_"
      },
      "outputs": [],
      "source": [
        "def compute_metrics(pred):\n",
        "    pred_logits = pred.predictions\n",
        "    pred_ids = np.argmax(pred_logits, axis=-1)\n",
        "\n",
        "    pred.label_ids[pred.label_ids == -100] = processor.tokenizer.pad_token_id\n",
        "\n",
        "    pred_str = processor.batch_decode(pred_ids)\n",
        "    # we do not want to group tokens when computing the metrics\n",
        "    label_str = processor.batch_decode(pred.label_ids, group_tokens=False)\n",
        "\n",
        "    wer = wer_metric.compute(predictions=pred_str, references=label_str)\n",
        "\n",
        "    return {\"wer\": wer}"
      ]
    },
    {
      "cell_type": "markdown",
      "metadata": {
        "id": "Xmgrx4bRwLIH"
      },
      "source": [
        "Now, we can load the pretrained checkpoint of [Wav2Vec2-XLS-R-300M](https://huggingface.co/facebook/wav2vec2-xls-r-300m). The tokenizer's `pad_token_id` must be to define the model's `pad_token_id` or in the case of `Wav2Vec2ForCTC` also CTC's *blank token* ${}^2$. To save GPU memory, we enable PyTorch's [gradient checkpointing](https://pytorch.org/docs/stable/checkpoint.html) and also set the loss reduction to \"*mean*\".\n",
        "\n",
        "Because the dataset is quite small (~6h of training data) and because Common Voice is quite noisy, fine-tuning Facebook's [wav2vec2-xls-r-300m checkpoint](https://huggingface.co/facebook/wav2vec2-xls-r-300m) seems to require some hyper-parameter tuning. Therefore, I had to play around a bit with different values for dropout, [SpecAugment](https://arxiv.org/abs/1904.08779)'s masking dropout rate, layer dropout, and the learning rate until training seemed to be stable enough. \n",
        "\n",
        "**Note**: When using this notebook to train XLS-R on another language of Common Voice those hyper-parameter settings might not work very well. Feel free to adapt those depending on your use case. "
      ]
    },
    {
      "cell_type": "code",
      "execution_count": null,
      "metadata": {
        "colab": {
          "base_uri": "https://localhost:8080/",
          "height": 188,
          "referenced_widgets": [
            "64d1f4557d534ba18fd3f261357cf7cf",
            "5fcc294078e74154954b8357f8113107",
            "5c31b6d579df4f0493d2d9539664772f",
            "001be00b4089442b8c72bee2707a039f",
            "014a3cc5b043476bbea35b721f234c59",
            "9604eb051ea844908fdcc0b18aec89c3",
            "684f93392b6749a4881a5eaa65a38911",
            "bf2130bbe1cb42c7aaa0e20e907f3c81",
            "478f3f017de341f4ac31078d59b18c1f",
            "b4cd840f566d49d6a99bbe84137b052c",
            "f00705bd18b544df985d57e999f66055",
            "83868e6981c1410fb9137965a112f536",
            "2eb190a96f8d40439087e273e0dc59e3",
            "dadf70ab1bc044b79003409e194bf80b",
            "99a3d8f12f384894a2f5e052501589d4",
            "1330e1bfc11c47448aa0efced1ef19ec",
            "e37c1e168a774b3e8a670d455e84bcd4",
            "08c507ad2e9c40169ca71bee5cb033dc",
            "a2c4a9ddb0294f61a31394b4ea0f5520",
            "658b38b8617145d591630fef14012ade",
            "d3fea4977a044b0c9f1f8235fd3e1a25",
            "9d59197bd20c4d5a9a32077004877f6f"
          ]
        },
        "id": "e7cqAWIayn6w",
        "outputId": "cd35a3f5-5741-423c-ab62-e133d6fca0d0"
      },
      "outputs": [
        {
          "output_type": "display_data",
          "data": {
            "text/plain": [
              "Downloading:   0%|          | 0.00/1.53k [00:00<?, ?B/s]"
            ],
            "application/vnd.jupyter.widget-view+json": {
              "version_major": 2,
              "version_minor": 0,
              "model_id": "64d1f4557d534ba18fd3f261357cf7cf"
            }
          },
          "metadata": {}
        },
        {
          "output_type": "display_data",
          "data": {
            "text/plain": [
              "Downloading:   0%|          | 0.00/1.18G [00:00<?, ?B/s]"
            ],
            "application/vnd.jupyter.widget-view+json": {
              "version_major": 2,
              "version_minor": 0,
              "model_id": "83868e6981c1410fb9137965a112f536"
            }
          },
          "metadata": {}
        },
        {
          "output_type": "stream",
          "name": "stderr",
          "text": [
            "Some weights of the model checkpoint at facebook/wav2vec2-xls-r-300m were not used when initializing Wav2Vec2ForCTC: ['quantizer.weight_proj.weight', 'project_q.weight', 'project_q.bias', 'quantizer.codevectors', 'quantizer.weight_proj.bias', 'project_hid.weight', 'project_hid.bias']\n",
            "- This IS expected if you are initializing Wav2Vec2ForCTC from the checkpoint of a model trained on another task or with another architecture (e.g. initializing a BertForSequenceClassification model from a BertForPreTraining model).\n",
            "- This IS NOT expected if you are initializing Wav2Vec2ForCTC from the checkpoint of a model that you expect to be exactly identical (initializing a BertForSequenceClassification model from a BertForSequenceClassification model).\n",
            "Some weights of Wav2Vec2ForCTC were not initialized from the model checkpoint at facebook/wav2vec2-xls-r-300m and are newly initialized: ['lm_head.bias', 'lm_head.weight']\n",
            "You should probably TRAIN this model on a down-stream task to be able to use it for predictions and inference.\n"
          ]
        }
      ],
      "source": [
        "from transformers import Wav2Vec2ForCTC\n",
        "\n",
        "model = Wav2Vec2ForCTC.from_pretrained(\n",
        "    \"facebook/wav2vec2-xls-r-300m\", \n",
        "    attention_dropout=0.0,\n",
        "    hidden_dropout=0.0,\n",
        "    feat_proj_dropout=0.0,\n",
        "    mask_time_prob=0.05,\n",
        "    layerdrop=0.0,\n",
        "    ctc_loss_reduction=\"mean\", \n",
        "    pad_token_id=processor.tokenizer.pad_token_id,\n",
        "    vocab_size=len(processor.tokenizer),\n",
        ")"
      ]
    },
    {
      "cell_type": "markdown",
      "metadata": {
        "id": "1DwR3XLSzGDD"
      },
      "source": [
        "The first component of XLS-R consists of a stack of CNN layers that are used to extract acoustically meaningful - but contextually independent - features from the raw speech signal. This part of the model has already been sufficiently trained during pretraining and as stated in the [paper](https://arxiv.org/pdf/2006.13979.pdf) does not need to be fine-tuned anymore. \n",
        "Thus, we can set the `requires_grad` to `False` for all parameters of the *feature extraction* part."
      ]
    },
    {
      "cell_type": "code",
      "execution_count": null,
      "metadata": {
        "id": "oGI8zObtZ3V0"
      },
      "outputs": [],
      "source": [
        "model.freeze_feature_extractor()"
      ]
    },
    {
      "cell_type": "markdown",
      "metadata": {
        "id": "lD4aGhQM0K-D"
      },
      "source": [
        "In a final step, we define all parameters related to training. \n",
        "To give more explanation on some of the parameters:\n",
        "- `group_by_length` makes training more efficient by grouping training samples of similar input length into one batch. This can significantly speed up training time by heavily reducing the overall number of useless padding tokens that are passed through the model\n",
        "- `learning_rate` and `weight_decay` were heuristically tuned until fine-tuning has become stable. Note that those parameters strongly depend on the Common Voice dataset and might be suboptimal for other speech datasets.\n",
        "\n",
        "For more explanations on other parameters, one can take a look at the [docs](https://huggingface.co/transformers/master/main_classes/trainer.html?highlight=trainer#trainingarguments).\n",
        "\n",
        "During training, a checkpoint will be uploaded asynchronously to the hub every 400 training steps. It allows you to also play around with the demo widget even while your model is still training.\n",
        "\n",
        "**Note**: If one does not want to upload the model checkpoints to the hub, simply set `push_to_hub=False`."
      ]
    },
    {
      "cell_type": "code",
      "execution_count": null,
      "metadata": {
        "id": "KbeKSV7uzGPP",
        "colab": {
          "base_uri": "https://localhost:8080/",
          "height": 398
        },
        "outputId": "46a652dc-e1e9-4d48-b8c8-8e45b9ff87b0"
      },
      "outputs": [
        {
          "output_type": "error",
          "ename": "ValueError",
          "evalue": "ignored",
          "traceback": [
            "\u001b[0;31m---------------------------------------------------------------------------\u001b[0m",
            "\u001b[0;31mValueError\u001b[0m                                Traceback (most recent call last)",
            "\u001b[0;32m<ipython-input-100-624d0ff0d506>\u001b[0m in \u001b[0;36m<cell line: 3>\u001b[0;34m()\u001b[0m\n\u001b[1;32m      1\u001b[0m \u001b[0;32mfrom\u001b[0m \u001b[0mtransformers\u001b[0m \u001b[0;32mimport\u001b[0m \u001b[0mTrainingArguments\u001b[0m\u001b[0;34m\u001b[0m\u001b[0;34m\u001b[0m\u001b[0m\n\u001b[1;32m      2\u001b[0m \u001b[0;34m\u001b[0m\u001b[0m\n\u001b[0;32m----> 3\u001b[0;31m training_args = TrainingArguments(\n\u001b[0m\u001b[1;32m      4\u001b[0m   \u001b[0moutput_dir\u001b[0m\u001b[0;34m=\u001b[0m\u001b[0mrepo_name\u001b[0m\u001b[0;34m,\u001b[0m\u001b[0;34m\u001b[0m\u001b[0;34m\u001b[0m\u001b[0m\n\u001b[1;32m      5\u001b[0m   \u001b[0mgroup_by_length\u001b[0m\u001b[0;34m=\u001b[0m\u001b[0;32mTrue\u001b[0m\u001b[0;34m,\u001b[0m\u001b[0;34m\u001b[0m\u001b[0;34m\u001b[0m\u001b[0m\n",
            "\u001b[0;32m/usr/local/lib/python3.9/dist-packages/transformers/training_args.py\u001b[0m in \u001b[0;36m__init__\u001b[0;34m(self, output_dir, overwrite_output_dir, do_train, do_eval, do_predict, evaluation_strategy, prediction_loss_only, per_device_train_batch_size, per_device_eval_batch_size, per_gpu_train_batch_size, per_gpu_eval_batch_size, gradient_accumulation_steps, eval_accumulation_steps, learning_rate, weight_decay, adam_beta1, adam_beta2, adam_epsilon, max_grad_norm, num_train_epochs, max_steps, lr_scheduler_type, warmup_ratio, warmup_steps, log_level, log_level_replica, log_on_each_node, logging_dir, logging_strategy, logging_first_step, logging_steps, logging_nan_inf_filter, save_strategy, save_steps, save_total_limit, save_on_each_node, no_cuda, seed, fp16, fp16_opt_level, fp16_backend, fp16_full_eval, local_rank, xpu_backend, tpu_num_cores, tpu_metrics_debug, debug, dataloader_drop_last, eval_steps, dataloader_num_workers, past_index, run_name, disable_tqdm, remove_unused_columns, label_names, load_best_model_at_end, metric_for_best_model, greater_is_better, ignore_data_skip, sharded_ddp, deepspeed, label_smoothing_factor, adafactor, group_by_length, length_column_name, report_to, ddp_find_unused_parameters, dataloader_pin_memory, skip_memory_metrics, use_legacy_prediction_loop, push_to_hub, resume_from_checkpoint, hub_model_id, hub_strategy, hub_token, gradient_checkpointing, push_to_hub_model_id, push_to_hub_organization, push_to_hub_token, mp_parameters)\u001b[0m\n",
            "\u001b[0;32m/usr/local/lib/python3.9/dist-packages/transformers/training_args.py\u001b[0m in \u001b[0;36m__post_init__\u001b[0;34m(self)\u001b[0m\n\u001b[1;32m    754\u001b[0m \u001b[0;34m\u001b[0m\u001b[0m\n\u001b[1;32m    755\u001b[0m         \u001b[0;32mif\u001b[0m \u001b[0mis_torch_available\u001b[0m\u001b[0;34m(\u001b[0m\u001b[0;34m)\u001b[0m \u001b[0;32mand\u001b[0m \u001b[0mself\u001b[0m\u001b[0;34m.\u001b[0m\u001b[0mdevice\u001b[0m\u001b[0;34m.\u001b[0m\u001b[0mtype\u001b[0m \u001b[0;34m!=\u001b[0m \u001b[0;34m\"cuda\"\u001b[0m \u001b[0;32mand\u001b[0m \u001b[0;34m(\u001b[0m\u001b[0mself\u001b[0m\u001b[0;34m.\u001b[0m\u001b[0mfp16\u001b[0m \u001b[0;32mor\u001b[0m \u001b[0mself\u001b[0m\u001b[0;34m.\u001b[0m\u001b[0mfp16_full_eval\u001b[0m\u001b[0;34m)\u001b[0m\u001b[0;34m:\u001b[0m\u001b[0;34m\u001b[0m\u001b[0;34m\u001b[0m\u001b[0m\n\u001b[0;32m--> 756\u001b[0;31m             raise ValueError(\n\u001b[0m\u001b[1;32m    757\u001b[0m                 \u001b[0;34m\"Mixed precision training with AMP or APEX (`--fp16`) and FP16 evaluation can only be used on CUDA devices.\"\u001b[0m\u001b[0;34m\u001b[0m\u001b[0;34m\u001b[0m\u001b[0m\n\u001b[1;32m    758\u001b[0m             )\n",
            "\u001b[0;31mValueError\u001b[0m: Mixed precision training with AMP or APEX (`--fp16`) and FP16 evaluation can only be used on CUDA devices."
          ]
        }
      ],
      "source": [
        "from transformers import TrainingArguments\n",
        "\n",
        "training_args = TrainingArguments(\n",
        "  output_dir=repo_name,\n",
        "  group_by_length=True,\n",
        "  per_device_train_batch_size=16,\n",
        "  gradient_accumulation_steps=2,\n",
        "  evaluation_strategy=\"steps\",\n",
        "  num_train_epochs=30,\n",
        "  gradient_checkpointing=True,\n",
        "  fp16=True,\n",
        "  save_steps=400,\n",
        "  eval_steps=400,\n",
        "  logging_steps=400,\n",
        "  learning_rate=3e-4,\n",
        "  warmup_steps=500,\n",
        "  save_total_limit=2,\n",
        "  push_to_hub=True,\n",
        ")"
      ]
    },
    {
      "cell_type": "markdown",
      "metadata": {
        "id": "OsW-WZcL1ZtN"
      },
      "source": [
        "Now, all instances can be passed to Trainer and we are ready to start training!"
      ]
    },
    {
      "cell_type": "code",
      "execution_count": null,
      "metadata": {
        "colab": {
          "base_uri": "https://localhost:8080/",
          "height": 236
        },
        "id": "rY7vBmFCPFgC",
        "outputId": "342cde2a-1591-4283-a4a7-065858b8daa7"
      },
      "outputs": [
        {
          "output_type": "error",
          "ename": "NameError",
          "evalue": "ignored",
          "traceback": [
            "\u001b[0;31m---------------------------------------------------------------------------\u001b[0m",
            "\u001b[0;31mNameError\u001b[0m                                 Traceback (most recent call last)",
            "\u001b[0;32m<ipython-input-99-ec2c74f250fd>\u001b[0m in \u001b[0;36m<cell line: 3>\u001b[0;34m()\u001b[0m\n\u001b[1;32m      4\u001b[0m     \u001b[0mmodel\u001b[0m\u001b[0;34m=\u001b[0m\u001b[0mmodel\u001b[0m\u001b[0;34m,\u001b[0m\u001b[0;34m\u001b[0m\u001b[0;34m\u001b[0m\u001b[0m\n\u001b[1;32m      5\u001b[0m     \u001b[0mdata_collator\u001b[0m\u001b[0;34m=\u001b[0m\u001b[0mdata_collator\u001b[0m\u001b[0;34m,\u001b[0m\u001b[0;34m\u001b[0m\u001b[0;34m\u001b[0m\u001b[0m\n\u001b[0;32m----> 6\u001b[0;31m     \u001b[0margs\u001b[0m\u001b[0;34m=\u001b[0m\u001b[0mtraining_args\u001b[0m\u001b[0;34m,\u001b[0m\u001b[0;34m\u001b[0m\u001b[0;34m\u001b[0m\u001b[0m\n\u001b[0m\u001b[1;32m      7\u001b[0m     \u001b[0mcompute_metrics\u001b[0m\u001b[0;34m=\u001b[0m\u001b[0mcompute_metrics\u001b[0m\u001b[0;34m,\u001b[0m\u001b[0;34m\u001b[0m\u001b[0;34m\u001b[0m\u001b[0m\n\u001b[1;32m      8\u001b[0m     \u001b[0mtrain_dataset\u001b[0m\u001b[0;34m=\u001b[0m\u001b[0mcommon_voice_train\u001b[0m\u001b[0;34m,\u001b[0m\u001b[0;34m\u001b[0m\u001b[0;34m\u001b[0m\u001b[0m\n",
            "\u001b[0;31mNameError\u001b[0m: name 'training_args' is not defined"
          ]
        }
      ],
      "source": [
        "from transformers import Trainer\n",
        "\n",
        "trainer = Trainer(\n",
        "    model=model,\n",
        "    data_collator=data_collator,\n",
        "    args=training_args,\n",
        "    compute_metrics=compute_metrics,\n",
        "    train_dataset=common_voice_train,\n",
        "    eval_dataset=common_voice_test,\n",
        "    tokenizer=processor.feature_extractor,\n",
        ")"
      ]
    },
    {
      "cell_type": "markdown",
      "metadata": {
        "id": "UoXBx1JAA0DX"
      },
      "source": [
        "\n",
        "\n",
        "---\n",
        "\n",
        "${}^1$ To allow models to become independent of the speaker rate, in CTC, consecutive tokens that are identical are simply grouped as a single token. However, the encoded labels should not be grouped when decoding since they don't correspond to the predicted tokens of the model, which is why the `group_tokens=False` parameter has to be passed. If we wouldn't pass this parameter a word like `\"hello\"` would incorrectly be encoded, and decoded as `\"helo\"`.\n",
        "\n",
        "${}^2$ The blank token allows the model to predict a word, such as `\"hello\"` by forcing it to insert the blank token between the two l's. A CTC-conform prediction of `\"hello\"` of our model would be `[PAD] [PAD] \"h\" \"e\" \"e\" \"l\" \"l\" [PAD] \"l\" \"o\" \"o\" [PAD]`."
      ]
    },
    {
      "cell_type": "markdown",
      "metadata": {
        "id": "rpvZHM1xReIW"
      },
      "source": [
        "### Training"
      ]
    },
    {
      "cell_type": "markdown",
      "metadata": {
        "id": "j-3oKSzZ1hGq"
      },
      "source": [
        "Training will take multiple hours depending on the GPU allocated to this notebook. While the trained model yields somewhat satisfying results on *Common Voice*'s test data of Turkish, it is by no means an optimally fine-tuned model. The purpose of this notebook is just to demonstrate how to fine-tune XLS-R on an ASR dataset.\n",
        "\n",
        "In case you want to use this google colab to fine-tune your model, you should make sure that your training doesn't stop due to inactivity. A simple hack to prevent this is to paste the following code into the console of this tab (*right mouse click -> inspect -> Console tab and insert code*)."
      ]
    },
    {
      "cell_type": "markdown",
      "metadata": {
        "id": "VYYAvgkW4P0m"
      },
      "source": [
        "```javascript\n",
        "function ConnectButton(){\n",
        "    console.log(\"Connect pushed\"); \n",
        "    document.querySelector(\"#top-toolbar > colab-connect-button\").shadowRoot.querySelector(\"#connect\").click() \n",
        "}\n",
        "setInterval(ConnectButton,60000);\n",
        "```"
      ]
    },
    {
      "cell_type": "markdown",
      "metadata": {
        "id": "7bGgLV2r0yvZ"
      },
      "source": [
        "Depending on what GPU was allocated to your google colab it might be possible that you are seeing an `\"out-of-memory\"` error here. In this case, it's probably best to reduce `per_device_train_batch_size` to 8 or even less and increase [`gradient_accumulation`](https://huggingface.co/transformers/master/main_classes/trainer.html#trainingarguments)."
      ]
    },
    {
      "cell_type": "code",
      "execution_count": null,
      "metadata": {
        "id": "9fRr9TG5pGBl"
      },
      "outputs": [],
      "source": [
        "trainer.train()"
      ]
    },
    {
      "cell_type": "markdown",
      "metadata": {
        "id": "a9q4mgMZplr_"
      },
      "source": [
        "The training loss and validation WER go down nicely."
      ]
    },
    {
      "cell_type": "markdown",
      "metadata": {
        "id": "4Ya7WEy0pd13"
      },
      "source": [
        "You can now upload the result of the training to the 🤗 Hub, just execute this instruction:"
      ]
    },
    {
      "cell_type": "code",
      "execution_count": null,
      "metadata": {
        "id": "ArG1Thf6NBWm"
      },
      "outputs": [],
      "source": [
        "trainer.push_to_hub()"
      ]
    },
    {
      "cell_type": "markdown",
      "metadata": {
        "id": "RHIVc44_fY2N"
      },
      "source": [
        "You can now share this model with all your friends, family, favorite pets: they can all load it with the identifier \"your-username/the-name-you-picked\" so for instance:"
      ]
    },
    {
      "cell_type": "markdown",
      "metadata": {
        "id": "5lWWIKyBpx1h"
      },
      "source": [
        "```python\n",
        "from transformers import AutoModelForCTC, Wav2Vec2Processor\n",
        "\n",
        "model = AutoModelForCTC.from_pretrained(\"aymanelmar/joha\")\n",
        "processor = Wav2Vec2Processor.from_pretrained(\"aymanelmar/joha\")\n",
        "```"
      ]
    },
    {
      "cell_type": "markdown",
      "metadata": {
        "id": "pmi1cX0fRBit"
      },
      "source": [
        "For more examples of how XLS-R can be fine-tuned, please take a look at the [official speech recognition examples](https://github.com/huggingface/transformers/tree/master/examples/pytorch/speech-recognition#examples)."
      ]
    },
    {
      "cell_type": "markdown",
      "metadata": {
        "id": "L8b8Qkoy3KyS"
      },
      "source": [
        "### Evaluation\n",
        "\n",
        "As a final check, let's load the model and verify that it indeed has learned to transcribe Turkish speech.\n",
        "\n",
        "Let's first load the pretrained checkpoint."
      ]
    },
    {
      "cell_type": "code",
      "execution_count": null,
      "metadata": {
        "id": "R351I9IQp_9D"
      },
      "outputs": [],
      "source": [
        "model = Wav2Vec2ForCTC.from_pretrained(repo_name).to(\"cuda\")\n",
        "processor = Wav2Vec2Processor.from_pretrained(repo_name)"
      ]
    },
    {
      "cell_type": "markdown",
      "metadata": {
        "id": "jD7TZ1YS3S_K"
      },
      "source": [
        "\n",
        "Now, we will just take the first example of the test set, run it through the model and take the `argmax(...)` of the logits to retrieve the predicted token ids."
      ]
    },
    {
      "cell_type": "code",
      "execution_count": null,
      "metadata": {
        "id": "pax07TnL3WZn"
      },
      "outputs": [],
      "source": [
        "input_dict = processor(common_voice_test[0][\"input_values\"], return_tensors=\"pt\", padding=True)\n",
        "\n",
        "logits = model(input_dict.input_values.to(\"cuda\")).logits\n",
        "\n",
        "pred_ids = torch.argmax(logits, dim=-1)[0]"
      ]
    },
    {
      "cell_type": "markdown",
      "metadata": {
        "id": "7nkzSQu53Zs2"
      },
      "source": [
        "We adapted `common_voice_test` quite a bit so that the dataset instance does not contain the original sentence label anymore. Thus, we re-use the original dataset to get the label of the first example."
      ]
    },
    {
      "cell_type": "code",
      "execution_count": null,
      "metadata": {
        "id": "fe2AE-2xqKHx"
      },
      "outputs": [],
      "source": [
        "common_voice_test_transcription = load_dataset(\"aymanelmar/joha\", split=\"test\")"
      ]
    },
    {
      "cell_type": "markdown",
      "metadata": {
        "id": "epu8kCQZ3h70"
      },
      "source": [
        "\n",
        "Finally, we can decode the example."
      ]
    },
    {
      "cell_type": "code",
      "execution_count": null,
      "metadata": {
        "id": "K4xWqmk_qMn0"
      },
      "outputs": [],
      "source": [
        "print(\"Prediction:\")\n",
        "print(processor.decode(pred_ids))\n",
        "\n",
        "print(\"\\nReference:\")\n",
        "print(common_voice_test_transcription[0][\"words\"].lower())"
      ]
    },
    {
      "cell_type": "markdown",
      "metadata": {
        "id": "HwhyoMml3oOT"
      },
      "source": [
        "Alright! The transcription can definitely be recognized from our prediction, but it is not perfect yet. Training the model a bit longer, spending more time on the data preprocessing, and especially using a language model for decoding would certainly improve the model's overall performance.\n",
        "\n",
        "For a demonstration model on a low-resource language, the results are quite acceptable however 🤗."
      ]
    }
  ],
  "metadata": {
    "accelerator": "GPU",
    "colab": {
      "machine_shape": "hm",
      "provenance": [],
      "toc_visible": true,
      "include_colab_link": true
    },
    "kernelspec": {
      "display_name": "Python 3",
      "name": "python3"
    },
    "widgets": {
      "application/vnd.jupyter.widget-state+json": {
        "dfeb2991b9ab4dfcbff799bf5b330b78": {
          "model_module": "@jupyter-widgets/controls",
          "model_name": "VBoxModel",
          "model_module_version": "1.5.0",
          "state": {
            "_dom_classes": [],
            "_model_module": "@jupyter-widgets/controls",
            "_model_module_version": "1.5.0",
            "_model_name": "VBoxModel",
            "_view_count": null,
            "_view_module": "@jupyter-widgets/controls",
            "_view_module_version": "1.5.0",
            "_view_name": "VBoxView",
            "box_style": "",
            "children": [
              "IPY_MODEL_451b0b8427ed445391b8ec0996f501b3",
              "IPY_MODEL_56e53540feb647bda83a3ce2899e9dfd",
              "IPY_MODEL_d14824279b53486a9522be8c790b75f8",
              "IPY_MODEL_e064055263da4bea969f4238c284c819",
              "IPY_MODEL_46d49202f5894ddfba6b285af3d5d534"
            ],
            "layout": "IPY_MODEL_2998f7d914f14e2d94474d2bcc66bdcf"
          }
        },
        "451b0b8427ed445391b8ec0996f501b3": {
          "model_module": "@jupyter-widgets/controls",
          "model_name": "HTMLModel",
          "model_module_version": "1.5.0",
          "state": {
            "_dom_classes": [],
            "_model_module": "@jupyter-widgets/controls",
            "_model_module_version": "1.5.0",
            "_model_name": "HTMLModel",
            "_view_count": null,
            "_view_module": "@jupyter-widgets/controls",
            "_view_module_version": "1.5.0",
            "_view_name": "HTMLView",
            "description": "",
            "description_tooltip": null,
            "layout": "IPY_MODEL_0698e8deb8f745558583e7fdf5d2a042",
            "placeholder": "​",
            "style": "IPY_MODEL_8a8716a9ee8a4550ad41408c30aba861",
            "value": "<center> <img\nsrc=https://huggingface.co/front/assets/huggingface_logo-noborder.svg\nalt='Hugging Face'> <br> Copy a token from <a\nhref=\"https://huggingface.co/settings/tokens\" target=\"_blank\">your Hugging Face\ntokens page</a> and paste it below. <br> Immediately click login after copying\nyour token or it might be stored in plain text in this notebook file. </center>"
          }
        },
        "56e53540feb647bda83a3ce2899e9dfd": {
          "model_module": "@jupyter-widgets/controls",
          "model_name": "PasswordModel",
          "model_module_version": "1.5.0",
          "state": {
            "_dom_classes": [],
            "_model_module": "@jupyter-widgets/controls",
            "_model_module_version": "1.5.0",
            "_model_name": "PasswordModel",
            "_view_count": null,
            "_view_module": "@jupyter-widgets/controls",
            "_view_module_version": "1.5.0",
            "_view_name": "PasswordView",
            "continuous_update": true,
            "description": "Token:",
            "description_tooltip": null,
            "disabled": false,
            "layout": "IPY_MODEL_fe2f8cca212b4769b3f58c06bab73d5e",
            "placeholder": "​",
            "style": "IPY_MODEL_e47703244172405cb847fdc2f3d8ada6",
            "value": ""
          }
        },
        "d14824279b53486a9522be8c790b75f8": {
          "model_module": "@jupyter-widgets/controls",
          "model_name": "CheckboxModel",
          "model_module_version": "1.5.0",
          "state": {
            "_dom_classes": [],
            "_model_module": "@jupyter-widgets/controls",
            "_model_module_version": "1.5.0",
            "_model_name": "CheckboxModel",
            "_view_count": null,
            "_view_module": "@jupyter-widgets/controls",
            "_view_module_version": "1.5.0",
            "_view_name": "CheckboxView",
            "description": "Add token as git credential?",
            "description_tooltip": null,
            "disabled": false,
            "indent": true,
            "layout": "IPY_MODEL_f5a35b2fa45a420eab0af1893ac87a62",
            "style": "IPY_MODEL_ebaa0c54007549f79fd0856197ef8ed4",
            "value": true
          }
        },
        "e064055263da4bea969f4238c284c819": {
          "model_module": "@jupyter-widgets/controls",
          "model_name": "ButtonModel",
          "model_module_version": "1.5.0",
          "state": {
            "_dom_classes": [],
            "_model_module": "@jupyter-widgets/controls",
            "_model_module_version": "1.5.0",
            "_model_name": "ButtonModel",
            "_view_count": null,
            "_view_module": "@jupyter-widgets/controls",
            "_view_module_version": "1.5.0",
            "_view_name": "ButtonView",
            "button_style": "",
            "description": "Login",
            "disabled": false,
            "icon": "",
            "layout": "IPY_MODEL_32eff1db633d4bb2b5975a573cb8c366",
            "style": "IPY_MODEL_dbeab8cd66264d7cb77ae9af4e16301c",
            "tooltip": ""
          }
        },
        "46d49202f5894ddfba6b285af3d5d534": {
          "model_module": "@jupyter-widgets/controls",
          "model_name": "HTMLModel",
          "model_module_version": "1.5.0",
          "state": {
            "_dom_classes": [],
            "_model_module": "@jupyter-widgets/controls",
            "_model_module_version": "1.5.0",
            "_model_name": "HTMLModel",
            "_view_count": null,
            "_view_module": "@jupyter-widgets/controls",
            "_view_module_version": "1.5.0",
            "_view_name": "HTMLView",
            "description": "",
            "description_tooltip": null,
            "layout": "IPY_MODEL_4363633339774385bd9419b5c51dca39",
            "placeholder": "​",
            "style": "IPY_MODEL_012e15c1cddc45048f0e2d932f6f8257",
            "value": "\n<b>Pro Tip:</b> If you don't already have one, you can create a dedicated\n'notebooks' token with 'write' access, that you can then easily reuse for all\nnotebooks. </center>"
          }
        },
        "2998f7d914f14e2d94474d2bcc66bdcf": {
          "model_module": "@jupyter-widgets/base",
          "model_name": "LayoutModel",
          "model_module_version": "1.2.0",
          "state": {
            "_model_module": "@jupyter-widgets/base",
            "_model_module_version": "1.2.0",
            "_model_name": "LayoutModel",
            "_view_count": null,
            "_view_module": "@jupyter-widgets/base",
            "_view_module_version": "1.2.0",
            "_view_name": "LayoutView",
            "align_content": null,
            "align_items": "center",
            "align_self": null,
            "border": null,
            "bottom": null,
            "display": "flex",
            "flex": null,
            "flex_flow": "column",
            "grid_area": null,
            "grid_auto_columns": null,
            "grid_auto_flow": null,
            "grid_auto_rows": null,
            "grid_column": null,
            "grid_gap": null,
            "grid_row": null,
            "grid_template_areas": null,
            "grid_template_columns": null,
            "grid_template_rows": null,
            "height": null,
            "justify_content": null,
            "justify_items": null,
            "left": null,
            "margin": null,
            "max_height": null,
            "max_width": null,
            "min_height": null,
            "min_width": null,
            "object_fit": null,
            "object_position": null,
            "order": null,
            "overflow": null,
            "overflow_x": null,
            "overflow_y": null,
            "padding": null,
            "right": null,
            "top": null,
            "visibility": null,
            "width": "50%"
          }
        },
        "0698e8deb8f745558583e7fdf5d2a042": {
          "model_module": "@jupyter-widgets/base",
          "model_name": "LayoutModel",
          "model_module_version": "1.2.0",
          "state": {
            "_model_module": "@jupyter-widgets/base",
            "_model_module_version": "1.2.0",
            "_model_name": "LayoutModel",
            "_view_count": null,
            "_view_module": "@jupyter-widgets/base",
            "_view_module_version": "1.2.0",
            "_view_name": "LayoutView",
            "align_content": null,
            "align_items": null,
            "align_self": null,
            "border": null,
            "bottom": null,
            "display": null,
            "flex": null,
            "flex_flow": null,
            "grid_area": null,
            "grid_auto_columns": null,
            "grid_auto_flow": null,
            "grid_auto_rows": null,
            "grid_column": null,
            "grid_gap": null,
            "grid_row": null,
            "grid_template_areas": null,
            "grid_template_columns": null,
            "grid_template_rows": null,
            "height": null,
            "justify_content": null,
            "justify_items": null,
            "left": null,
            "margin": null,
            "max_height": null,
            "max_width": null,
            "min_height": null,
            "min_width": null,
            "object_fit": null,
            "object_position": null,
            "order": null,
            "overflow": null,
            "overflow_x": null,
            "overflow_y": null,
            "padding": null,
            "right": null,
            "top": null,
            "visibility": null,
            "width": null
          }
        },
        "8a8716a9ee8a4550ad41408c30aba861": {
          "model_module": "@jupyter-widgets/controls",
          "model_name": "DescriptionStyleModel",
          "model_module_version": "1.5.0",
          "state": {
            "_model_module": "@jupyter-widgets/controls",
            "_model_module_version": "1.5.0",
            "_model_name": "DescriptionStyleModel",
            "_view_count": null,
            "_view_module": "@jupyter-widgets/base",
            "_view_module_version": "1.2.0",
            "_view_name": "StyleView",
            "description_width": ""
          }
        },
        "fe2f8cca212b4769b3f58c06bab73d5e": {
          "model_module": "@jupyter-widgets/base",
          "model_name": "LayoutModel",
          "model_module_version": "1.2.0",
          "state": {
            "_model_module": "@jupyter-widgets/base",
            "_model_module_version": "1.2.0",
            "_model_name": "LayoutModel",
            "_view_count": null,
            "_view_module": "@jupyter-widgets/base",
            "_view_module_version": "1.2.0",
            "_view_name": "LayoutView",
            "align_content": null,
            "align_items": null,
            "align_self": null,
            "border": null,
            "bottom": null,
            "display": null,
            "flex": null,
            "flex_flow": null,
            "grid_area": null,
            "grid_auto_columns": null,
            "grid_auto_flow": null,
            "grid_auto_rows": null,
            "grid_column": null,
            "grid_gap": null,
            "grid_row": null,
            "grid_template_areas": null,
            "grid_template_columns": null,
            "grid_template_rows": null,
            "height": null,
            "justify_content": null,
            "justify_items": null,
            "left": null,
            "margin": null,
            "max_height": null,
            "max_width": null,
            "min_height": null,
            "min_width": null,
            "object_fit": null,
            "object_position": null,
            "order": null,
            "overflow": null,
            "overflow_x": null,
            "overflow_y": null,
            "padding": null,
            "right": null,
            "top": null,
            "visibility": null,
            "width": null
          }
        },
        "e47703244172405cb847fdc2f3d8ada6": {
          "model_module": "@jupyter-widgets/controls",
          "model_name": "DescriptionStyleModel",
          "model_module_version": "1.5.0",
          "state": {
            "_model_module": "@jupyter-widgets/controls",
            "_model_module_version": "1.5.0",
            "_model_name": "DescriptionStyleModel",
            "_view_count": null,
            "_view_module": "@jupyter-widgets/base",
            "_view_module_version": "1.2.0",
            "_view_name": "StyleView",
            "description_width": ""
          }
        },
        "f5a35b2fa45a420eab0af1893ac87a62": {
          "model_module": "@jupyter-widgets/base",
          "model_name": "LayoutModel",
          "model_module_version": "1.2.0",
          "state": {
            "_model_module": "@jupyter-widgets/base",
            "_model_module_version": "1.2.0",
            "_model_name": "LayoutModel",
            "_view_count": null,
            "_view_module": "@jupyter-widgets/base",
            "_view_module_version": "1.2.0",
            "_view_name": "LayoutView",
            "align_content": null,
            "align_items": null,
            "align_self": null,
            "border": null,
            "bottom": null,
            "display": null,
            "flex": null,
            "flex_flow": null,
            "grid_area": null,
            "grid_auto_columns": null,
            "grid_auto_flow": null,
            "grid_auto_rows": null,
            "grid_column": null,
            "grid_gap": null,
            "grid_row": null,
            "grid_template_areas": null,
            "grid_template_columns": null,
            "grid_template_rows": null,
            "height": null,
            "justify_content": null,
            "justify_items": null,
            "left": null,
            "margin": null,
            "max_height": null,
            "max_width": null,
            "min_height": null,
            "min_width": null,
            "object_fit": null,
            "object_position": null,
            "order": null,
            "overflow": null,
            "overflow_x": null,
            "overflow_y": null,
            "padding": null,
            "right": null,
            "top": null,
            "visibility": null,
            "width": null
          }
        },
        "ebaa0c54007549f79fd0856197ef8ed4": {
          "model_module": "@jupyter-widgets/controls",
          "model_name": "DescriptionStyleModel",
          "model_module_version": "1.5.0",
          "state": {
            "_model_module": "@jupyter-widgets/controls",
            "_model_module_version": "1.5.0",
            "_model_name": "DescriptionStyleModel",
            "_view_count": null,
            "_view_module": "@jupyter-widgets/base",
            "_view_module_version": "1.2.0",
            "_view_name": "StyleView",
            "description_width": ""
          }
        },
        "32eff1db633d4bb2b5975a573cb8c366": {
          "model_module": "@jupyter-widgets/base",
          "model_name": "LayoutModel",
          "model_module_version": "1.2.0",
          "state": {
            "_model_module": "@jupyter-widgets/base",
            "_model_module_version": "1.2.0",
            "_model_name": "LayoutModel",
            "_view_count": null,
            "_view_module": "@jupyter-widgets/base",
            "_view_module_version": "1.2.0",
            "_view_name": "LayoutView",
            "align_content": null,
            "align_items": null,
            "align_self": null,
            "border": null,
            "bottom": null,
            "display": null,
            "flex": null,
            "flex_flow": null,
            "grid_area": null,
            "grid_auto_columns": null,
            "grid_auto_flow": null,
            "grid_auto_rows": null,
            "grid_column": null,
            "grid_gap": null,
            "grid_row": null,
            "grid_template_areas": null,
            "grid_template_columns": null,
            "grid_template_rows": null,
            "height": null,
            "justify_content": null,
            "justify_items": null,
            "left": null,
            "margin": null,
            "max_height": null,
            "max_width": null,
            "min_height": null,
            "min_width": null,
            "object_fit": null,
            "object_position": null,
            "order": null,
            "overflow": null,
            "overflow_x": null,
            "overflow_y": null,
            "padding": null,
            "right": null,
            "top": null,
            "visibility": null,
            "width": null
          }
        },
        "dbeab8cd66264d7cb77ae9af4e16301c": {
          "model_module": "@jupyter-widgets/controls",
          "model_name": "ButtonStyleModel",
          "model_module_version": "1.5.0",
          "state": {
            "_model_module": "@jupyter-widgets/controls",
            "_model_module_version": "1.5.0",
            "_model_name": "ButtonStyleModel",
            "_view_count": null,
            "_view_module": "@jupyter-widgets/base",
            "_view_module_version": "1.2.0",
            "_view_name": "StyleView",
            "button_color": null,
            "font_weight": ""
          }
        },
        "4363633339774385bd9419b5c51dca39": {
          "model_module": "@jupyter-widgets/base",
          "model_name": "LayoutModel",
          "model_module_version": "1.2.0",
          "state": {
            "_model_module": "@jupyter-widgets/base",
            "_model_module_version": "1.2.0",
            "_model_name": "LayoutModel",
            "_view_count": null,
            "_view_module": "@jupyter-widgets/base",
            "_view_module_version": "1.2.0",
            "_view_name": "LayoutView",
            "align_content": null,
            "align_items": null,
            "align_self": null,
            "border": null,
            "bottom": null,
            "display": null,
            "flex": null,
            "flex_flow": null,
            "grid_area": null,
            "grid_auto_columns": null,
            "grid_auto_flow": null,
            "grid_auto_rows": null,
            "grid_column": null,
            "grid_gap": null,
            "grid_row": null,
            "grid_template_areas": null,
            "grid_template_columns": null,
            "grid_template_rows": null,
            "height": null,
            "justify_content": null,
            "justify_items": null,
            "left": null,
            "margin": null,
            "max_height": null,
            "max_width": null,
            "min_height": null,
            "min_width": null,
            "object_fit": null,
            "object_position": null,
            "order": null,
            "overflow": null,
            "overflow_x": null,
            "overflow_y": null,
            "padding": null,
            "right": null,
            "top": null,
            "visibility": null,
            "width": null
          }
        },
        "012e15c1cddc45048f0e2d932f6f8257": {
          "model_module": "@jupyter-widgets/controls",
          "model_name": "DescriptionStyleModel",
          "model_module_version": "1.5.0",
          "state": {
            "_model_module": "@jupyter-widgets/controls",
            "_model_module_version": "1.5.0",
            "_model_name": "DescriptionStyleModel",
            "_view_count": null,
            "_view_module": "@jupyter-widgets/base",
            "_view_module_version": "1.2.0",
            "_view_name": "StyleView",
            "description_width": ""
          }
        },
        "af27350492974774a443f32ec60775f7": {
          "model_module": "@jupyter-widgets/controls",
          "model_name": "HBoxModel",
          "model_module_version": "1.5.0",
          "state": {
            "_dom_classes": [],
            "_model_module": "@jupyter-widgets/controls",
            "_model_module_version": "1.5.0",
            "_model_name": "HBoxModel",
            "_view_count": null,
            "_view_module": "@jupyter-widgets/controls",
            "_view_module_version": "1.5.0",
            "_view_name": "HBoxView",
            "box_style": "",
            "children": [
              "IPY_MODEL_34c007fd743f421c8c67e9e8aadd6d43",
              "IPY_MODEL_46cb42da6d7643d4aa7947b934161cae",
              "IPY_MODEL_11ca37511b4c476ea48f48e2b5570a74"
            ],
            "layout": "IPY_MODEL_f82a9c0b8fad40738e47e9aae3f40ebc"
          }
        },
        "34c007fd743f421c8c67e9e8aadd6d43": {
          "model_module": "@jupyter-widgets/controls",
          "model_name": "HTMLModel",
          "model_module_version": "1.5.0",
          "state": {
            "_dom_classes": [],
            "_model_module": "@jupyter-widgets/controls",
            "_model_module_version": "1.5.0",
            "_model_name": "HTMLModel",
            "_view_count": null,
            "_view_module": "@jupyter-widgets/controls",
            "_view_module_version": "1.5.0",
            "_view_name": "HTMLView",
            "description": "",
            "description_tooltip": null,
            "layout": "IPY_MODEL_215578d7a8ed415dac13fcc6ce811153",
            "placeholder": "​",
            "style": "IPY_MODEL_8f950c492af540d6bb7155f47cf76a6b",
            "value": ""
          }
        },
        "46cb42da6d7643d4aa7947b934161cae": {
          "model_module": "@jupyter-widgets/controls",
          "model_name": "FloatProgressModel",
          "model_module_version": "1.5.0",
          "state": {
            "_dom_classes": [],
            "_model_module": "@jupyter-widgets/controls",
            "_model_module_version": "1.5.0",
            "_model_name": "FloatProgressModel",
            "_view_count": null,
            "_view_module": "@jupyter-widgets/controls",
            "_view_module_version": "1.5.0",
            "_view_name": "ProgressView",
            "bar_style": "success",
            "description": "",
            "description_tooltip": null,
            "layout": "IPY_MODEL_af3a270d98474c1b84b9a70c0d9ec73b",
            "max": 1,
            "min": 0,
            "orientation": "horizontal",
            "style": "IPY_MODEL_e3a1a8f674874156b25d67ea33ee6213",
            "value": 1
          }
        },
        "11ca37511b4c476ea48f48e2b5570a74": {
          "model_module": "@jupyter-widgets/controls",
          "model_name": "HTMLModel",
          "model_module_version": "1.5.0",
          "state": {
            "_dom_classes": [],
            "_model_module": "@jupyter-widgets/controls",
            "_model_module_version": "1.5.0",
            "_model_name": "HTMLModel",
            "_view_count": null,
            "_view_module": "@jupyter-widgets/controls",
            "_view_module_version": "1.5.0",
            "_view_name": "HTMLView",
            "description": "",
            "description_tooltip": null,
            "layout": "IPY_MODEL_952a8d5de38c43a085fb0068f0cd80f4",
            "placeholder": "​",
            "style": "IPY_MODEL_2663200e769f48159ccd52ba03f302bd",
            "value": " 9079/? [00:33&lt;00:00, 159.90ex/s]"
          }
        },
        "f82a9c0b8fad40738e47e9aae3f40ebc": {
          "model_module": "@jupyter-widgets/base",
          "model_name": "LayoutModel",
          "model_module_version": "1.2.0",
          "state": {
            "_model_module": "@jupyter-widgets/base",
            "_model_module_version": "1.2.0",
            "_model_name": "LayoutModel",
            "_view_count": null,
            "_view_module": "@jupyter-widgets/base",
            "_view_module_version": "1.2.0",
            "_view_name": "LayoutView",
            "align_content": null,
            "align_items": null,
            "align_self": null,
            "border": null,
            "bottom": null,
            "display": null,
            "flex": null,
            "flex_flow": null,
            "grid_area": null,
            "grid_auto_columns": null,
            "grid_auto_flow": null,
            "grid_auto_rows": null,
            "grid_column": null,
            "grid_gap": null,
            "grid_row": null,
            "grid_template_areas": null,
            "grid_template_columns": null,
            "grid_template_rows": null,
            "height": null,
            "justify_content": null,
            "justify_items": null,
            "left": null,
            "margin": null,
            "max_height": null,
            "max_width": null,
            "min_height": null,
            "min_width": null,
            "object_fit": null,
            "object_position": null,
            "order": null,
            "overflow": null,
            "overflow_x": null,
            "overflow_y": null,
            "padding": null,
            "right": null,
            "top": null,
            "visibility": null,
            "width": null
          }
        },
        "215578d7a8ed415dac13fcc6ce811153": {
          "model_module": "@jupyter-widgets/base",
          "model_name": "LayoutModel",
          "model_module_version": "1.2.0",
          "state": {
            "_model_module": "@jupyter-widgets/base",
            "_model_module_version": "1.2.0",
            "_model_name": "LayoutModel",
            "_view_count": null,
            "_view_module": "@jupyter-widgets/base",
            "_view_module_version": "1.2.0",
            "_view_name": "LayoutView",
            "align_content": null,
            "align_items": null,
            "align_self": null,
            "border": null,
            "bottom": null,
            "display": null,
            "flex": null,
            "flex_flow": null,
            "grid_area": null,
            "grid_auto_columns": null,
            "grid_auto_flow": null,
            "grid_auto_rows": null,
            "grid_column": null,
            "grid_gap": null,
            "grid_row": null,
            "grid_template_areas": null,
            "grid_template_columns": null,
            "grid_template_rows": null,
            "height": null,
            "justify_content": null,
            "justify_items": null,
            "left": null,
            "margin": null,
            "max_height": null,
            "max_width": null,
            "min_height": null,
            "min_width": null,
            "object_fit": null,
            "object_position": null,
            "order": null,
            "overflow": null,
            "overflow_x": null,
            "overflow_y": null,
            "padding": null,
            "right": null,
            "top": null,
            "visibility": null,
            "width": null
          }
        },
        "8f950c492af540d6bb7155f47cf76a6b": {
          "model_module": "@jupyter-widgets/controls",
          "model_name": "DescriptionStyleModel",
          "model_module_version": "1.5.0",
          "state": {
            "_model_module": "@jupyter-widgets/controls",
            "_model_module_version": "1.5.0",
            "_model_name": "DescriptionStyleModel",
            "_view_count": null,
            "_view_module": "@jupyter-widgets/base",
            "_view_module_version": "1.2.0",
            "_view_name": "StyleView",
            "description_width": ""
          }
        },
        "af3a270d98474c1b84b9a70c0d9ec73b": {
          "model_module": "@jupyter-widgets/base",
          "model_name": "LayoutModel",
          "model_module_version": "1.2.0",
          "state": {
            "_model_module": "@jupyter-widgets/base",
            "_model_module_version": "1.2.0",
            "_model_name": "LayoutModel",
            "_view_count": null,
            "_view_module": "@jupyter-widgets/base",
            "_view_module_version": "1.2.0",
            "_view_name": "LayoutView",
            "align_content": null,
            "align_items": null,
            "align_self": null,
            "border": null,
            "bottom": null,
            "display": null,
            "flex": null,
            "flex_flow": null,
            "grid_area": null,
            "grid_auto_columns": null,
            "grid_auto_flow": null,
            "grid_auto_rows": null,
            "grid_column": null,
            "grid_gap": null,
            "grid_row": null,
            "grid_template_areas": null,
            "grid_template_columns": null,
            "grid_template_rows": null,
            "height": null,
            "justify_content": null,
            "justify_items": null,
            "left": null,
            "margin": null,
            "max_height": null,
            "max_width": null,
            "min_height": null,
            "min_width": null,
            "object_fit": null,
            "object_position": null,
            "order": null,
            "overflow": null,
            "overflow_x": null,
            "overflow_y": null,
            "padding": null,
            "right": null,
            "top": null,
            "visibility": null,
            "width": "20px"
          }
        },
        "e3a1a8f674874156b25d67ea33ee6213": {
          "model_module": "@jupyter-widgets/controls",
          "model_name": "ProgressStyleModel",
          "model_module_version": "1.5.0",
          "state": {
            "_model_module": "@jupyter-widgets/controls",
            "_model_module_version": "1.5.0",
            "_model_name": "ProgressStyleModel",
            "_view_count": null,
            "_view_module": "@jupyter-widgets/base",
            "_view_module_version": "1.2.0",
            "_view_name": "StyleView",
            "bar_color": null,
            "description_width": ""
          }
        },
        "952a8d5de38c43a085fb0068f0cd80f4": {
          "model_module": "@jupyter-widgets/base",
          "model_name": "LayoutModel",
          "model_module_version": "1.2.0",
          "state": {
            "_model_module": "@jupyter-widgets/base",
            "_model_module_version": "1.2.0",
            "_model_name": "LayoutModel",
            "_view_count": null,
            "_view_module": "@jupyter-widgets/base",
            "_view_module_version": "1.2.0",
            "_view_name": "LayoutView",
            "align_content": null,
            "align_items": null,
            "align_self": null,
            "border": null,
            "bottom": null,
            "display": null,
            "flex": null,
            "flex_flow": null,
            "grid_area": null,
            "grid_auto_columns": null,
            "grid_auto_flow": null,
            "grid_auto_rows": null,
            "grid_column": null,
            "grid_gap": null,
            "grid_row": null,
            "grid_template_areas": null,
            "grid_template_columns": null,
            "grid_template_rows": null,
            "height": null,
            "justify_content": null,
            "justify_items": null,
            "left": null,
            "margin": null,
            "max_height": null,
            "max_width": null,
            "min_height": null,
            "min_width": null,
            "object_fit": null,
            "object_position": null,
            "order": null,
            "overflow": null,
            "overflow_x": null,
            "overflow_y": null,
            "padding": null,
            "right": null,
            "top": null,
            "visibility": null,
            "width": null
          }
        },
        "2663200e769f48159ccd52ba03f302bd": {
          "model_module": "@jupyter-widgets/controls",
          "model_name": "DescriptionStyleModel",
          "model_module_version": "1.5.0",
          "state": {
            "_model_module": "@jupyter-widgets/controls",
            "_model_module_version": "1.5.0",
            "_model_name": "DescriptionStyleModel",
            "_view_count": null,
            "_view_module": "@jupyter-widgets/base",
            "_view_module_version": "1.2.0",
            "_view_name": "StyleView",
            "description_width": ""
          }
        },
        "aef05de6f8d04792a21e8de0459df7a9": {
          "model_module": "@jupyter-widgets/controls",
          "model_name": "HBoxModel",
          "model_module_version": "1.5.0",
          "state": {
            "_dom_classes": [],
            "_model_module": "@jupyter-widgets/controls",
            "_model_module_version": "1.5.0",
            "_model_name": "HBoxModel",
            "_view_count": null,
            "_view_module": "@jupyter-widgets/controls",
            "_view_module_version": "1.5.0",
            "_view_name": "HBoxView",
            "box_style": "",
            "children": [
              "IPY_MODEL_87393a8783054b4ea3c6e81706d9e75c",
              "IPY_MODEL_c075ebf479b8428eaea51aa6c48b4e76",
              "IPY_MODEL_fe13975d1b644369b094c17a509e5639"
            ],
            "layout": "IPY_MODEL_36c031fa88404aaa8a3cbf23f922d654"
          }
        },
        "87393a8783054b4ea3c6e81706d9e75c": {
          "model_module": "@jupyter-widgets/controls",
          "model_name": "HTMLModel",
          "model_module_version": "1.5.0",
          "state": {
            "_dom_classes": [],
            "_model_module": "@jupyter-widgets/controls",
            "_model_module_version": "1.5.0",
            "_model_name": "HTMLModel",
            "_view_count": null,
            "_view_module": "@jupyter-widgets/controls",
            "_view_module_version": "1.5.0",
            "_view_name": "HTMLView",
            "description": "",
            "description_tooltip": null,
            "layout": "IPY_MODEL_88c381c250704142abf7710736a970b8",
            "placeholder": "​",
            "style": "IPY_MODEL_c8cd94b7446a4aa39ed682e7ec2d30a4",
            "value": ""
          }
        },
        "c075ebf479b8428eaea51aa6c48b4e76": {
          "model_module": "@jupyter-widgets/controls",
          "model_name": "FloatProgressModel",
          "model_module_version": "1.5.0",
          "state": {
            "_dom_classes": [],
            "_model_module": "@jupyter-widgets/controls",
            "_model_module_version": "1.5.0",
            "_model_name": "FloatProgressModel",
            "_view_count": null,
            "_view_module": "@jupyter-widgets/controls",
            "_view_module_version": "1.5.0",
            "_view_name": "ProgressView",
            "bar_style": "success",
            "description": "",
            "description_tooltip": null,
            "layout": "IPY_MODEL_c26f55d2a0c344bf9d93a3c4fa564d29",
            "max": 1,
            "min": 0,
            "orientation": "horizontal",
            "style": "IPY_MODEL_5656fe7bd6024a5b8f2662eec315173b",
            "value": 1
          }
        },
        "fe13975d1b644369b094c17a509e5639": {
          "model_module": "@jupyter-widgets/controls",
          "model_name": "HTMLModel",
          "model_module_version": "1.5.0",
          "state": {
            "_dom_classes": [],
            "_model_module": "@jupyter-widgets/controls",
            "_model_module_version": "1.5.0",
            "_model_name": "HTMLModel",
            "_view_count": null,
            "_view_module": "@jupyter-widgets/controls",
            "_view_module_version": "1.5.0",
            "_view_name": "HTMLView",
            "description": "",
            "description_tooltip": null,
            "layout": "IPY_MODEL_59a4a965bd2c4c909f521c92dd850b3a",
            "placeholder": "​",
            "style": "IPY_MODEL_9c7a0fd8e20e4f71b8b75b56835d4b83",
            "value": " 2267/? [00:06&lt;00:00, 215.65ex/s]"
          }
        },
        "36c031fa88404aaa8a3cbf23f922d654": {
          "model_module": "@jupyter-widgets/base",
          "model_name": "LayoutModel",
          "model_module_version": "1.2.0",
          "state": {
            "_model_module": "@jupyter-widgets/base",
            "_model_module_version": "1.2.0",
            "_model_name": "LayoutModel",
            "_view_count": null,
            "_view_module": "@jupyter-widgets/base",
            "_view_module_version": "1.2.0",
            "_view_name": "LayoutView",
            "align_content": null,
            "align_items": null,
            "align_self": null,
            "border": null,
            "bottom": null,
            "display": null,
            "flex": null,
            "flex_flow": null,
            "grid_area": null,
            "grid_auto_columns": null,
            "grid_auto_flow": null,
            "grid_auto_rows": null,
            "grid_column": null,
            "grid_gap": null,
            "grid_row": null,
            "grid_template_areas": null,
            "grid_template_columns": null,
            "grid_template_rows": null,
            "height": null,
            "justify_content": null,
            "justify_items": null,
            "left": null,
            "margin": null,
            "max_height": null,
            "max_width": null,
            "min_height": null,
            "min_width": null,
            "object_fit": null,
            "object_position": null,
            "order": null,
            "overflow": null,
            "overflow_x": null,
            "overflow_y": null,
            "padding": null,
            "right": null,
            "top": null,
            "visibility": null,
            "width": null
          }
        },
        "88c381c250704142abf7710736a970b8": {
          "model_module": "@jupyter-widgets/base",
          "model_name": "LayoutModel",
          "model_module_version": "1.2.0",
          "state": {
            "_model_module": "@jupyter-widgets/base",
            "_model_module_version": "1.2.0",
            "_model_name": "LayoutModel",
            "_view_count": null,
            "_view_module": "@jupyter-widgets/base",
            "_view_module_version": "1.2.0",
            "_view_name": "LayoutView",
            "align_content": null,
            "align_items": null,
            "align_self": null,
            "border": null,
            "bottom": null,
            "display": null,
            "flex": null,
            "flex_flow": null,
            "grid_area": null,
            "grid_auto_columns": null,
            "grid_auto_flow": null,
            "grid_auto_rows": null,
            "grid_column": null,
            "grid_gap": null,
            "grid_row": null,
            "grid_template_areas": null,
            "grid_template_columns": null,
            "grid_template_rows": null,
            "height": null,
            "justify_content": null,
            "justify_items": null,
            "left": null,
            "margin": null,
            "max_height": null,
            "max_width": null,
            "min_height": null,
            "min_width": null,
            "object_fit": null,
            "object_position": null,
            "order": null,
            "overflow": null,
            "overflow_x": null,
            "overflow_y": null,
            "padding": null,
            "right": null,
            "top": null,
            "visibility": null,
            "width": null
          }
        },
        "c8cd94b7446a4aa39ed682e7ec2d30a4": {
          "model_module": "@jupyter-widgets/controls",
          "model_name": "DescriptionStyleModel",
          "model_module_version": "1.5.0",
          "state": {
            "_model_module": "@jupyter-widgets/controls",
            "_model_module_version": "1.5.0",
            "_model_name": "DescriptionStyleModel",
            "_view_count": null,
            "_view_module": "@jupyter-widgets/base",
            "_view_module_version": "1.2.0",
            "_view_name": "StyleView",
            "description_width": ""
          }
        },
        "c26f55d2a0c344bf9d93a3c4fa564d29": {
          "model_module": "@jupyter-widgets/base",
          "model_name": "LayoutModel",
          "model_module_version": "1.2.0",
          "state": {
            "_model_module": "@jupyter-widgets/base",
            "_model_module_version": "1.2.0",
            "_model_name": "LayoutModel",
            "_view_count": null,
            "_view_module": "@jupyter-widgets/base",
            "_view_module_version": "1.2.0",
            "_view_name": "LayoutView",
            "align_content": null,
            "align_items": null,
            "align_self": null,
            "border": null,
            "bottom": null,
            "display": null,
            "flex": null,
            "flex_flow": null,
            "grid_area": null,
            "grid_auto_columns": null,
            "grid_auto_flow": null,
            "grid_auto_rows": null,
            "grid_column": null,
            "grid_gap": null,
            "grid_row": null,
            "grid_template_areas": null,
            "grid_template_columns": null,
            "grid_template_rows": null,
            "height": null,
            "justify_content": null,
            "justify_items": null,
            "left": null,
            "margin": null,
            "max_height": null,
            "max_width": null,
            "min_height": null,
            "min_width": null,
            "object_fit": null,
            "object_position": null,
            "order": null,
            "overflow": null,
            "overflow_x": null,
            "overflow_y": null,
            "padding": null,
            "right": null,
            "top": null,
            "visibility": null,
            "width": "20px"
          }
        },
        "5656fe7bd6024a5b8f2662eec315173b": {
          "model_module": "@jupyter-widgets/controls",
          "model_name": "ProgressStyleModel",
          "model_module_version": "1.5.0",
          "state": {
            "_model_module": "@jupyter-widgets/controls",
            "_model_module_version": "1.5.0",
            "_model_name": "ProgressStyleModel",
            "_view_count": null,
            "_view_module": "@jupyter-widgets/base",
            "_view_module_version": "1.2.0",
            "_view_name": "StyleView",
            "bar_color": null,
            "description_width": ""
          }
        },
        "59a4a965bd2c4c909f521c92dd850b3a": {
          "model_module": "@jupyter-widgets/base",
          "model_name": "LayoutModel",
          "model_module_version": "1.2.0",
          "state": {
            "_model_module": "@jupyter-widgets/base",
            "_model_module_version": "1.2.0",
            "_model_name": "LayoutModel",
            "_view_count": null,
            "_view_module": "@jupyter-widgets/base",
            "_view_module_version": "1.2.0",
            "_view_name": "LayoutView",
            "align_content": null,
            "align_items": null,
            "align_self": null,
            "border": null,
            "bottom": null,
            "display": null,
            "flex": null,
            "flex_flow": null,
            "grid_area": null,
            "grid_auto_columns": null,
            "grid_auto_flow": null,
            "grid_auto_rows": null,
            "grid_column": null,
            "grid_gap": null,
            "grid_row": null,
            "grid_template_areas": null,
            "grid_template_columns": null,
            "grid_template_rows": null,
            "height": null,
            "justify_content": null,
            "justify_items": null,
            "left": null,
            "margin": null,
            "max_height": null,
            "max_width": null,
            "min_height": null,
            "min_width": null,
            "object_fit": null,
            "object_position": null,
            "order": null,
            "overflow": null,
            "overflow_x": null,
            "overflow_y": null,
            "padding": null,
            "right": null,
            "top": null,
            "visibility": null,
            "width": null
          }
        },
        "9c7a0fd8e20e4f71b8b75b56835d4b83": {
          "model_module": "@jupyter-widgets/controls",
          "model_name": "DescriptionStyleModel",
          "model_module_version": "1.5.0",
          "state": {
            "_model_module": "@jupyter-widgets/controls",
            "_model_module_version": "1.5.0",
            "_model_name": "DescriptionStyleModel",
            "_view_count": null,
            "_view_module": "@jupyter-widgets/base",
            "_view_module_version": "1.2.0",
            "_view_name": "StyleView",
            "description_width": ""
          }
        },
        "5c968adeff704b9fae4a3aacfe28c904": {
          "model_module": "@jupyter-widgets/controls",
          "model_name": "HBoxModel",
          "model_module_version": "1.5.0",
          "state": {
            "_dom_classes": [],
            "_model_module": "@jupyter-widgets/controls",
            "_model_module_version": "1.5.0",
            "_model_name": "HBoxModel",
            "_view_count": null,
            "_view_module": "@jupyter-widgets/controls",
            "_view_module_version": "1.5.0",
            "_view_name": "HBoxView",
            "box_style": "",
            "children": [
              "IPY_MODEL_c10a976f76b34393b5c82f32893a37aa",
              "IPY_MODEL_9dbf54ca0dbd4d24a36805e3cac5217b",
              "IPY_MODEL_f51eb13d5d6744ce82d6f4ed17b1e6d0"
            ],
            "layout": "IPY_MODEL_a0023856298644fa9e744da7edc8f49e"
          }
        },
        "c10a976f76b34393b5c82f32893a37aa": {
          "model_module": "@jupyter-widgets/controls",
          "model_name": "HTMLModel",
          "model_module_version": "1.5.0",
          "state": {
            "_dom_classes": [],
            "_model_module": "@jupyter-widgets/controls",
            "_model_module_version": "1.5.0",
            "_model_name": "HTMLModel",
            "_view_count": null,
            "_view_module": "@jupyter-widgets/controls",
            "_view_module_version": "1.5.0",
            "_view_name": "HTMLView",
            "description": "",
            "description_tooltip": null,
            "layout": "IPY_MODEL_f7771611245b4d0c9ab9a68b4ed092ca",
            "placeholder": "​",
            "style": "IPY_MODEL_b9dd7bd1df354097bcef2f6e4d4d1b6d",
            "value": ""
          }
        },
        "9dbf54ca0dbd4d24a36805e3cac5217b": {
          "model_module": "@jupyter-widgets/controls",
          "model_name": "FloatProgressModel",
          "model_module_version": "1.5.0",
          "state": {
            "_dom_classes": [],
            "_model_module": "@jupyter-widgets/controls",
            "_model_module_version": "1.5.0",
            "_model_name": "FloatProgressModel",
            "_view_count": null,
            "_view_module": "@jupyter-widgets/controls",
            "_view_module_version": "1.5.0",
            "_view_name": "ProgressView",
            "bar_style": "success",
            "description": "",
            "description_tooltip": null,
            "layout": "IPY_MODEL_bd3f8bc6474246ff85a6d959e5a4d256",
            "max": 1,
            "min": 0,
            "orientation": "horizontal",
            "style": "IPY_MODEL_e64d8b6abf29419982a8b1efa589662f",
            "value": 1
          }
        },
        "f51eb13d5d6744ce82d6f4ed17b1e6d0": {
          "model_module": "@jupyter-widgets/controls",
          "model_name": "HTMLModel",
          "model_module_version": "1.5.0",
          "state": {
            "_dom_classes": [],
            "_model_module": "@jupyter-widgets/controls",
            "_model_module_version": "1.5.0",
            "_model_name": "HTMLModel",
            "_view_count": null,
            "_view_module": "@jupyter-widgets/controls",
            "_view_module_version": "1.5.0",
            "_view_name": "HTMLView",
            "description": "",
            "description_tooltip": null,
            "layout": "IPY_MODEL_e42e373042484545901679ebc1c26210",
            "placeholder": "​",
            "style": "IPY_MODEL_e172ec0626b74f20bfcb0f7d9054402b",
            "value": " 9079/? [00:13&lt;00:00, 926.04ex/s]"
          }
        },
        "a0023856298644fa9e744da7edc8f49e": {
          "model_module": "@jupyter-widgets/base",
          "model_name": "LayoutModel",
          "model_module_version": "1.2.0",
          "state": {
            "_model_module": "@jupyter-widgets/base",
            "_model_module_version": "1.2.0",
            "_model_name": "LayoutModel",
            "_view_count": null,
            "_view_module": "@jupyter-widgets/base",
            "_view_module_version": "1.2.0",
            "_view_name": "LayoutView",
            "align_content": null,
            "align_items": null,
            "align_self": null,
            "border": null,
            "bottom": null,
            "display": null,
            "flex": null,
            "flex_flow": null,
            "grid_area": null,
            "grid_auto_columns": null,
            "grid_auto_flow": null,
            "grid_auto_rows": null,
            "grid_column": null,
            "grid_gap": null,
            "grid_row": null,
            "grid_template_areas": null,
            "grid_template_columns": null,
            "grid_template_rows": null,
            "height": null,
            "justify_content": null,
            "justify_items": null,
            "left": null,
            "margin": null,
            "max_height": null,
            "max_width": null,
            "min_height": null,
            "min_width": null,
            "object_fit": null,
            "object_position": null,
            "order": null,
            "overflow": null,
            "overflow_x": null,
            "overflow_y": null,
            "padding": null,
            "right": null,
            "top": null,
            "visibility": null,
            "width": null
          }
        },
        "f7771611245b4d0c9ab9a68b4ed092ca": {
          "model_module": "@jupyter-widgets/base",
          "model_name": "LayoutModel",
          "model_module_version": "1.2.0",
          "state": {
            "_model_module": "@jupyter-widgets/base",
            "_model_module_version": "1.2.0",
            "_model_name": "LayoutModel",
            "_view_count": null,
            "_view_module": "@jupyter-widgets/base",
            "_view_module_version": "1.2.0",
            "_view_name": "LayoutView",
            "align_content": null,
            "align_items": null,
            "align_self": null,
            "border": null,
            "bottom": null,
            "display": null,
            "flex": null,
            "flex_flow": null,
            "grid_area": null,
            "grid_auto_columns": null,
            "grid_auto_flow": null,
            "grid_auto_rows": null,
            "grid_column": null,
            "grid_gap": null,
            "grid_row": null,
            "grid_template_areas": null,
            "grid_template_columns": null,
            "grid_template_rows": null,
            "height": null,
            "justify_content": null,
            "justify_items": null,
            "left": null,
            "margin": null,
            "max_height": null,
            "max_width": null,
            "min_height": null,
            "min_width": null,
            "object_fit": null,
            "object_position": null,
            "order": null,
            "overflow": null,
            "overflow_x": null,
            "overflow_y": null,
            "padding": null,
            "right": null,
            "top": null,
            "visibility": null,
            "width": null
          }
        },
        "b9dd7bd1df354097bcef2f6e4d4d1b6d": {
          "model_module": "@jupyter-widgets/controls",
          "model_name": "DescriptionStyleModel",
          "model_module_version": "1.5.0",
          "state": {
            "_model_module": "@jupyter-widgets/controls",
            "_model_module_version": "1.5.0",
            "_model_name": "DescriptionStyleModel",
            "_view_count": null,
            "_view_module": "@jupyter-widgets/base",
            "_view_module_version": "1.2.0",
            "_view_name": "StyleView",
            "description_width": ""
          }
        },
        "bd3f8bc6474246ff85a6d959e5a4d256": {
          "model_module": "@jupyter-widgets/base",
          "model_name": "LayoutModel",
          "model_module_version": "1.2.0",
          "state": {
            "_model_module": "@jupyter-widgets/base",
            "_model_module_version": "1.2.0",
            "_model_name": "LayoutModel",
            "_view_count": null,
            "_view_module": "@jupyter-widgets/base",
            "_view_module_version": "1.2.0",
            "_view_name": "LayoutView",
            "align_content": null,
            "align_items": null,
            "align_self": null,
            "border": null,
            "bottom": null,
            "display": null,
            "flex": null,
            "flex_flow": null,
            "grid_area": null,
            "grid_auto_columns": null,
            "grid_auto_flow": null,
            "grid_auto_rows": null,
            "grid_column": null,
            "grid_gap": null,
            "grid_row": null,
            "grid_template_areas": null,
            "grid_template_columns": null,
            "grid_template_rows": null,
            "height": null,
            "justify_content": null,
            "justify_items": null,
            "left": null,
            "margin": null,
            "max_height": null,
            "max_width": null,
            "min_height": null,
            "min_width": null,
            "object_fit": null,
            "object_position": null,
            "order": null,
            "overflow": null,
            "overflow_x": null,
            "overflow_y": null,
            "padding": null,
            "right": null,
            "top": null,
            "visibility": null,
            "width": "20px"
          }
        },
        "e64d8b6abf29419982a8b1efa589662f": {
          "model_module": "@jupyter-widgets/controls",
          "model_name": "ProgressStyleModel",
          "model_module_version": "1.5.0",
          "state": {
            "_model_module": "@jupyter-widgets/controls",
            "_model_module_version": "1.5.0",
            "_model_name": "ProgressStyleModel",
            "_view_count": null,
            "_view_module": "@jupyter-widgets/base",
            "_view_module_version": "1.2.0",
            "_view_name": "StyleView",
            "bar_color": null,
            "description_width": ""
          }
        },
        "e42e373042484545901679ebc1c26210": {
          "model_module": "@jupyter-widgets/base",
          "model_name": "LayoutModel",
          "model_module_version": "1.2.0",
          "state": {
            "_model_module": "@jupyter-widgets/base",
            "_model_module_version": "1.2.0",
            "_model_name": "LayoutModel",
            "_view_count": null,
            "_view_module": "@jupyter-widgets/base",
            "_view_module_version": "1.2.0",
            "_view_name": "LayoutView",
            "align_content": null,
            "align_items": null,
            "align_self": null,
            "border": null,
            "bottom": null,
            "display": null,
            "flex": null,
            "flex_flow": null,
            "grid_area": null,
            "grid_auto_columns": null,
            "grid_auto_flow": null,
            "grid_auto_rows": null,
            "grid_column": null,
            "grid_gap": null,
            "grid_row": null,
            "grid_template_areas": null,
            "grid_template_columns": null,
            "grid_template_rows": null,
            "height": null,
            "justify_content": null,
            "justify_items": null,
            "left": null,
            "margin": null,
            "max_height": null,
            "max_width": null,
            "min_height": null,
            "min_width": null,
            "object_fit": null,
            "object_position": null,
            "order": null,
            "overflow": null,
            "overflow_x": null,
            "overflow_y": null,
            "padding": null,
            "right": null,
            "top": null,
            "visibility": null,
            "width": null
          }
        },
        "e172ec0626b74f20bfcb0f7d9054402b": {
          "model_module": "@jupyter-widgets/controls",
          "model_name": "DescriptionStyleModel",
          "model_module_version": "1.5.0",
          "state": {
            "_model_module": "@jupyter-widgets/controls",
            "_model_module_version": "1.5.0",
            "_model_name": "DescriptionStyleModel",
            "_view_count": null,
            "_view_module": "@jupyter-widgets/base",
            "_view_module_version": "1.2.0",
            "_view_name": "StyleView",
            "description_width": ""
          }
        },
        "27d9d68eb9694222a933fff53a370cba": {
          "model_module": "@jupyter-widgets/controls",
          "model_name": "HBoxModel",
          "model_module_version": "1.5.0",
          "state": {
            "_dom_classes": [],
            "_model_module": "@jupyter-widgets/controls",
            "_model_module_version": "1.5.0",
            "_model_name": "HBoxModel",
            "_view_count": null,
            "_view_module": "@jupyter-widgets/controls",
            "_view_module_version": "1.5.0",
            "_view_name": "HBoxView",
            "box_style": "",
            "children": [
              "IPY_MODEL_6f61ce49c01541a584719dfbd5d855e6",
              "IPY_MODEL_2806da3ba1c6475e8018108e2bdd2951",
              "IPY_MODEL_2b5cecc603354b5eb4704a82fd4527a9"
            ],
            "layout": "IPY_MODEL_0b5914f9df16440c9834a03518b1c42d"
          }
        },
        "6f61ce49c01541a584719dfbd5d855e6": {
          "model_module": "@jupyter-widgets/controls",
          "model_name": "HTMLModel",
          "model_module_version": "1.5.0",
          "state": {
            "_dom_classes": [],
            "_model_module": "@jupyter-widgets/controls",
            "_model_module_version": "1.5.0",
            "_model_name": "HTMLModel",
            "_view_count": null,
            "_view_module": "@jupyter-widgets/controls",
            "_view_module_version": "1.5.0",
            "_view_name": "HTMLView",
            "description": "",
            "description_tooltip": null,
            "layout": "IPY_MODEL_d05a443f5cb24477b744d17ad98fbd45",
            "placeholder": "​",
            "style": "IPY_MODEL_60d38237baf24448a4395f0917ff8599",
            "value": ""
          }
        },
        "2806da3ba1c6475e8018108e2bdd2951": {
          "model_module": "@jupyter-widgets/controls",
          "model_name": "FloatProgressModel",
          "model_module_version": "1.5.0",
          "state": {
            "_dom_classes": [],
            "_model_module": "@jupyter-widgets/controls",
            "_model_module_version": "1.5.0",
            "_model_name": "FloatProgressModel",
            "_view_count": null,
            "_view_module": "@jupyter-widgets/controls",
            "_view_module_version": "1.5.0",
            "_view_name": "ProgressView",
            "bar_style": "success",
            "description": "",
            "description_tooltip": null,
            "layout": "IPY_MODEL_f5eba302f04c45c7bdcf954d910a938f",
            "max": 1,
            "min": 0,
            "orientation": "horizontal",
            "style": "IPY_MODEL_899a5fbeb1b44bae88c8de625de23572",
            "value": 1
          }
        },
        "2b5cecc603354b5eb4704a82fd4527a9": {
          "model_module": "@jupyter-widgets/controls",
          "model_name": "HTMLModel",
          "model_module_version": "1.5.0",
          "state": {
            "_dom_classes": [],
            "_model_module": "@jupyter-widgets/controls",
            "_model_module_version": "1.5.0",
            "_model_name": "HTMLModel",
            "_view_count": null,
            "_view_module": "@jupyter-widgets/controls",
            "_view_module_version": "1.5.0",
            "_view_name": "HTMLView",
            "description": "",
            "description_tooltip": null,
            "layout": "IPY_MODEL_4c2d9ee0285a4304b1d3abb702d5584f",
            "placeholder": "​",
            "style": "IPY_MODEL_9836dc0d6c364b58a9606a5fd56aa874",
            "value": " 2267/? [00:02&lt;00:00, 1741.23ex/s]"
          }
        },
        "0b5914f9df16440c9834a03518b1c42d": {
          "model_module": "@jupyter-widgets/base",
          "model_name": "LayoutModel",
          "model_module_version": "1.2.0",
          "state": {
            "_model_module": "@jupyter-widgets/base",
            "_model_module_version": "1.2.0",
            "_model_name": "LayoutModel",
            "_view_count": null,
            "_view_module": "@jupyter-widgets/base",
            "_view_module_version": "1.2.0",
            "_view_name": "LayoutView",
            "align_content": null,
            "align_items": null,
            "align_self": null,
            "border": null,
            "bottom": null,
            "display": null,
            "flex": null,
            "flex_flow": null,
            "grid_area": null,
            "grid_auto_columns": null,
            "grid_auto_flow": null,
            "grid_auto_rows": null,
            "grid_column": null,
            "grid_gap": null,
            "grid_row": null,
            "grid_template_areas": null,
            "grid_template_columns": null,
            "grid_template_rows": null,
            "height": null,
            "justify_content": null,
            "justify_items": null,
            "left": null,
            "margin": null,
            "max_height": null,
            "max_width": null,
            "min_height": null,
            "min_width": null,
            "object_fit": null,
            "object_position": null,
            "order": null,
            "overflow": null,
            "overflow_x": null,
            "overflow_y": null,
            "padding": null,
            "right": null,
            "top": null,
            "visibility": null,
            "width": null
          }
        },
        "d05a443f5cb24477b744d17ad98fbd45": {
          "model_module": "@jupyter-widgets/base",
          "model_name": "LayoutModel",
          "model_module_version": "1.2.0",
          "state": {
            "_model_module": "@jupyter-widgets/base",
            "_model_module_version": "1.2.0",
            "_model_name": "LayoutModel",
            "_view_count": null,
            "_view_module": "@jupyter-widgets/base",
            "_view_module_version": "1.2.0",
            "_view_name": "LayoutView",
            "align_content": null,
            "align_items": null,
            "align_self": null,
            "border": null,
            "bottom": null,
            "display": null,
            "flex": null,
            "flex_flow": null,
            "grid_area": null,
            "grid_auto_columns": null,
            "grid_auto_flow": null,
            "grid_auto_rows": null,
            "grid_column": null,
            "grid_gap": null,
            "grid_row": null,
            "grid_template_areas": null,
            "grid_template_columns": null,
            "grid_template_rows": null,
            "height": null,
            "justify_content": null,
            "justify_items": null,
            "left": null,
            "margin": null,
            "max_height": null,
            "max_width": null,
            "min_height": null,
            "min_width": null,
            "object_fit": null,
            "object_position": null,
            "order": null,
            "overflow": null,
            "overflow_x": null,
            "overflow_y": null,
            "padding": null,
            "right": null,
            "top": null,
            "visibility": null,
            "width": null
          }
        },
        "60d38237baf24448a4395f0917ff8599": {
          "model_module": "@jupyter-widgets/controls",
          "model_name": "DescriptionStyleModel",
          "model_module_version": "1.5.0",
          "state": {
            "_model_module": "@jupyter-widgets/controls",
            "_model_module_version": "1.5.0",
            "_model_name": "DescriptionStyleModel",
            "_view_count": null,
            "_view_module": "@jupyter-widgets/base",
            "_view_module_version": "1.2.0",
            "_view_name": "StyleView",
            "description_width": ""
          }
        },
        "f5eba302f04c45c7bdcf954d910a938f": {
          "model_module": "@jupyter-widgets/base",
          "model_name": "LayoutModel",
          "model_module_version": "1.2.0",
          "state": {
            "_model_module": "@jupyter-widgets/base",
            "_model_module_version": "1.2.0",
            "_model_name": "LayoutModel",
            "_view_count": null,
            "_view_module": "@jupyter-widgets/base",
            "_view_module_version": "1.2.0",
            "_view_name": "LayoutView",
            "align_content": null,
            "align_items": null,
            "align_self": null,
            "border": null,
            "bottom": null,
            "display": null,
            "flex": null,
            "flex_flow": null,
            "grid_area": null,
            "grid_auto_columns": null,
            "grid_auto_flow": null,
            "grid_auto_rows": null,
            "grid_column": null,
            "grid_gap": null,
            "grid_row": null,
            "grid_template_areas": null,
            "grid_template_columns": null,
            "grid_template_rows": null,
            "height": null,
            "justify_content": null,
            "justify_items": null,
            "left": null,
            "margin": null,
            "max_height": null,
            "max_width": null,
            "min_height": null,
            "min_width": null,
            "object_fit": null,
            "object_position": null,
            "order": null,
            "overflow": null,
            "overflow_x": null,
            "overflow_y": null,
            "padding": null,
            "right": null,
            "top": null,
            "visibility": null,
            "width": "20px"
          }
        },
        "899a5fbeb1b44bae88c8de625de23572": {
          "model_module": "@jupyter-widgets/controls",
          "model_name": "ProgressStyleModel",
          "model_module_version": "1.5.0",
          "state": {
            "_model_module": "@jupyter-widgets/controls",
            "_model_module_version": "1.5.0",
            "_model_name": "ProgressStyleModel",
            "_view_count": null,
            "_view_module": "@jupyter-widgets/base",
            "_view_module_version": "1.2.0",
            "_view_name": "StyleView",
            "bar_color": null,
            "description_width": ""
          }
        },
        "4c2d9ee0285a4304b1d3abb702d5584f": {
          "model_module": "@jupyter-widgets/base",
          "model_name": "LayoutModel",
          "model_module_version": "1.2.0",
          "state": {
            "_model_module": "@jupyter-widgets/base",
            "_model_module_version": "1.2.0",
            "_model_name": "LayoutModel",
            "_view_count": null,
            "_view_module": "@jupyter-widgets/base",
            "_view_module_version": "1.2.0",
            "_view_name": "LayoutView",
            "align_content": null,
            "align_items": null,
            "align_self": null,
            "border": null,
            "bottom": null,
            "display": null,
            "flex": null,
            "flex_flow": null,
            "grid_area": null,
            "grid_auto_columns": null,
            "grid_auto_flow": null,
            "grid_auto_rows": null,
            "grid_column": null,
            "grid_gap": null,
            "grid_row": null,
            "grid_template_areas": null,
            "grid_template_columns": null,
            "grid_template_rows": null,
            "height": null,
            "justify_content": null,
            "justify_items": null,
            "left": null,
            "margin": null,
            "max_height": null,
            "max_width": null,
            "min_height": null,
            "min_width": null,
            "object_fit": null,
            "object_position": null,
            "order": null,
            "overflow": null,
            "overflow_x": null,
            "overflow_y": null,
            "padding": null,
            "right": null,
            "top": null,
            "visibility": null,
            "width": null
          }
        },
        "9836dc0d6c364b58a9606a5fd56aa874": {
          "model_module": "@jupyter-widgets/controls",
          "model_name": "DescriptionStyleModel",
          "model_module_version": "1.5.0",
          "state": {
            "_model_module": "@jupyter-widgets/controls",
            "_model_module_version": "1.5.0",
            "_model_name": "DescriptionStyleModel",
            "_view_count": null,
            "_view_module": "@jupyter-widgets/base",
            "_view_module_version": "1.2.0",
            "_view_name": "StyleView",
            "description_width": ""
          }
        },
        "d4bb6fc5099b4a939ade0932dfa3ff83": {
          "model_module": "@jupyter-widgets/controls",
          "model_name": "HBoxModel",
          "model_module_version": "1.5.0",
          "state": {
            "_dom_classes": [],
            "_model_module": "@jupyter-widgets/controls",
            "_model_module_version": "1.5.0",
            "_model_name": "HBoxModel",
            "_view_count": null,
            "_view_module": "@jupyter-widgets/controls",
            "_view_module_version": "1.5.0",
            "_view_name": "HBoxView",
            "box_style": "",
            "children": [
              "IPY_MODEL_c0340a8ff7a848b6818f4530e1424646",
              "IPY_MODEL_cd9df74bfc0d4f078ca5a33b5f6b137d",
              "IPY_MODEL_a3d0a9da391944a49738819c452a2101"
            ],
            "layout": "IPY_MODEL_e02fce7c1d0f4cedba64279ad20ff601"
          }
        },
        "c0340a8ff7a848b6818f4530e1424646": {
          "model_module": "@jupyter-widgets/controls",
          "model_name": "HTMLModel",
          "model_module_version": "1.5.0",
          "state": {
            "_dom_classes": [],
            "_model_module": "@jupyter-widgets/controls",
            "_model_module_version": "1.5.0",
            "_model_name": "HTMLModel",
            "_view_count": null,
            "_view_module": "@jupyter-widgets/controls",
            "_view_module_version": "1.5.0",
            "_view_name": "HTMLView",
            "description": "",
            "description_tooltip": null,
            "layout": "IPY_MODEL_18bf558903e24861a149e4bfa9d55a0d",
            "placeholder": "​",
            "style": "IPY_MODEL_9428d0285b7b4f39a11c2a48097859b9",
            "value": "100%"
          }
        },
        "cd9df74bfc0d4f078ca5a33b5f6b137d": {
          "model_module": "@jupyter-widgets/controls",
          "model_name": "FloatProgressModel",
          "model_module_version": "1.5.0",
          "state": {
            "_dom_classes": [],
            "_model_module": "@jupyter-widgets/controls",
            "_model_module_version": "1.5.0",
            "_model_name": "FloatProgressModel",
            "_view_count": null,
            "_view_module": "@jupyter-widgets/controls",
            "_view_module_version": "1.5.0",
            "_view_name": "ProgressView",
            "bar_style": "success",
            "description": "",
            "description_tooltip": null,
            "layout": "IPY_MODEL_df0951989a3b448594d9f0220ac71fe4",
            "max": 1,
            "min": 0,
            "orientation": "horizontal",
            "style": "IPY_MODEL_80be2600a8f049d899938f3e72a50fcc",
            "value": 1
          }
        },
        "a3d0a9da391944a49738819c452a2101": {
          "model_module": "@jupyter-widgets/controls",
          "model_name": "HTMLModel",
          "model_module_version": "1.5.0",
          "state": {
            "_dom_classes": [],
            "_model_module": "@jupyter-widgets/controls",
            "_model_module_version": "1.5.0",
            "_model_name": "HTMLModel",
            "_view_count": null,
            "_view_module": "@jupyter-widgets/controls",
            "_view_module_version": "1.5.0",
            "_view_name": "HTMLView",
            "description": "",
            "description_tooltip": null,
            "layout": "IPY_MODEL_4b8756eb529442918fddf9b87a0af3ab",
            "placeholder": "​",
            "style": "IPY_MODEL_3d62a8a21a7d4f3d909ef79b3c4cc2a1",
            "value": " 1/1 [00:01&lt;00:00,  1.57s/ba]"
          }
        },
        "e02fce7c1d0f4cedba64279ad20ff601": {
          "model_module": "@jupyter-widgets/base",
          "model_name": "LayoutModel",
          "model_module_version": "1.2.0",
          "state": {
            "_model_module": "@jupyter-widgets/base",
            "_model_module_version": "1.2.0",
            "_model_name": "LayoutModel",
            "_view_count": null,
            "_view_module": "@jupyter-widgets/base",
            "_view_module_version": "1.2.0",
            "_view_name": "LayoutView",
            "align_content": null,
            "align_items": null,
            "align_self": null,
            "border": null,
            "bottom": null,
            "display": null,
            "flex": null,
            "flex_flow": null,
            "grid_area": null,
            "grid_auto_columns": null,
            "grid_auto_flow": null,
            "grid_auto_rows": null,
            "grid_column": null,
            "grid_gap": null,
            "grid_row": null,
            "grid_template_areas": null,
            "grid_template_columns": null,
            "grid_template_rows": null,
            "height": null,
            "justify_content": null,
            "justify_items": null,
            "left": null,
            "margin": null,
            "max_height": null,
            "max_width": null,
            "min_height": null,
            "min_width": null,
            "object_fit": null,
            "object_position": null,
            "order": null,
            "overflow": null,
            "overflow_x": null,
            "overflow_y": null,
            "padding": null,
            "right": null,
            "top": null,
            "visibility": null,
            "width": null
          }
        },
        "18bf558903e24861a149e4bfa9d55a0d": {
          "model_module": "@jupyter-widgets/base",
          "model_name": "LayoutModel",
          "model_module_version": "1.2.0",
          "state": {
            "_model_module": "@jupyter-widgets/base",
            "_model_module_version": "1.2.0",
            "_model_name": "LayoutModel",
            "_view_count": null,
            "_view_module": "@jupyter-widgets/base",
            "_view_module_version": "1.2.0",
            "_view_name": "LayoutView",
            "align_content": null,
            "align_items": null,
            "align_self": null,
            "border": null,
            "bottom": null,
            "display": null,
            "flex": null,
            "flex_flow": null,
            "grid_area": null,
            "grid_auto_columns": null,
            "grid_auto_flow": null,
            "grid_auto_rows": null,
            "grid_column": null,
            "grid_gap": null,
            "grid_row": null,
            "grid_template_areas": null,
            "grid_template_columns": null,
            "grid_template_rows": null,
            "height": null,
            "justify_content": null,
            "justify_items": null,
            "left": null,
            "margin": null,
            "max_height": null,
            "max_width": null,
            "min_height": null,
            "min_width": null,
            "object_fit": null,
            "object_position": null,
            "order": null,
            "overflow": null,
            "overflow_x": null,
            "overflow_y": null,
            "padding": null,
            "right": null,
            "top": null,
            "visibility": null,
            "width": null
          }
        },
        "9428d0285b7b4f39a11c2a48097859b9": {
          "model_module": "@jupyter-widgets/controls",
          "model_name": "DescriptionStyleModel",
          "model_module_version": "1.5.0",
          "state": {
            "_model_module": "@jupyter-widgets/controls",
            "_model_module_version": "1.5.0",
            "_model_name": "DescriptionStyleModel",
            "_view_count": null,
            "_view_module": "@jupyter-widgets/base",
            "_view_module_version": "1.2.0",
            "_view_name": "StyleView",
            "description_width": ""
          }
        },
        "df0951989a3b448594d9f0220ac71fe4": {
          "model_module": "@jupyter-widgets/base",
          "model_name": "LayoutModel",
          "model_module_version": "1.2.0",
          "state": {
            "_model_module": "@jupyter-widgets/base",
            "_model_module_version": "1.2.0",
            "_model_name": "LayoutModel",
            "_view_count": null,
            "_view_module": "@jupyter-widgets/base",
            "_view_module_version": "1.2.0",
            "_view_name": "LayoutView",
            "align_content": null,
            "align_items": null,
            "align_self": null,
            "border": null,
            "bottom": null,
            "display": null,
            "flex": null,
            "flex_flow": null,
            "grid_area": null,
            "grid_auto_columns": null,
            "grid_auto_flow": null,
            "grid_auto_rows": null,
            "grid_column": null,
            "grid_gap": null,
            "grid_row": null,
            "grid_template_areas": null,
            "grid_template_columns": null,
            "grid_template_rows": null,
            "height": null,
            "justify_content": null,
            "justify_items": null,
            "left": null,
            "margin": null,
            "max_height": null,
            "max_width": null,
            "min_height": null,
            "min_width": null,
            "object_fit": null,
            "object_position": null,
            "order": null,
            "overflow": null,
            "overflow_x": null,
            "overflow_y": null,
            "padding": null,
            "right": null,
            "top": null,
            "visibility": null,
            "width": null
          }
        },
        "80be2600a8f049d899938f3e72a50fcc": {
          "model_module": "@jupyter-widgets/controls",
          "model_name": "ProgressStyleModel",
          "model_module_version": "1.5.0",
          "state": {
            "_model_module": "@jupyter-widgets/controls",
            "_model_module_version": "1.5.0",
            "_model_name": "ProgressStyleModel",
            "_view_count": null,
            "_view_module": "@jupyter-widgets/base",
            "_view_module_version": "1.2.0",
            "_view_name": "StyleView",
            "bar_color": null,
            "description_width": ""
          }
        },
        "4b8756eb529442918fddf9b87a0af3ab": {
          "model_module": "@jupyter-widgets/base",
          "model_name": "LayoutModel",
          "model_module_version": "1.2.0",
          "state": {
            "_model_module": "@jupyter-widgets/base",
            "_model_module_version": "1.2.0",
            "_model_name": "LayoutModel",
            "_view_count": null,
            "_view_module": "@jupyter-widgets/base",
            "_view_module_version": "1.2.0",
            "_view_name": "LayoutView",
            "align_content": null,
            "align_items": null,
            "align_self": null,
            "border": null,
            "bottom": null,
            "display": null,
            "flex": null,
            "flex_flow": null,
            "grid_area": null,
            "grid_auto_columns": null,
            "grid_auto_flow": null,
            "grid_auto_rows": null,
            "grid_column": null,
            "grid_gap": null,
            "grid_row": null,
            "grid_template_areas": null,
            "grid_template_columns": null,
            "grid_template_rows": null,
            "height": null,
            "justify_content": null,
            "justify_items": null,
            "left": null,
            "margin": null,
            "max_height": null,
            "max_width": null,
            "min_height": null,
            "min_width": null,
            "object_fit": null,
            "object_position": null,
            "order": null,
            "overflow": null,
            "overflow_x": null,
            "overflow_y": null,
            "padding": null,
            "right": null,
            "top": null,
            "visibility": null,
            "width": null
          }
        },
        "3d62a8a21a7d4f3d909ef79b3c4cc2a1": {
          "model_module": "@jupyter-widgets/controls",
          "model_name": "DescriptionStyleModel",
          "model_module_version": "1.5.0",
          "state": {
            "_model_module": "@jupyter-widgets/controls",
            "_model_module_version": "1.5.0",
            "_model_name": "DescriptionStyleModel",
            "_view_count": null,
            "_view_module": "@jupyter-widgets/base",
            "_view_module_version": "1.2.0",
            "_view_name": "StyleView",
            "description_width": ""
          }
        },
        "371a60e12c0844969d8af39e2196b858": {
          "model_module": "@jupyter-widgets/controls",
          "model_name": "HBoxModel",
          "model_module_version": "1.5.0",
          "state": {
            "_dom_classes": [],
            "_model_module": "@jupyter-widgets/controls",
            "_model_module_version": "1.5.0",
            "_model_name": "HBoxModel",
            "_view_count": null,
            "_view_module": "@jupyter-widgets/controls",
            "_view_module_version": "1.5.0",
            "_view_name": "HBoxView",
            "box_style": "",
            "children": [
              "IPY_MODEL_38403283a6e244c09e48a2e921013f16",
              "IPY_MODEL_9d8659a03ed6456f94c4a279375c16ba",
              "IPY_MODEL_33a94a57505e4fd6b3a1fbf8bda0e7be"
            ],
            "layout": "IPY_MODEL_4ec2242617c246b2880eeedbc2f66c02"
          }
        },
        "38403283a6e244c09e48a2e921013f16": {
          "model_module": "@jupyter-widgets/controls",
          "model_name": "HTMLModel",
          "model_module_version": "1.5.0",
          "state": {
            "_dom_classes": [],
            "_model_module": "@jupyter-widgets/controls",
            "_model_module_version": "1.5.0",
            "_model_name": "HTMLModel",
            "_view_count": null,
            "_view_module": "@jupyter-widgets/controls",
            "_view_module_version": "1.5.0",
            "_view_name": "HTMLView",
            "description": "",
            "description_tooltip": null,
            "layout": "IPY_MODEL_5b139c036315492cba10d571ba1d3a88",
            "placeholder": "​",
            "style": "IPY_MODEL_9d2106a6c1e54db58e37176b8fda0b84",
            "value": "100%"
          }
        },
        "9d8659a03ed6456f94c4a279375c16ba": {
          "model_module": "@jupyter-widgets/controls",
          "model_name": "FloatProgressModel",
          "model_module_version": "1.5.0",
          "state": {
            "_dom_classes": [],
            "_model_module": "@jupyter-widgets/controls",
            "_model_module_version": "1.5.0",
            "_model_name": "FloatProgressModel",
            "_view_count": null,
            "_view_module": "@jupyter-widgets/controls",
            "_view_module_version": "1.5.0",
            "_view_name": "ProgressView",
            "bar_style": "success",
            "description": "",
            "description_tooltip": null,
            "layout": "IPY_MODEL_1fc1a0b099de42f18dc8f51d4891edd0",
            "max": 1,
            "min": 0,
            "orientation": "horizontal",
            "style": "IPY_MODEL_33a7c4518e954cd68a0bd27f55d6c410",
            "value": 1
          }
        },
        "33a94a57505e4fd6b3a1fbf8bda0e7be": {
          "model_module": "@jupyter-widgets/controls",
          "model_name": "HTMLModel",
          "model_module_version": "1.5.0",
          "state": {
            "_dom_classes": [],
            "_model_module": "@jupyter-widgets/controls",
            "_model_module_version": "1.5.0",
            "_model_name": "HTMLModel",
            "_view_count": null,
            "_view_module": "@jupyter-widgets/controls",
            "_view_module_version": "1.5.0",
            "_view_name": "HTMLView",
            "description": "",
            "description_tooltip": null,
            "layout": "IPY_MODEL_5b29c337f287468d80f504b5ac1cd5ff",
            "placeholder": "​",
            "style": "IPY_MODEL_5625cfb84b27420088e58568b815be9b",
            "value": " 1/1 [00:00&lt;00:00,  4.75ba/s]"
          }
        },
        "4ec2242617c246b2880eeedbc2f66c02": {
          "model_module": "@jupyter-widgets/base",
          "model_name": "LayoutModel",
          "model_module_version": "1.2.0",
          "state": {
            "_model_module": "@jupyter-widgets/base",
            "_model_module_version": "1.2.0",
            "_model_name": "LayoutModel",
            "_view_count": null,
            "_view_module": "@jupyter-widgets/base",
            "_view_module_version": "1.2.0",
            "_view_name": "LayoutView",
            "align_content": null,
            "align_items": null,
            "align_self": null,
            "border": null,
            "bottom": null,
            "display": null,
            "flex": null,
            "flex_flow": null,
            "grid_area": null,
            "grid_auto_columns": null,
            "grid_auto_flow": null,
            "grid_auto_rows": null,
            "grid_column": null,
            "grid_gap": null,
            "grid_row": null,
            "grid_template_areas": null,
            "grid_template_columns": null,
            "grid_template_rows": null,
            "height": null,
            "justify_content": null,
            "justify_items": null,
            "left": null,
            "margin": null,
            "max_height": null,
            "max_width": null,
            "min_height": null,
            "min_width": null,
            "object_fit": null,
            "object_position": null,
            "order": null,
            "overflow": null,
            "overflow_x": null,
            "overflow_y": null,
            "padding": null,
            "right": null,
            "top": null,
            "visibility": null,
            "width": null
          }
        },
        "5b139c036315492cba10d571ba1d3a88": {
          "model_module": "@jupyter-widgets/base",
          "model_name": "LayoutModel",
          "model_module_version": "1.2.0",
          "state": {
            "_model_module": "@jupyter-widgets/base",
            "_model_module_version": "1.2.0",
            "_model_name": "LayoutModel",
            "_view_count": null,
            "_view_module": "@jupyter-widgets/base",
            "_view_module_version": "1.2.0",
            "_view_name": "LayoutView",
            "align_content": null,
            "align_items": null,
            "align_self": null,
            "border": null,
            "bottom": null,
            "display": null,
            "flex": null,
            "flex_flow": null,
            "grid_area": null,
            "grid_auto_columns": null,
            "grid_auto_flow": null,
            "grid_auto_rows": null,
            "grid_column": null,
            "grid_gap": null,
            "grid_row": null,
            "grid_template_areas": null,
            "grid_template_columns": null,
            "grid_template_rows": null,
            "height": null,
            "justify_content": null,
            "justify_items": null,
            "left": null,
            "margin": null,
            "max_height": null,
            "max_width": null,
            "min_height": null,
            "min_width": null,
            "object_fit": null,
            "object_position": null,
            "order": null,
            "overflow": null,
            "overflow_x": null,
            "overflow_y": null,
            "padding": null,
            "right": null,
            "top": null,
            "visibility": null,
            "width": null
          }
        },
        "9d2106a6c1e54db58e37176b8fda0b84": {
          "model_module": "@jupyter-widgets/controls",
          "model_name": "DescriptionStyleModel",
          "model_module_version": "1.5.0",
          "state": {
            "_model_module": "@jupyter-widgets/controls",
            "_model_module_version": "1.5.0",
            "_model_name": "DescriptionStyleModel",
            "_view_count": null,
            "_view_module": "@jupyter-widgets/base",
            "_view_module_version": "1.2.0",
            "_view_name": "StyleView",
            "description_width": ""
          }
        },
        "1fc1a0b099de42f18dc8f51d4891edd0": {
          "model_module": "@jupyter-widgets/base",
          "model_name": "LayoutModel",
          "model_module_version": "1.2.0",
          "state": {
            "_model_module": "@jupyter-widgets/base",
            "_model_module_version": "1.2.0",
            "_model_name": "LayoutModel",
            "_view_count": null,
            "_view_module": "@jupyter-widgets/base",
            "_view_module_version": "1.2.0",
            "_view_name": "LayoutView",
            "align_content": null,
            "align_items": null,
            "align_self": null,
            "border": null,
            "bottom": null,
            "display": null,
            "flex": null,
            "flex_flow": null,
            "grid_area": null,
            "grid_auto_columns": null,
            "grid_auto_flow": null,
            "grid_auto_rows": null,
            "grid_column": null,
            "grid_gap": null,
            "grid_row": null,
            "grid_template_areas": null,
            "grid_template_columns": null,
            "grid_template_rows": null,
            "height": null,
            "justify_content": null,
            "justify_items": null,
            "left": null,
            "margin": null,
            "max_height": null,
            "max_width": null,
            "min_height": null,
            "min_width": null,
            "object_fit": null,
            "object_position": null,
            "order": null,
            "overflow": null,
            "overflow_x": null,
            "overflow_y": null,
            "padding": null,
            "right": null,
            "top": null,
            "visibility": null,
            "width": null
          }
        },
        "33a7c4518e954cd68a0bd27f55d6c410": {
          "model_module": "@jupyter-widgets/controls",
          "model_name": "ProgressStyleModel",
          "model_module_version": "1.5.0",
          "state": {
            "_model_module": "@jupyter-widgets/controls",
            "_model_module_version": "1.5.0",
            "_model_name": "ProgressStyleModel",
            "_view_count": null,
            "_view_module": "@jupyter-widgets/base",
            "_view_module_version": "1.2.0",
            "_view_name": "StyleView",
            "bar_color": null,
            "description_width": ""
          }
        },
        "5b29c337f287468d80f504b5ac1cd5ff": {
          "model_module": "@jupyter-widgets/base",
          "model_name": "LayoutModel",
          "model_module_version": "1.2.0",
          "state": {
            "_model_module": "@jupyter-widgets/base",
            "_model_module_version": "1.2.0",
            "_model_name": "LayoutModel",
            "_view_count": null,
            "_view_module": "@jupyter-widgets/base",
            "_view_module_version": "1.2.0",
            "_view_name": "LayoutView",
            "align_content": null,
            "align_items": null,
            "align_self": null,
            "border": null,
            "bottom": null,
            "display": null,
            "flex": null,
            "flex_flow": null,
            "grid_area": null,
            "grid_auto_columns": null,
            "grid_auto_flow": null,
            "grid_auto_rows": null,
            "grid_column": null,
            "grid_gap": null,
            "grid_row": null,
            "grid_template_areas": null,
            "grid_template_columns": null,
            "grid_template_rows": null,
            "height": null,
            "justify_content": null,
            "justify_items": null,
            "left": null,
            "margin": null,
            "max_height": null,
            "max_width": null,
            "min_height": null,
            "min_width": null,
            "object_fit": null,
            "object_position": null,
            "order": null,
            "overflow": null,
            "overflow_x": null,
            "overflow_y": null,
            "padding": null,
            "right": null,
            "top": null,
            "visibility": null,
            "width": null
          }
        },
        "5625cfb84b27420088e58568b815be9b": {
          "model_module": "@jupyter-widgets/controls",
          "model_name": "DescriptionStyleModel",
          "model_module_version": "1.5.0",
          "state": {
            "_model_module": "@jupyter-widgets/controls",
            "_model_module_version": "1.5.0",
            "_model_name": "DescriptionStyleModel",
            "_view_count": null,
            "_view_module": "@jupyter-widgets/base",
            "_view_module_version": "1.2.0",
            "_view_name": "StyleView",
            "description_width": ""
          }
        },
        "464591128148474694f7a65e1275f149": {
          "model_module": "@jupyter-widgets/controls",
          "model_name": "HBoxModel",
          "model_module_version": "1.5.0",
          "state": {
            "_dom_classes": [],
            "_model_module": "@jupyter-widgets/controls",
            "_model_module_version": "1.5.0",
            "_model_name": "HBoxModel",
            "_view_count": null,
            "_view_module": "@jupyter-widgets/controls",
            "_view_module_version": "1.5.0",
            "_view_name": "HBoxView",
            "box_style": "",
            "children": [
              "IPY_MODEL_43a9e2c1edc74cf2ac9b9b54336494e3",
              "IPY_MODEL_34876a30e2e54d23a865662e07257ba5",
              "IPY_MODEL_07282bc6c602472eae432464d924ebcd"
            ],
            "layout": "IPY_MODEL_f2cb61fa5cfb4241917644d3274f2132"
          }
        },
        "43a9e2c1edc74cf2ac9b9b54336494e3": {
          "model_module": "@jupyter-widgets/controls",
          "model_name": "HTMLModel",
          "model_module_version": "1.5.0",
          "state": {
            "_dom_classes": [],
            "_model_module": "@jupyter-widgets/controls",
            "_model_module_version": "1.5.0",
            "_model_name": "HTMLModel",
            "_view_count": null,
            "_view_module": "@jupyter-widgets/controls",
            "_view_module_version": "1.5.0",
            "_view_name": "HTMLView",
            "description": "",
            "description_tooltip": null,
            "layout": "IPY_MODEL_872889f2b7a6490783f31b8916223507",
            "placeholder": "​",
            "style": "IPY_MODEL_aa6cb106224147749f9d6ab15263d155",
            "value": ""
          }
        },
        "34876a30e2e54d23a865662e07257ba5": {
          "model_module": "@jupyter-widgets/controls",
          "model_name": "FloatProgressModel",
          "model_module_version": "1.5.0",
          "state": {
            "_dom_classes": [],
            "_model_module": "@jupyter-widgets/controls",
            "_model_module_version": "1.5.0",
            "_model_name": "FloatProgressModel",
            "_view_count": null,
            "_view_module": "@jupyter-widgets/controls",
            "_view_module_version": "1.5.0",
            "_view_name": "ProgressView",
            "bar_style": "success",
            "description": "",
            "description_tooltip": null,
            "layout": "IPY_MODEL_e7589205be7a41adb1c93eb40746945e",
            "max": 1,
            "min": 0,
            "orientation": "horizontal",
            "style": "IPY_MODEL_83b0c67b720045f09e7a945a044bf2a2",
            "value": 1
          }
        },
        "07282bc6c602472eae432464d924ebcd": {
          "model_module": "@jupyter-widgets/controls",
          "model_name": "HTMLModel",
          "model_module_version": "1.5.0",
          "state": {
            "_dom_classes": [],
            "_model_module": "@jupyter-widgets/controls",
            "_model_module_version": "1.5.0",
            "_model_name": "HTMLModel",
            "_view_count": null,
            "_view_module": "@jupyter-widgets/controls",
            "_view_module_version": "1.5.0",
            "_view_name": "HTMLView",
            "description": "",
            "description_tooltip": null,
            "layout": "IPY_MODEL_bd6cef5f726a40caac1449233b1f82d0",
            "placeholder": "​",
            "style": "IPY_MODEL_c008bc40a5054d1286a172533826b5cb",
            "value": " 9079/? [00:20&lt;00:00, 216.97ex/s]"
          }
        },
        "f2cb61fa5cfb4241917644d3274f2132": {
          "model_module": "@jupyter-widgets/base",
          "model_name": "LayoutModel",
          "model_module_version": "1.2.0",
          "state": {
            "_model_module": "@jupyter-widgets/base",
            "_model_module_version": "1.2.0",
            "_model_name": "LayoutModel",
            "_view_count": null,
            "_view_module": "@jupyter-widgets/base",
            "_view_module_version": "1.2.0",
            "_view_name": "LayoutView",
            "align_content": null,
            "align_items": null,
            "align_self": null,
            "border": null,
            "bottom": null,
            "display": null,
            "flex": null,
            "flex_flow": null,
            "grid_area": null,
            "grid_auto_columns": null,
            "grid_auto_flow": null,
            "grid_auto_rows": null,
            "grid_column": null,
            "grid_gap": null,
            "grid_row": null,
            "grid_template_areas": null,
            "grid_template_columns": null,
            "grid_template_rows": null,
            "height": null,
            "justify_content": null,
            "justify_items": null,
            "left": null,
            "margin": null,
            "max_height": null,
            "max_width": null,
            "min_height": null,
            "min_width": null,
            "object_fit": null,
            "object_position": null,
            "order": null,
            "overflow": null,
            "overflow_x": null,
            "overflow_y": null,
            "padding": null,
            "right": null,
            "top": null,
            "visibility": null,
            "width": null
          }
        },
        "872889f2b7a6490783f31b8916223507": {
          "model_module": "@jupyter-widgets/base",
          "model_name": "LayoutModel",
          "model_module_version": "1.2.0",
          "state": {
            "_model_module": "@jupyter-widgets/base",
            "_model_module_version": "1.2.0",
            "_model_name": "LayoutModel",
            "_view_count": null,
            "_view_module": "@jupyter-widgets/base",
            "_view_module_version": "1.2.0",
            "_view_name": "LayoutView",
            "align_content": null,
            "align_items": null,
            "align_self": null,
            "border": null,
            "bottom": null,
            "display": null,
            "flex": null,
            "flex_flow": null,
            "grid_area": null,
            "grid_auto_columns": null,
            "grid_auto_flow": null,
            "grid_auto_rows": null,
            "grid_column": null,
            "grid_gap": null,
            "grid_row": null,
            "grid_template_areas": null,
            "grid_template_columns": null,
            "grid_template_rows": null,
            "height": null,
            "justify_content": null,
            "justify_items": null,
            "left": null,
            "margin": null,
            "max_height": null,
            "max_width": null,
            "min_height": null,
            "min_width": null,
            "object_fit": null,
            "object_position": null,
            "order": null,
            "overflow": null,
            "overflow_x": null,
            "overflow_y": null,
            "padding": null,
            "right": null,
            "top": null,
            "visibility": null,
            "width": null
          }
        },
        "aa6cb106224147749f9d6ab15263d155": {
          "model_module": "@jupyter-widgets/controls",
          "model_name": "DescriptionStyleModel",
          "model_module_version": "1.5.0",
          "state": {
            "_model_module": "@jupyter-widgets/controls",
            "_model_module_version": "1.5.0",
            "_model_name": "DescriptionStyleModel",
            "_view_count": null,
            "_view_module": "@jupyter-widgets/base",
            "_view_module_version": "1.2.0",
            "_view_name": "StyleView",
            "description_width": ""
          }
        },
        "e7589205be7a41adb1c93eb40746945e": {
          "model_module": "@jupyter-widgets/base",
          "model_name": "LayoutModel",
          "model_module_version": "1.2.0",
          "state": {
            "_model_module": "@jupyter-widgets/base",
            "_model_module_version": "1.2.0",
            "_model_name": "LayoutModel",
            "_view_count": null,
            "_view_module": "@jupyter-widgets/base",
            "_view_module_version": "1.2.0",
            "_view_name": "LayoutView",
            "align_content": null,
            "align_items": null,
            "align_self": null,
            "border": null,
            "bottom": null,
            "display": null,
            "flex": null,
            "flex_flow": null,
            "grid_area": null,
            "grid_auto_columns": null,
            "grid_auto_flow": null,
            "grid_auto_rows": null,
            "grid_column": null,
            "grid_gap": null,
            "grid_row": null,
            "grid_template_areas": null,
            "grid_template_columns": null,
            "grid_template_rows": null,
            "height": null,
            "justify_content": null,
            "justify_items": null,
            "left": null,
            "margin": null,
            "max_height": null,
            "max_width": null,
            "min_height": null,
            "min_width": null,
            "object_fit": null,
            "object_position": null,
            "order": null,
            "overflow": null,
            "overflow_x": null,
            "overflow_y": null,
            "padding": null,
            "right": null,
            "top": null,
            "visibility": null,
            "width": "20px"
          }
        },
        "83b0c67b720045f09e7a945a044bf2a2": {
          "model_module": "@jupyter-widgets/controls",
          "model_name": "ProgressStyleModel",
          "model_module_version": "1.5.0",
          "state": {
            "_model_module": "@jupyter-widgets/controls",
            "_model_module_version": "1.5.0",
            "_model_name": "ProgressStyleModel",
            "_view_count": null,
            "_view_module": "@jupyter-widgets/base",
            "_view_module_version": "1.2.0",
            "_view_name": "StyleView",
            "bar_color": null,
            "description_width": ""
          }
        },
        "bd6cef5f726a40caac1449233b1f82d0": {
          "model_module": "@jupyter-widgets/base",
          "model_name": "LayoutModel",
          "model_module_version": "1.2.0",
          "state": {
            "_model_module": "@jupyter-widgets/base",
            "_model_module_version": "1.2.0",
            "_model_name": "LayoutModel",
            "_view_count": null,
            "_view_module": "@jupyter-widgets/base",
            "_view_module_version": "1.2.0",
            "_view_name": "LayoutView",
            "align_content": null,
            "align_items": null,
            "align_self": null,
            "border": null,
            "bottom": null,
            "display": null,
            "flex": null,
            "flex_flow": null,
            "grid_area": null,
            "grid_auto_columns": null,
            "grid_auto_flow": null,
            "grid_auto_rows": null,
            "grid_column": null,
            "grid_gap": null,
            "grid_row": null,
            "grid_template_areas": null,
            "grid_template_columns": null,
            "grid_template_rows": null,
            "height": null,
            "justify_content": null,
            "justify_items": null,
            "left": null,
            "margin": null,
            "max_height": null,
            "max_width": null,
            "min_height": null,
            "min_width": null,
            "object_fit": null,
            "object_position": null,
            "order": null,
            "overflow": null,
            "overflow_x": null,
            "overflow_y": null,
            "padding": null,
            "right": null,
            "top": null,
            "visibility": null,
            "width": null
          }
        },
        "c008bc40a5054d1286a172533826b5cb": {
          "model_module": "@jupyter-widgets/controls",
          "model_name": "DescriptionStyleModel",
          "model_module_version": "1.5.0",
          "state": {
            "_model_module": "@jupyter-widgets/controls",
            "_model_module_version": "1.5.0",
            "_model_name": "DescriptionStyleModel",
            "_view_count": null,
            "_view_module": "@jupyter-widgets/base",
            "_view_module_version": "1.2.0",
            "_view_name": "StyleView",
            "description_width": ""
          }
        },
        "920af643c5b144b3bfa53cb6a2943842": {
          "model_module": "@jupyter-widgets/controls",
          "model_name": "HBoxModel",
          "model_module_version": "1.5.0",
          "state": {
            "_dom_classes": [],
            "_model_module": "@jupyter-widgets/controls",
            "_model_module_version": "1.5.0",
            "_model_name": "HBoxModel",
            "_view_count": null,
            "_view_module": "@jupyter-widgets/controls",
            "_view_module_version": "1.5.0",
            "_view_name": "HBoxView",
            "box_style": "",
            "children": [
              "IPY_MODEL_0b5c3007fde74ce999c2ed8176a45ef9",
              "IPY_MODEL_f3d2408d0b8143ba894b4308d96a2e06",
              "IPY_MODEL_9add83cf66954d379b15701230f42d06"
            ],
            "layout": "IPY_MODEL_cc7f932885314109800a063429b651c7"
          }
        },
        "0b5c3007fde74ce999c2ed8176a45ef9": {
          "model_module": "@jupyter-widgets/controls",
          "model_name": "HTMLModel",
          "model_module_version": "1.5.0",
          "state": {
            "_dom_classes": [],
            "_model_module": "@jupyter-widgets/controls",
            "_model_module_version": "1.5.0",
            "_model_name": "HTMLModel",
            "_view_count": null,
            "_view_module": "@jupyter-widgets/controls",
            "_view_module_version": "1.5.0",
            "_view_name": "HTMLView",
            "description": "",
            "description_tooltip": null,
            "layout": "IPY_MODEL_2db7b156135747ba9024811423b32536",
            "placeholder": "​",
            "style": "IPY_MODEL_342618bc9f64445b9b605a6101926e47",
            "value": ""
          }
        },
        "f3d2408d0b8143ba894b4308d96a2e06": {
          "model_module": "@jupyter-widgets/controls",
          "model_name": "FloatProgressModel",
          "model_module_version": "1.5.0",
          "state": {
            "_dom_classes": [],
            "_model_module": "@jupyter-widgets/controls",
            "_model_module_version": "1.5.0",
            "_model_name": "FloatProgressModel",
            "_view_count": null,
            "_view_module": "@jupyter-widgets/controls",
            "_view_module_version": "1.5.0",
            "_view_name": "ProgressView",
            "bar_style": "success",
            "description": "",
            "description_tooltip": null,
            "layout": "IPY_MODEL_6649e4f6bccd464496c83f565bc247ec",
            "max": 1,
            "min": 0,
            "orientation": "horizontal",
            "style": "IPY_MODEL_40519ad1ecf047b2a25870c32409b822",
            "value": 1
          }
        },
        "9add83cf66954d379b15701230f42d06": {
          "model_module": "@jupyter-widgets/controls",
          "model_name": "HTMLModel",
          "model_module_version": "1.5.0",
          "state": {
            "_dom_classes": [],
            "_model_module": "@jupyter-widgets/controls",
            "_model_module_version": "1.5.0",
            "_model_name": "HTMLModel",
            "_view_count": null,
            "_view_module": "@jupyter-widgets/controls",
            "_view_module_version": "1.5.0",
            "_view_name": "HTMLView",
            "description": "",
            "description_tooltip": null,
            "layout": "IPY_MODEL_0923fbe1835e4cd784cc96760a998e61",
            "placeholder": "​",
            "style": "IPY_MODEL_5cc7db0ff99140c5bfdec96c6fa443ed",
            "value": " 2267/? [00:04&lt;00:00, 394.84ex/s]"
          }
        },
        "cc7f932885314109800a063429b651c7": {
          "model_module": "@jupyter-widgets/base",
          "model_name": "LayoutModel",
          "model_module_version": "1.2.0",
          "state": {
            "_model_module": "@jupyter-widgets/base",
            "_model_module_version": "1.2.0",
            "_model_name": "LayoutModel",
            "_view_count": null,
            "_view_module": "@jupyter-widgets/base",
            "_view_module_version": "1.2.0",
            "_view_name": "LayoutView",
            "align_content": null,
            "align_items": null,
            "align_self": null,
            "border": null,
            "bottom": null,
            "display": null,
            "flex": null,
            "flex_flow": null,
            "grid_area": null,
            "grid_auto_columns": null,
            "grid_auto_flow": null,
            "grid_auto_rows": null,
            "grid_column": null,
            "grid_gap": null,
            "grid_row": null,
            "grid_template_areas": null,
            "grid_template_columns": null,
            "grid_template_rows": null,
            "height": null,
            "justify_content": null,
            "justify_items": null,
            "left": null,
            "margin": null,
            "max_height": null,
            "max_width": null,
            "min_height": null,
            "min_width": null,
            "object_fit": null,
            "object_position": null,
            "order": null,
            "overflow": null,
            "overflow_x": null,
            "overflow_y": null,
            "padding": null,
            "right": null,
            "top": null,
            "visibility": null,
            "width": null
          }
        },
        "2db7b156135747ba9024811423b32536": {
          "model_module": "@jupyter-widgets/base",
          "model_name": "LayoutModel",
          "model_module_version": "1.2.0",
          "state": {
            "_model_module": "@jupyter-widgets/base",
            "_model_module_version": "1.2.0",
            "_model_name": "LayoutModel",
            "_view_count": null,
            "_view_module": "@jupyter-widgets/base",
            "_view_module_version": "1.2.0",
            "_view_name": "LayoutView",
            "align_content": null,
            "align_items": null,
            "align_self": null,
            "border": null,
            "bottom": null,
            "display": null,
            "flex": null,
            "flex_flow": null,
            "grid_area": null,
            "grid_auto_columns": null,
            "grid_auto_flow": null,
            "grid_auto_rows": null,
            "grid_column": null,
            "grid_gap": null,
            "grid_row": null,
            "grid_template_areas": null,
            "grid_template_columns": null,
            "grid_template_rows": null,
            "height": null,
            "justify_content": null,
            "justify_items": null,
            "left": null,
            "margin": null,
            "max_height": null,
            "max_width": null,
            "min_height": null,
            "min_width": null,
            "object_fit": null,
            "object_position": null,
            "order": null,
            "overflow": null,
            "overflow_x": null,
            "overflow_y": null,
            "padding": null,
            "right": null,
            "top": null,
            "visibility": null,
            "width": null
          }
        },
        "342618bc9f64445b9b605a6101926e47": {
          "model_module": "@jupyter-widgets/controls",
          "model_name": "DescriptionStyleModel",
          "model_module_version": "1.5.0",
          "state": {
            "_model_module": "@jupyter-widgets/controls",
            "_model_module_version": "1.5.0",
            "_model_name": "DescriptionStyleModel",
            "_view_count": null,
            "_view_module": "@jupyter-widgets/base",
            "_view_module_version": "1.2.0",
            "_view_name": "StyleView",
            "description_width": ""
          }
        },
        "6649e4f6bccd464496c83f565bc247ec": {
          "model_module": "@jupyter-widgets/base",
          "model_name": "LayoutModel",
          "model_module_version": "1.2.0",
          "state": {
            "_model_module": "@jupyter-widgets/base",
            "_model_module_version": "1.2.0",
            "_model_name": "LayoutModel",
            "_view_count": null,
            "_view_module": "@jupyter-widgets/base",
            "_view_module_version": "1.2.0",
            "_view_name": "LayoutView",
            "align_content": null,
            "align_items": null,
            "align_self": null,
            "border": null,
            "bottom": null,
            "display": null,
            "flex": null,
            "flex_flow": null,
            "grid_area": null,
            "grid_auto_columns": null,
            "grid_auto_flow": null,
            "grid_auto_rows": null,
            "grid_column": null,
            "grid_gap": null,
            "grid_row": null,
            "grid_template_areas": null,
            "grid_template_columns": null,
            "grid_template_rows": null,
            "height": null,
            "justify_content": null,
            "justify_items": null,
            "left": null,
            "margin": null,
            "max_height": null,
            "max_width": null,
            "min_height": null,
            "min_width": null,
            "object_fit": null,
            "object_position": null,
            "order": null,
            "overflow": null,
            "overflow_x": null,
            "overflow_y": null,
            "padding": null,
            "right": null,
            "top": null,
            "visibility": null,
            "width": "20px"
          }
        },
        "40519ad1ecf047b2a25870c32409b822": {
          "model_module": "@jupyter-widgets/controls",
          "model_name": "ProgressStyleModel",
          "model_module_version": "1.5.0",
          "state": {
            "_model_module": "@jupyter-widgets/controls",
            "_model_module_version": "1.5.0",
            "_model_name": "ProgressStyleModel",
            "_view_count": null,
            "_view_module": "@jupyter-widgets/base",
            "_view_module_version": "1.2.0",
            "_view_name": "StyleView",
            "bar_color": null,
            "description_width": ""
          }
        },
        "0923fbe1835e4cd784cc96760a998e61": {
          "model_module": "@jupyter-widgets/base",
          "model_name": "LayoutModel",
          "model_module_version": "1.2.0",
          "state": {
            "_model_module": "@jupyter-widgets/base",
            "_model_module_version": "1.2.0",
            "_model_name": "LayoutModel",
            "_view_count": null,
            "_view_module": "@jupyter-widgets/base",
            "_view_module_version": "1.2.0",
            "_view_name": "LayoutView",
            "align_content": null,
            "align_items": null,
            "align_self": null,
            "border": null,
            "bottom": null,
            "display": null,
            "flex": null,
            "flex_flow": null,
            "grid_area": null,
            "grid_auto_columns": null,
            "grid_auto_flow": null,
            "grid_auto_rows": null,
            "grid_column": null,
            "grid_gap": null,
            "grid_row": null,
            "grid_template_areas": null,
            "grid_template_columns": null,
            "grid_template_rows": null,
            "height": null,
            "justify_content": null,
            "justify_items": null,
            "left": null,
            "margin": null,
            "max_height": null,
            "max_width": null,
            "min_height": null,
            "min_width": null,
            "object_fit": null,
            "object_position": null,
            "order": null,
            "overflow": null,
            "overflow_x": null,
            "overflow_y": null,
            "padding": null,
            "right": null,
            "top": null,
            "visibility": null,
            "width": null
          }
        },
        "5cc7db0ff99140c5bfdec96c6fa443ed": {
          "model_module": "@jupyter-widgets/controls",
          "model_name": "DescriptionStyleModel",
          "model_module_version": "1.5.0",
          "state": {
            "_model_module": "@jupyter-widgets/controls",
            "_model_module_version": "1.5.0",
            "_model_name": "DescriptionStyleModel",
            "_view_count": null,
            "_view_module": "@jupyter-widgets/base",
            "_view_module_version": "1.2.0",
            "_view_name": "StyleView",
            "description_width": ""
          }
        },
        "2a904826279048ec9a4debe7cd1f7084": {
          "model_module": "@jupyter-widgets/controls",
          "model_name": "HBoxModel",
          "model_module_version": "1.5.0",
          "state": {
            "_dom_classes": [],
            "_model_module": "@jupyter-widgets/controls",
            "_model_module_version": "1.5.0",
            "_model_name": "HBoxModel",
            "_view_count": null,
            "_view_module": "@jupyter-widgets/controls",
            "_view_module_version": "1.5.0",
            "_view_name": "HBoxView",
            "box_style": "",
            "children": [
              "IPY_MODEL_e96ba5be80d44136bacc130fcf05845a",
              "IPY_MODEL_36da7ac51c664ee792e8c4c4ab92d92e",
              "IPY_MODEL_4cfb7a31095b45a2b5f7b02fff064604"
            ],
            "layout": "IPY_MODEL_c7cf3bba3e3a44168e7369a380d30a75"
          }
        },
        "e96ba5be80d44136bacc130fcf05845a": {
          "model_module": "@jupyter-widgets/controls",
          "model_name": "HTMLModel",
          "model_module_version": "1.5.0",
          "state": {
            "_dom_classes": [],
            "_model_module": "@jupyter-widgets/controls",
            "_model_module_version": "1.5.0",
            "_model_name": "HTMLModel",
            "_view_count": null,
            "_view_module": "@jupyter-widgets/controls",
            "_view_module_version": "1.5.0",
            "_view_name": "HTMLView",
            "description": "",
            "description_tooltip": null,
            "layout": "IPY_MODEL_066e5e97628548eea3631a98b3b0f31b",
            "placeholder": "​",
            "style": "IPY_MODEL_fa878d45c80341bb9a89b5bad7f5db1d",
            "value": "Downloading: "
          }
        },
        "36da7ac51c664ee792e8c4c4ab92d92e": {
          "model_module": "@jupyter-widgets/controls",
          "model_name": "FloatProgressModel",
          "model_module_version": "1.5.0",
          "state": {
            "_dom_classes": [],
            "_model_module": "@jupyter-widgets/controls",
            "_model_module_version": "1.5.0",
            "_model_name": "FloatProgressModel",
            "_view_count": null,
            "_view_module": "@jupyter-widgets/controls",
            "_view_module_version": "1.5.0",
            "_view_name": "ProgressView",
            "bar_style": "success",
            "description": "",
            "description_tooltip": null,
            "layout": "IPY_MODEL_91440cf3c2d14791a2e05913aab62086",
            "max": 1901,
            "min": 0,
            "orientation": "horizontal",
            "style": "IPY_MODEL_d087d5e85140452c9ee580187ceb2a60",
            "value": 1901
          }
        },
        "4cfb7a31095b45a2b5f7b02fff064604": {
          "model_module": "@jupyter-widgets/controls",
          "model_name": "HTMLModel",
          "model_module_version": "1.5.0",
          "state": {
            "_dom_classes": [],
            "_model_module": "@jupyter-widgets/controls",
            "_model_module_version": "1.5.0",
            "_model_name": "HTMLModel",
            "_view_count": null,
            "_view_module": "@jupyter-widgets/controls",
            "_view_module_version": "1.5.0",
            "_view_name": "HTMLView",
            "description": "",
            "description_tooltip": null,
            "layout": "IPY_MODEL_e15179be1d514d5a9d5ddec9cce411ff",
            "placeholder": "​",
            "style": "IPY_MODEL_0dc38517300247a396524b07f6cf44eb",
            "value": " 4.48k/? [00:00&lt;00:00, 221kB/s]"
          }
        },
        "c7cf3bba3e3a44168e7369a380d30a75": {
          "model_module": "@jupyter-widgets/base",
          "model_name": "LayoutModel",
          "model_module_version": "1.2.0",
          "state": {
            "_model_module": "@jupyter-widgets/base",
            "_model_module_version": "1.2.0",
            "_model_name": "LayoutModel",
            "_view_count": null,
            "_view_module": "@jupyter-widgets/base",
            "_view_module_version": "1.2.0",
            "_view_name": "LayoutView",
            "align_content": null,
            "align_items": null,
            "align_self": null,
            "border": null,
            "bottom": null,
            "display": null,
            "flex": null,
            "flex_flow": null,
            "grid_area": null,
            "grid_auto_columns": null,
            "grid_auto_flow": null,
            "grid_auto_rows": null,
            "grid_column": null,
            "grid_gap": null,
            "grid_row": null,
            "grid_template_areas": null,
            "grid_template_columns": null,
            "grid_template_rows": null,
            "height": null,
            "justify_content": null,
            "justify_items": null,
            "left": null,
            "margin": null,
            "max_height": null,
            "max_width": null,
            "min_height": null,
            "min_width": null,
            "object_fit": null,
            "object_position": null,
            "order": null,
            "overflow": null,
            "overflow_x": null,
            "overflow_y": null,
            "padding": null,
            "right": null,
            "top": null,
            "visibility": null,
            "width": null
          }
        },
        "066e5e97628548eea3631a98b3b0f31b": {
          "model_module": "@jupyter-widgets/base",
          "model_name": "LayoutModel",
          "model_module_version": "1.2.0",
          "state": {
            "_model_module": "@jupyter-widgets/base",
            "_model_module_version": "1.2.0",
            "_model_name": "LayoutModel",
            "_view_count": null,
            "_view_module": "@jupyter-widgets/base",
            "_view_module_version": "1.2.0",
            "_view_name": "LayoutView",
            "align_content": null,
            "align_items": null,
            "align_self": null,
            "border": null,
            "bottom": null,
            "display": null,
            "flex": null,
            "flex_flow": null,
            "grid_area": null,
            "grid_auto_columns": null,
            "grid_auto_flow": null,
            "grid_auto_rows": null,
            "grid_column": null,
            "grid_gap": null,
            "grid_row": null,
            "grid_template_areas": null,
            "grid_template_columns": null,
            "grid_template_rows": null,
            "height": null,
            "justify_content": null,
            "justify_items": null,
            "left": null,
            "margin": null,
            "max_height": null,
            "max_width": null,
            "min_height": null,
            "min_width": null,
            "object_fit": null,
            "object_position": null,
            "order": null,
            "overflow": null,
            "overflow_x": null,
            "overflow_y": null,
            "padding": null,
            "right": null,
            "top": null,
            "visibility": null,
            "width": null
          }
        },
        "fa878d45c80341bb9a89b5bad7f5db1d": {
          "model_module": "@jupyter-widgets/controls",
          "model_name": "DescriptionStyleModel",
          "model_module_version": "1.5.0",
          "state": {
            "_model_module": "@jupyter-widgets/controls",
            "_model_module_version": "1.5.0",
            "_model_name": "DescriptionStyleModel",
            "_view_count": null,
            "_view_module": "@jupyter-widgets/base",
            "_view_module_version": "1.2.0",
            "_view_name": "StyleView",
            "description_width": ""
          }
        },
        "91440cf3c2d14791a2e05913aab62086": {
          "model_module": "@jupyter-widgets/base",
          "model_name": "LayoutModel",
          "model_module_version": "1.2.0",
          "state": {
            "_model_module": "@jupyter-widgets/base",
            "_model_module_version": "1.2.0",
            "_model_name": "LayoutModel",
            "_view_count": null,
            "_view_module": "@jupyter-widgets/base",
            "_view_module_version": "1.2.0",
            "_view_name": "LayoutView",
            "align_content": null,
            "align_items": null,
            "align_self": null,
            "border": null,
            "bottom": null,
            "display": null,
            "flex": null,
            "flex_flow": null,
            "grid_area": null,
            "grid_auto_columns": null,
            "grid_auto_flow": null,
            "grid_auto_rows": null,
            "grid_column": null,
            "grid_gap": null,
            "grid_row": null,
            "grid_template_areas": null,
            "grid_template_columns": null,
            "grid_template_rows": null,
            "height": null,
            "justify_content": null,
            "justify_items": null,
            "left": null,
            "margin": null,
            "max_height": null,
            "max_width": null,
            "min_height": null,
            "min_width": null,
            "object_fit": null,
            "object_position": null,
            "order": null,
            "overflow": null,
            "overflow_x": null,
            "overflow_y": null,
            "padding": null,
            "right": null,
            "top": null,
            "visibility": null,
            "width": null
          }
        },
        "d087d5e85140452c9ee580187ceb2a60": {
          "model_module": "@jupyter-widgets/controls",
          "model_name": "ProgressStyleModel",
          "model_module_version": "1.5.0",
          "state": {
            "_model_module": "@jupyter-widgets/controls",
            "_model_module_version": "1.5.0",
            "_model_name": "ProgressStyleModel",
            "_view_count": null,
            "_view_module": "@jupyter-widgets/base",
            "_view_module_version": "1.2.0",
            "_view_name": "StyleView",
            "bar_color": null,
            "description_width": ""
          }
        },
        "e15179be1d514d5a9d5ddec9cce411ff": {
          "model_module": "@jupyter-widgets/base",
          "model_name": "LayoutModel",
          "model_module_version": "1.2.0",
          "state": {
            "_model_module": "@jupyter-widgets/base",
            "_model_module_version": "1.2.0",
            "_model_name": "LayoutModel",
            "_view_count": null,
            "_view_module": "@jupyter-widgets/base",
            "_view_module_version": "1.2.0",
            "_view_name": "LayoutView",
            "align_content": null,
            "align_items": null,
            "align_self": null,
            "border": null,
            "bottom": null,
            "display": null,
            "flex": null,
            "flex_flow": null,
            "grid_area": null,
            "grid_auto_columns": null,
            "grid_auto_flow": null,
            "grid_auto_rows": null,
            "grid_column": null,
            "grid_gap": null,
            "grid_row": null,
            "grid_template_areas": null,
            "grid_template_columns": null,
            "grid_template_rows": null,
            "height": null,
            "justify_content": null,
            "justify_items": null,
            "left": null,
            "margin": null,
            "max_height": null,
            "max_width": null,
            "min_height": null,
            "min_width": null,
            "object_fit": null,
            "object_position": null,
            "order": null,
            "overflow": null,
            "overflow_x": null,
            "overflow_y": null,
            "padding": null,
            "right": null,
            "top": null,
            "visibility": null,
            "width": null
          }
        },
        "0dc38517300247a396524b07f6cf44eb": {
          "model_module": "@jupyter-widgets/controls",
          "model_name": "DescriptionStyleModel",
          "model_module_version": "1.5.0",
          "state": {
            "_model_module": "@jupyter-widgets/controls",
            "_model_module_version": "1.5.0",
            "_model_name": "DescriptionStyleModel",
            "_view_count": null,
            "_view_module": "@jupyter-widgets/base",
            "_view_module_version": "1.2.0",
            "_view_name": "StyleView",
            "description_width": ""
          }
        },
        "64d1f4557d534ba18fd3f261357cf7cf": {
          "model_module": "@jupyter-widgets/controls",
          "model_name": "HBoxModel",
          "model_module_version": "1.5.0",
          "state": {
            "_dom_classes": [],
            "_model_module": "@jupyter-widgets/controls",
            "_model_module_version": "1.5.0",
            "_model_name": "HBoxModel",
            "_view_count": null,
            "_view_module": "@jupyter-widgets/controls",
            "_view_module_version": "1.5.0",
            "_view_name": "HBoxView",
            "box_style": "",
            "children": [
              "IPY_MODEL_5fcc294078e74154954b8357f8113107",
              "IPY_MODEL_5c31b6d579df4f0493d2d9539664772f",
              "IPY_MODEL_001be00b4089442b8c72bee2707a039f"
            ],
            "layout": "IPY_MODEL_014a3cc5b043476bbea35b721f234c59"
          }
        },
        "5fcc294078e74154954b8357f8113107": {
          "model_module": "@jupyter-widgets/controls",
          "model_name": "HTMLModel",
          "model_module_version": "1.5.0",
          "state": {
            "_dom_classes": [],
            "_model_module": "@jupyter-widgets/controls",
            "_model_module_version": "1.5.0",
            "_model_name": "HTMLModel",
            "_view_count": null,
            "_view_module": "@jupyter-widgets/controls",
            "_view_module_version": "1.5.0",
            "_view_name": "HTMLView",
            "description": "",
            "description_tooltip": null,
            "layout": "IPY_MODEL_9604eb051ea844908fdcc0b18aec89c3",
            "placeholder": "​",
            "style": "IPY_MODEL_684f93392b6749a4881a5eaa65a38911",
            "value": "Downloading: 100%"
          }
        },
        "5c31b6d579df4f0493d2d9539664772f": {
          "model_module": "@jupyter-widgets/controls",
          "model_name": "FloatProgressModel",
          "model_module_version": "1.5.0",
          "state": {
            "_dom_classes": [],
            "_model_module": "@jupyter-widgets/controls",
            "_model_module_version": "1.5.0",
            "_model_name": "FloatProgressModel",
            "_view_count": null,
            "_view_module": "@jupyter-widgets/controls",
            "_view_module_version": "1.5.0",
            "_view_name": "ProgressView",
            "bar_style": "success",
            "description": "",
            "description_tooltip": null,
            "layout": "IPY_MODEL_bf2130bbe1cb42c7aaa0e20e907f3c81",
            "max": 1568,
            "min": 0,
            "orientation": "horizontal",
            "style": "IPY_MODEL_478f3f017de341f4ac31078d59b18c1f",
            "value": 1568
          }
        },
        "001be00b4089442b8c72bee2707a039f": {
          "model_module": "@jupyter-widgets/controls",
          "model_name": "HTMLModel",
          "model_module_version": "1.5.0",
          "state": {
            "_dom_classes": [],
            "_model_module": "@jupyter-widgets/controls",
            "_model_module_version": "1.5.0",
            "_model_name": "HTMLModel",
            "_view_count": null,
            "_view_module": "@jupyter-widgets/controls",
            "_view_module_version": "1.5.0",
            "_view_name": "HTMLView",
            "description": "",
            "description_tooltip": null,
            "layout": "IPY_MODEL_b4cd840f566d49d6a99bbe84137b052c",
            "placeholder": "​",
            "style": "IPY_MODEL_f00705bd18b544df985d57e999f66055",
            "value": " 1.53k/1.53k [00:00&lt;00:00, 95.7kB/s]"
          }
        },
        "014a3cc5b043476bbea35b721f234c59": {
          "model_module": "@jupyter-widgets/base",
          "model_name": "LayoutModel",
          "model_module_version": "1.2.0",
          "state": {
            "_model_module": "@jupyter-widgets/base",
            "_model_module_version": "1.2.0",
            "_model_name": "LayoutModel",
            "_view_count": null,
            "_view_module": "@jupyter-widgets/base",
            "_view_module_version": "1.2.0",
            "_view_name": "LayoutView",
            "align_content": null,
            "align_items": null,
            "align_self": null,
            "border": null,
            "bottom": null,
            "display": null,
            "flex": null,
            "flex_flow": null,
            "grid_area": null,
            "grid_auto_columns": null,
            "grid_auto_flow": null,
            "grid_auto_rows": null,
            "grid_column": null,
            "grid_gap": null,
            "grid_row": null,
            "grid_template_areas": null,
            "grid_template_columns": null,
            "grid_template_rows": null,
            "height": null,
            "justify_content": null,
            "justify_items": null,
            "left": null,
            "margin": null,
            "max_height": null,
            "max_width": null,
            "min_height": null,
            "min_width": null,
            "object_fit": null,
            "object_position": null,
            "order": null,
            "overflow": null,
            "overflow_x": null,
            "overflow_y": null,
            "padding": null,
            "right": null,
            "top": null,
            "visibility": null,
            "width": null
          }
        },
        "9604eb051ea844908fdcc0b18aec89c3": {
          "model_module": "@jupyter-widgets/base",
          "model_name": "LayoutModel",
          "model_module_version": "1.2.0",
          "state": {
            "_model_module": "@jupyter-widgets/base",
            "_model_module_version": "1.2.0",
            "_model_name": "LayoutModel",
            "_view_count": null,
            "_view_module": "@jupyter-widgets/base",
            "_view_module_version": "1.2.0",
            "_view_name": "LayoutView",
            "align_content": null,
            "align_items": null,
            "align_self": null,
            "border": null,
            "bottom": null,
            "display": null,
            "flex": null,
            "flex_flow": null,
            "grid_area": null,
            "grid_auto_columns": null,
            "grid_auto_flow": null,
            "grid_auto_rows": null,
            "grid_column": null,
            "grid_gap": null,
            "grid_row": null,
            "grid_template_areas": null,
            "grid_template_columns": null,
            "grid_template_rows": null,
            "height": null,
            "justify_content": null,
            "justify_items": null,
            "left": null,
            "margin": null,
            "max_height": null,
            "max_width": null,
            "min_height": null,
            "min_width": null,
            "object_fit": null,
            "object_position": null,
            "order": null,
            "overflow": null,
            "overflow_x": null,
            "overflow_y": null,
            "padding": null,
            "right": null,
            "top": null,
            "visibility": null,
            "width": null
          }
        },
        "684f93392b6749a4881a5eaa65a38911": {
          "model_module": "@jupyter-widgets/controls",
          "model_name": "DescriptionStyleModel",
          "model_module_version": "1.5.0",
          "state": {
            "_model_module": "@jupyter-widgets/controls",
            "_model_module_version": "1.5.0",
            "_model_name": "DescriptionStyleModel",
            "_view_count": null,
            "_view_module": "@jupyter-widgets/base",
            "_view_module_version": "1.2.0",
            "_view_name": "StyleView",
            "description_width": ""
          }
        },
        "bf2130bbe1cb42c7aaa0e20e907f3c81": {
          "model_module": "@jupyter-widgets/base",
          "model_name": "LayoutModel",
          "model_module_version": "1.2.0",
          "state": {
            "_model_module": "@jupyter-widgets/base",
            "_model_module_version": "1.2.0",
            "_model_name": "LayoutModel",
            "_view_count": null,
            "_view_module": "@jupyter-widgets/base",
            "_view_module_version": "1.2.0",
            "_view_name": "LayoutView",
            "align_content": null,
            "align_items": null,
            "align_self": null,
            "border": null,
            "bottom": null,
            "display": null,
            "flex": null,
            "flex_flow": null,
            "grid_area": null,
            "grid_auto_columns": null,
            "grid_auto_flow": null,
            "grid_auto_rows": null,
            "grid_column": null,
            "grid_gap": null,
            "grid_row": null,
            "grid_template_areas": null,
            "grid_template_columns": null,
            "grid_template_rows": null,
            "height": null,
            "justify_content": null,
            "justify_items": null,
            "left": null,
            "margin": null,
            "max_height": null,
            "max_width": null,
            "min_height": null,
            "min_width": null,
            "object_fit": null,
            "object_position": null,
            "order": null,
            "overflow": null,
            "overflow_x": null,
            "overflow_y": null,
            "padding": null,
            "right": null,
            "top": null,
            "visibility": null,
            "width": null
          }
        },
        "478f3f017de341f4ac31078d59b18c1f": {
          "model_module": "@jupyter-widgets/controls",
          "model_name": "ProgressStyleModel",
          "model_module_version": "1.5.0",
          "state": {
            "_model_module": "@jupyter-widgets/controls",
            "_model_module_version": "1.5.0",
            "_model_name": "ProgressStyleModel",
            "_view_count": null,
            "_view_module": "@jupyter-widgets/base",
            "_view_module_version": "1.2.0",
            "_view_name": "StyleView",
            "bar_color": null,
            "description_width": ""
          }
        },
        "b4cd840f566d49d6a99bbe84137b052c": {
          "model_module": "@jupyter-widgets/base",
          "model_name": "LayoutModel",
          "model_module_version": "1.2.0",
          "state": {
            "_model_module": "@jupyter-widgets/base",
            "_model_module_version": "1.2.0",
            "_model_name": "LayoutModel",
            "_view_count": null,
            "_view_module": "@jupyter-widgets/base",
            "_view_module_version": "1.2.0",
            "_view_name": "LayoutView",
            "align_content": null,
            "align_items": null,
            "align_self": null,
            "border": null,
            "bottom": null,
            "display": null,
            "flex": null,
            "flex_flow": null,
            "grid_area": null,
            "grid_auto_columns": null,
            "grid_auto_flow": null,
            "grid_auto_rows": null,
            "grid_column": null,
            "grid_gap": null,
            "grid_row": null,
            "grid_template_areas": null,
            "grid_template_columns": null,
            "grid_template_rows": null,
            "height": null,
            "justify_content": null,
            "justify_items": null,
            "left": null,
            "margin": null,
            "max_height": null,
            "max_width": null,
            "min_height": null,
            "min_width": null,
            "object_fit": null,
            "object_position": null,
            "order": null,
            "overflow": null,
            "overflow_x": null,
            "overflow_y": null,
            "padding": null,
            "right": null,
            "top": null,
            "visibility": null,
            "width": null
          }
        },
        "f00705bd18b544df985d57e999f66055": {
          "model_module": "@jupyter-widgets/controls",
          "model_name": "DescriptionStyleModel",
          "model_module_version": "1.5.0",
          "state": {
            "_model_module": "@jupyter-widgets/controls",
            "_model_module_version": "1.5.0",
            "_model_name": "DescriptionStyleModel",
            "_view_count": null,
            "_view_module": "@jupyter-widgets/base",
            "_view_module_version": "1.2.0",
            "_view_name": "StyleView",
            "description_width": ""
          }
        },
        "83868e6981c1410fb9137965a112f536": {
          "model_module": "@jupyter-widgets/controls",
          "model_name": "HBoxModel",
          "model_module_version": "1.5.0",
          "state": {
            "_dom_classes": [],
            "_model_module": "@jupyter-widgets/controls",
            "_model_module_version": "1.5.0",
            "_model_name": "HBoxModel",
            "_view_count": null,
            "_view_module": "@jupyter-widgets/controls",
            "_view_module_version": "1.5.0",
            "_view_name": "HBoxView",
            "box_style": "",
            "children": [
              "IPY_MODEL_2eb190a96f8d40439087e273e0dc59e3",
              "IPY_MODEL_dadf70ab1bc044b79003409e194bf80b",
              "IPY_MODEL_99a3d8f12f384894a2f5e052501589d4"
            ],
            "layout": "IPY_MODEL_1330e1bfc11c47448aa0efced1ef19ec"
          }
        },
        "2eb190a96f8d40439087e273e0dc59e3": {
          "model_module": "@jupyter-widgets/controls",
          "model_name": "HTMLModel",
          "model_module_version": "1.5.0",
          "state": {
            "_dom_classes": [],
            "_model_module": "@jupyter-widgets/controls",
            "_model_module_version": "1.5.0",
            "_model_name": "HTMLModel",
            "_view_count": null,
            "_view_module": "@jupyter-widgets/controls",
            "_view_module_version": "1.5.0",
            "_view_name": "HTMLView",
            "description": "",
            "description_tooltip": null,
            "layout": "IPY_MODEL_e37c1e168a774b3e8a670d455e84bcd4",
            "placeholder": "​",
            "style": "IPY_MODEL_08c507ad2e9c40169ca71bee5cb033dc",
            "value": "Downloading: 100%"
          }
        },
        "dadf70ab1bc044b79003409e194bf80b": {
          "model_module": "@jupyter-widgets/controls",
          "model_name": "FloatProgressModel",
          "model_module_version": "1.5.0",
          "state": {
            "_dom_classes": [],
            "_model_module": "@jupyter-widgets/controls",
            "_model_module_version": "1.5.0",
            "_model_name": "FloatProgressModel",
            "_view_count": null,
            "_view_module": "@jupyter-widgets/controls",
            "_view_module_version": "1.5.0",
            "_view_name": "ProgressView",
            "bar_style": "success",
            "description": "",
            "description_tooltip": null,
            "layout": "IPY_MODEL_a2c4a9ddb0294f61a31394b4ea0f5520",
            "max": 1269737156,
            "min": 0,
            "orientation": "horizontal",
            "style": "IPY_MODEL_658b38b8617145d591630fef14012ade",
            "value": 1269737156
          }
        },
        "99a3d8f12f384894a2f5e052501589d4": {
          "model_module": "@jupyter-widgets/controls",
          "model_name": "HTMLModel",
          "model_module_version": "1.5.0",
          "state": {
            "_dom_classes": [],
            "_model_module": "@jupyter-widgets/controls",
            "_model_module_version": "1.5.0",
            "_model_name": "HTMLModel",
            "_view_count": null,
            "_view_module": "@jupyter-widgets/controls",
            "_view_module_version": "1.5.0",
            "_view_name": "HTMLView",
            "description": "",
            "description_tooltip": null,
            "layout": "IPY_MODEL_d3fea4977a044b0c9f1f8235fd3e1a25",
            "placeholder": "​",
            "style": "IPY_MODEL_9d59197bd20c4d5a9a32077004877f6f",
            "value": " 1.18G/1.18G [00:20&lt;00:00, 64.9MB/s]"
          }
        },
        "1330e1bfc11c47448aa0efced1ef19ec": {
          "model_module": "@jupyter-widgets/base",
          "model_name": "LayoutModel",
          "model_module_version": "1.2.0",
          "state": {
            "_model_module": "@jupyter-widgets/base",
            "_model_module_version": "1.2.0",
            "_model_name": "LayoutModel",
            "_view_count": null,
            "_view_module": "@jupyter-widgets/base",
            "_view_module_version": "1.2.0",
            "_view_name": "LayoutView",
            "align_content": null,
            "align_items": null,
            "align_self": null,
            "border": null,
            "bottom": null,
            "display": null,
            "flex": null,
            "flex_flow": null,
            "grid_area": null,
            "grid_auto_columns": null,
            "grid_auto_flow": null,
            "grid_auto_rows": null,
            "grid_column": null,
            "grid_gap": null,
            "grid_row": null,
            "grid_template_areas": null,
            "grid_template_columns": null,
            "grid_template_rows": null,
            "height": null,
            "justify_content": null,
            "justify_items": null,
            "left": null,
            "margin": null,
            "max_height": null,
            "max_width": null,
            "min_height": null,
            "min_width": null,
            "object_fit": null,
            "object_position": null,
            "order": null,
            "overflow": null,
            "overflow_x": null,
            "overflow_y": null,
            "padding": null,
            "right": null,
            "top": null,
            "visibility": null,
            "width": null
          }
        },
        "e37c1e168a774b3e8a670d455e84bcd4": {
          "model_module": "@jupyter-widgets/base",
          "model_name": "LayoutModel",
          "model_module_version": "1.2.0",
          "state": {
            "_model_module": "@jupyter-widgets/base",
            "_model_module_version": "1.2.0",
            "_model_name": "LayoutModel",
            "_view_count": null,
            "_view_module": "@jupyter-widgets/base",
            "_view_module_version": "1.2.0",
            "_view_name": "LayoutView",
            "align_content": null,
            "align_items": null,
            "align_self": null,
            "border": null,
            "bottom": null,
            "display": null,
            "flex": null,
            "flex_flow": null,
            "grid_area": null,
            "grid_auto_columns": null,
            "grid_auto_flow": null,
            "grid_auto_rows": null,
            "grid_column": null,
            "grid_gap": null,
            "grid_row": null,
            "grid_template_areas": null,
            "grid_template_columns": null,
            "grid_template_rows": null,
            "height": null,
            "justify_content": null,
            "justify_items": null,
            "left": null,
            "margin": null,
            "max_height": null,
            "max_width": null,
            "min_height": null,
            "min_width": null,
            "object_fit": null,
            "object_position": null,
            "order": null,
            "overflow": null,
            "overflow_x": null,
            "overflow_y": null,
            "padding": null,
            "right": null,
            "top": null,
            "visibility": null,
            "width": null
          }
        },
        "08c507ad2e9c40169ca71bee5cb033dc": {
          "model_module": "@jupyter-widgets/controls",
          "model_name": "DescriptionStyleModel",
          "model_module_version": "1.5.0",
          "state": {
            "_model_module": "@jupyter-widgets/controls",
            "_model_module_version": "1.5.0",
            "_model_name": "DescriptionStyleModel",
            "_view_count": null,
            "_view_module": "@jupyter-widgets/base",
            "_view_module_version": "1.2.0",
            "_view_name": "StyleView",
            "description_width": ""
          }
        },
        "a2c4a9ddb0294f61a31394b4ea0f5520": {
          "model_module": "@jupyter-widgets/base",
          "model_name": "LayoutModel",
          "model_module_version": "1.2.0",
          "state": {
            "_model_module": "@jupyter-widgets/base",
            "_model_module_version": "1.2.0",
            "_model_name": "LayoutModel",
            "_view_count": null,
            "_view_module": "@jupyter-widgets/base",
            "_view_module_version": "1.2.0",
            "_view_name": "LayoutView",
            "align_content": null,
            "align_items": null,
            "align_self": null,
            "border": null,
            "bottom": null,
            "display": null,
            "flex": null,
            "flex_flow": null,
            "grid_area": null,
            "grid_auto_columns": null,
            "grid_auto_flow": null,
            "grid_auto_rows": null,
            "grid_column": null,
            "grid_gap": null,
            "grid_row": null,
            "grid_template_areas": null,
            "grid_template_columns": null,
            "grid_template_rows": null,
            "height": null,
            "justify_content": null,
            "justify_items": null,
            "left": null,
            "margin": null,
            "max_height": null,
            "max_width": null,
            "min_height": null,
            "min_width": null,
            "object_fit": null,
            "object_position": null,
            "order": null,
            "overflow": null,
            "overflow_x": null,
            "overflow_y": null,
            "padding": null,
            "right": null,
            "top": null,
            "visibility": null,
            "width": null
          }
        },
        "658b38b8617145d591630fef14012ade": {
          "model_module": "@jupyter-widgets/controls",
          "model_name": "ProgressStyleModel",
          "model_module_version": "1.5.0",
          "state": {
            "_model_module": "@jupyter-widgets/controls",
            "_model_module_version": "1.5.0",
            "_model_name": "ProgressStyleModel",
            "_view_count": null,
            "_view_module": "@jupyter-widgets/base",
            "_view_module_version": "1.2.0",
            "_view_name": "StyleView",
            "bar_color": null,
            "description_width": ""
          }
        },
        "d3fea4977a044b0c9f1f8235fd3e1a25": {
          "model_module": "@jupyter-widgets/base",
          "model_name": "LayoutModel",
          "model_module_version": "1.2.0",
          "state": {
            "_model_module": "@jupyter-widgets/base",
            "_model_module_version": "1.2.0",
            "_model_name": "LayoutModel",
            "_view_count": null,
            "_view_module": "@jupyter-widgets/base",
            "_view_module_version": "1.2.0",
            "_view_name": "LayoutView",
            "align_content": null,
            "align_items": null,
            "align_self": null,
            "border": null,
            "bottom": null,
            "display": null,
            "flex": null,
            "flex_flow": null,
            "grid_area": null,
            "grid_auto_columns": null,
            "grid_auto_flow": null,
            "grid_auto_rows": null,
            "grid_column": null,
            "grid_gap": null,
            "grid_row": null,
            "grid_template_areas": null,
            "grid_template_columns": null,
            "grid_template_rows": null,
            "height": null,
            "justify_content": null,
            "justify_items": null,
            "left": null,
            "margin": null,
            "max_height": null,
            "max_width": null,
            "min_height": null,
            "min_width": null,
            "object_fit": null,
            "object_position": null,
            "order": null,
            "overflow": null,
            "overflow_x": null,
            "overflow_y": null,
            "padding": null,
            "right": null,
            "top": null,
            "visibility": null,
            "width": null
          }
        },
        "9d59197bd20c4d5a9a32077004877f6f": {
          "model_module": "@jupyter-widgets/controls",
          "model_name": "DescriptionStyleModel",
          "model_module_version": "1.5.0",
          "state": {
            "_model_module": "@jupyter-widgets/controls",
            "_model_module_version": "1.5.0",
            "_model_name": "DescriptionStyleModel",
            "_view_count": null,
            "_view_module": "@jupyter-widgets/base",
            "_view_module_version": "1.2.0",
            "_view_name": "StyleView",
            "description_width": ""
          }
        }
      }
    },
    "gpuClass": "standard"
  },
  "nbformat": 4,
  "nbformat_minor": 0
}